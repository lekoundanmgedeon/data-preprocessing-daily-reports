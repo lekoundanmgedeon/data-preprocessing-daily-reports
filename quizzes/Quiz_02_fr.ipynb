{
 "cells": [
  {
   "cell_type": "markdown",
   "id": "92bf23c4",
   "metadata": {},
   "source": [
    "\n",
    "<h1 style=\"text-align: center;\"><a title=\"Data Science-AIMS-Cmr-2021-22\">Quiz 2: Dataclasses </h1>\n",
    "\n",
    "**Instructor:** \n",
    "\n",
    "* Rockefeller"
   ]
  },
  {
   "cell_type": "markdown",
   "id": "cace146a",
   "metadata": {},
   "source": [
    "# LEKOUNDA NGOLO Mardochet Gedeon "
   ]
  },
  {
   "cell_type": "markdown",
   "id": "3b9599f8",
   "metadata": {},
   "source": [
    "### **Quiz : La faune du Cameroun**\n",
    "\n",
    "#### **Introduction**\n",
    "Dans les forêts tropicales du Cameroun, il y a deux animaux incroyables : la **grenouille Goliath** et le **perroquet gris d’Afrique**.\n",
    "\n",
    "- La **grenouille Goliath** est la plus grande grenouille du monde. Elle peut mesurer jusqu’à **32 cm de long** et peser jusqu’à **3,3 kg**. Elle vit près des rivières et a une peau vert-brun.\n",
    "- Le **perroquet gris d’Afrique** est un oiseau très intelligent. Il peut vivre jusqu’à **50 ans**, est généralement **gris** avec une **queue rouge**, et peut imiter la parole humaine !\n"
   ]
  },
  {
   "cell_type": "markdown",
   "id": "533c481c",
   "metadata": {},
   "source": [
    "### **Question 1 : Identifier les attributs**\n",
    "**Tâche :** Pour chaque animal, listez au moins **trois attributs** qui pourraient être utilisés pour créer une classe `Grenouille` et une classe `Perroquet`. "
   ]
  },
  {
   "cell_type": "code",
   "execution_count": 3,
   "id": "8095eac5",
   "metadata": {},
   "outputs": [],
   "source": [
    "from dataclasses import dataclass\n",
    "from typing import Literal"
   ]
  },
  {
   "cell_type": "code",
   "execution_count": null,
   "id": "27b8cf9c",
   "metadata": {},
   "outputs": [],
   "source": [
    "from pydantic import BaseModel"
   ]
  },
  {
   "cell_type": "code",
   "execution_count": 25,
   "id": "dee4c7e0",
   "metadata": {},
   "outputs": [],
   "source": [
    "@dataclass \n",
    "class Grenouille:\n",
    "    taille: float  \n",
    "    poids: float \n",
    "    couleur: str\n",
    "\n",
    "\n",
    "#class GrenouilleGoliathModel(BaseModel):"
   ]
  },
  {
   "cell_type": "code",
   "execution_count": 26,
   "id": "ed5b9462",
   "metadata": {},
   "outputs": [],
   "source": [
    "@dataclass \n",
    "class Peroquet:\n",
    "    poids: float \n",
    "    couleur: str \n",
    "    parole : Literal[True] = False"
   ]
  },
  {
   "cell_type": "code",
   "execution_count": 27,
   "id": "e6f32762",
   "metadata": {},
   "outputs": [],
   "source": [
    "GrenouilleGoliath_1 = Grenouille(taille=32.0, poids=3.3, couleur=\"verte\") \n",
    "GrenouilleGoliath_2 = Grenouille(taille=35.0, poids=3.3, couleur=\"blue\") \n",
    "GrenouilleGoliath_3 = Grenouille(taille=40.0, poids=3.3, couleur=\"verte\") "
   ]
  },
  {
   "cell_type": "code",
   "execution_count": 28,
   "id": "48fe220a",
   "metadata": {},
   "outputs": [],
   "source": [
    "perroquet_1 = Peroquet(poids=1.0, couleur=\"rouge\", parole=True) \n",
    "perroquet_2 = Peroquet(poids=0.5, couleur=\"bleu\")\n",
    "perroquet_3 = Peroquet(poids=0.8, couleur=\"vert\", parole=False)\n"
   ]
  },
  {
   "cell_type": "markdown",
   "id": "7327fb93",
   "metadata": {},
   "source": [
    "### **Question 2 : Créer des dataclasses**\n",
    "Créez deux sous-classes : `Grenouille` et `Perroquet`, chacune avec ses propres attributs. Instanciez un objet pour chaque sous-classe.\n"
   ]
  },
  {
   "cell_type": "code",
   "execution_count": 29,
   "id": "0ca6002c",
   "metadata": {},
   "outputs": [
    {
     "name": "stdout",
     "output_type": "stream",
     "text": [
      "Grenouille Goliath: GrenouilleGoliath(taille=32.0, poids=3.5, couleur='verte'), Est Goliath: True\n"
     ]
    }
   ],
   "source": [
    "\n",
    "@dataclass\n",
    "class GrenouilleGoliath(Grenouille):\n",
    "    def est_goliath(self) -> bool:\n",
    "        return self.taille >= 30.0 and self.poids >= 3.0\n",
    "    \n",
    "goliath = GrenouilleGoliath(taille=32.0, poids=3.5, couleur=\"verte\")\n",
    "print(f\"Grenouille Goliath: {goliath}, Est Goliath: {goliath.est_goliath()}\")\n"
   ]
  },
  {
   "cell_type": "code",
   "execution_count": 30,
   "id": "6a7a8fe6",
   "metadata": {},
   "outputs": [
    {
     "name": "stdout",
     "output_type": "stream",
     "text": [
      "Perroquet Parleur: PerroquetParleur(poids=1.2, couleur='rouge', parole=True), Peut parler: True\n"
     ]
    }
   ],
   "source": [
    "@dataclass\n",
    "class PerroquetParleur(Peroquet):\n",
    "    def peut_parler(self) -> bool:\n",
    "        return self.parole  \n",
    "\n",
    "perroquet = PerroquetParleur(poids=1.2, couleur=\"rouge\", parole=True)\n",
    "print(f\"Perroquet Parleur: {perroquet}, Peut parler: {perroquet.peut_parler()}\")"
   ]
  },
  {
   "cell_type": "markdown",
   "id": "9884f83d",
   "metadata": {},
   "source": [
    "### **Question 3 : Créer une dataclass avec un attribut commun**\n",
    "\n",
    "Définissez une dataclass appelée `Animal` avec un attribut commun aux deux animaux."
   ]
  },
  {
   "cell_type": "code",
   "execution_count": 4,
   "id": "5268746a",
   "metadata": {},
   "outputs": [],
   "source": [
    "@dataclass \n",
    "class Animal:\n",
    "    espece: str\n",
    "    taille: float\n",
    "    poids: float\n",
    "    couleur: str\n",
    "    parole: Literal[True] = False"
   ]
  },
  {
   "cell_type": "code",
   "execution_count": null,
   "id": "de198b07",
   "metadata": {},
   "outputs": [],
   "source": []
  },
  {
   "cell_type": "code",
   "execution_count": null,
   "id": "e1d8fc1d",
   "metadata": {},
   "outputs": [],
   "source": []
  },
  {
   "cell_type": "code",
   "execution_count": null,
   "id": "42f42a13",
   "metadata": {},
   "outputs": [],
   "source": []
  },
  {
   "cell_type": "code",
   "execution_count": null,
   "id": "96ffac6b",
   "metadata": {},
   "outputs": [],
   "source": []
  },
  {
   "cell_type": "code",
   "execution_count": null,
   "id": "427ed0be",
   "metadata": {},
   "outputs": [],
   "source": []
  },
  {
   "cell_type": "markdown",
   "id": "4f13732c",
   "metadata": {},
   "source": [
    "### **Question 4 : Utiliser les types Littéral**\n",
    "\n",
    "Modifiez la dataclass `Perroquet` pour que l’attribut `couleur` ne puisse prendre que l’une des valeurs suivantes : `\"gris\"`, `\"rouge\"`, ou `\"blanc\"`. Utilisez le type `Literal` de Python pour imposer cette restriction."
   ]
  },
  {
   "cell_type": "code",
   "execution_count": null,
   "id": "393ef658",
   "metadata": {},
   "outputs": [],
   "source": [
    "@dataclass\n",
    "class BetterPeroquet:\n",
    "    poids: float \n",
    "    couleur: Literal[\"gris\", \"rouge\", \"Blanc\"]\n",
    "    parole : Literal[True] = False"
   ]
  },
  {
   "cell_type": "code",
   "execution_count": null,
   "id": "f4bea24f",
   "metadata": {},
   "outputs": [],
   "source": [
    "perroquet_4 = BetterPeroquet(poids=1.0, couleur=\"rouge\", parole=True) \n",
    "perroquet_4"
   ]
  },
  {
   "cell_type": "code",
   "execution_count": null,
   "id": "cf664a65",
   "metadata": {},
   "outputs": [],
   "source": []
  },
  {
   "cell_type": "markdown",
   "id": "50d21c38",
   "metadata": {},
   "source": [
    "### **Question 5 : Convertir en Pydantic BaseModel**\n",
    "\n",
    "Réécrivez les classes `Animal`, `Grenouille` et `Perroquet` en utilisant `BaseModel` de Pydantic au lieu des dataclasses. Assurez-vous que tous les attributs sont correctement typés et ajoutez une validation pour l’attribut `couleur` de `Perroquet`."
   ]
  },
  {
   "cell_type": "code",
   "execution_count": null,
   "id": "2310edb9",
   "metadata": {},
   "outputs": [],
   "source": [
    "@dataclass\n",
    "class GrenouilleModel(BaseModel):\n",
    "    taille: float  \n",
    "    poids: float \n",
    "    couleur: str"
   ]
  },
  {
   "cell_type": "code",
   "execution_count": null,
   "id": "0464029b",
   "metadata": {},
   "outputs": [],
   "source": [
    "@dataclass\n",
    "class perroquetModel(BaseModel):\n",
    "    poids: float \n",
    "    couleur: Literal[\"gris\", \"rouge\", \"Blanc\"]\n",
    "    parole : Literal[True] = False"
   ]
  },
  {
   "cell_type": "code",
   "execution_count": null,
   "id": "14dcd82b",
   "metadata": {},
   "outputs": [],
   "source": [
    "@dataclass \n",
    "class Animal(BaseModel):\n",
    "    espece: str"
   ]
  },
  {
   "cell_type": "code",
   "execution_count": 21,
   "id": "51bae225",
   "metadata": {},
   "outputs": [
    {
     "ename": "AttributeError",
     "evalue": "'perroquetModel' object has no attribute '__pydantic_fields_set__'",
     "output_type": "error",
     "traceback": [
      "\u001b[0;31m---------------------------------------------------------------------------\u001b[0m",
      "\u001b[0;31mAttributeError\u001b[0m                            Traceback (most recent call last)",
      "Cell \u001b[0;32mIn[21], line 2\u001b[0m\n\u001b[1;32m      1\u001b[0m \u001b[38;5;66;03m#Grenouille1 = GrenouilleModel(taille=32.0, poids=3.3, couleur=\"verte\")\u001b[39;00m\n\u001b[0;32m----> 2\u001b[0m perroquet11 \u001b[38;5;241m=\u001b[39m \u001b[43mperroquetModel\u001b[49m\u001b[43m(\u001b[49m\u001b[43mpoids\u001b[49m\u001b[38;5;241;43m=\u001b[39;49m\u001b[38;5;241;43m1.0\u001b[39;49m\u001b[43m,\u001b[49m\u001b[43m \u001b[49m\u001b[43mcouleur\u001b[49m\u001b[38;5;241;43m=\u001b[39;49m\u001b[38;5;124;43m\"\u001b[39;49m\u001b[38;5;124;43mrouge\u001b[39;49m\u001b[38;5;124;43m\"\u001b[39;49m\u001b[43m,\u001b[49m\u001b[43m \u001b[49m\u001b[43mparole\u001b[49m\u001b[38;5;241;43m=\u001b[39;49m\u001b[38;5;28;43;01mTrue\u001b[39;49;00m\u001b[43m)\u001b[49m \n",
      "File \u001b[0;32m<string>:3\u001b[0m, in \u001b[0;36m__init__\u001b[0;34m(self, poids, couleur, parole)\u001b[0m\n",
      "File \u001b[0;32m~/Documents/DATA-PREPROSSING/day-01/venv/lib/python3.10/site-packages/pydantic/main.py:1033\u001b[0m, in \u001b[0;36mBaseModel.__setattr__\u001b[0;34m(self, name, value)\u001b[0m\n\u001b[1;32m   1031\u001b[0m \u001b[38;5;66;03m# if None is returned from _setattr_handler, the attribute was set directly\u001b[39;00m\n\u001b[1;32m   1032\u001b[0m \u001b[38;5;28;01melif\u001b[39;00m (setattr_handler \u001b[38;5;241m:=\u001b[39m \u001b[38;5;28mself\u001b[39m\u001b[38;5;241m.\u001b[39m_setattr_handler(name, value)) \u001b[38;5;129;01mis\u001b[39;00m \u001b[38;5;129;01mnot\u001b[39;00m \u001b[38;5;28;01mNone\u001b[39;00m:\n\u001b[0;32m-> 1033\u001b[0m     \u001b[43msetattr_handler\u001b[49m\u001b[43m(\u001b[49m\u001b[38;5;28;43mself\u001b[39;49m\u001b[43m,\u001b[49m\u001b[43m \u001b[49m\u001b[43mname\u001b[49m\u001b[43m,\u001b[49m\u001b[43m \u001b[49m\u001b[43mvalue\u001b[49m\u001b[43m)\u001b[49m  \u001b[38;5;66;03m# call here to not memo on possibly unknown fields\u001b[39;00m\n\u001b[1;32m   1034\u001b[0m     \u001b[38;5;28mself\u001b[39m\u001b[38;5;241m.\u001b[39m__pydantic_setattr_handlers__[name] \u001b[38;5;241m=\u001b[39m setattr_handler\n",
      "File \u001b[0;32m~/Documents/DATA-PREPROSSING/day-01/venv/lib/python3.10/site-packages/pydantic/main.py:96\u001b[0m, in \u001b[0;36m_model_field_setattr_handler\u001b[0;34m(model, name, val)\u001b[0m\n\u001b[1;32m     94\u001b[0m \u001b[38;5;28;01mdef\u001b[39;00m\u001b[38;5;250m \u001b[39m\u001b[38;5;21m_model_field_setattr_handler\u001b[39m(model: BaseModel, name: \u001b[38;5;28mstr\u001b[39m, val: Any) \u001b[38;5;241m-\u001b[39m\u001b[38;5;241m>\u001b[39m \u001b[38;5;28;01mNone\u001b[39;00m:\n\u001b[1;32m     95\u001b[0m     model\u001b[38;5;241m.\u001b[39m\u001b[38;5;18m__dict__\u001b[39m[name] \u001b[38;5;241m=\u001b[39m val\n\u001b[0;32m---> 96\u001b[0m     \u001b[43mmodel\u001b[49m\u001b[38;5;241;43m.\u001b[39;49m\u001b[43m__pydantic_fields_set__\u001b[49m\u001b[38;5;241m.\u001b[39madd(name)\n",
      "File \u001b[0;32m~/Documents/DATA-PREPROSSING/day-01/venv/lib/python3.10/site-packages/pydantic/main.py:1023\u001b[0m, in \u001b[0;36mBaseModel.__getattr__\u001b[0;34m(self, item)\u001b[0m\n\u001b[1;32m   1021\u001b[0m \u001b[38;5;28;01melse\u001b[39;00m:\n\u001b[1;32m   1022\u001b[0m     \u001b[38;5;28;01mif\u001b[39;00m \u001b[38;5;28mhasattr\u001b[39m(\u001b[38;5;28mself\u001b[39m\u001b[38;5;241m.\u001b[39m\u001b[38;5;18m__class__\u001b[39m, item):\n\u001b[0;32m-> 1023\u001b[0m         \u001b[38;5;28;01mreturn\u001b[39;00m \u001b[38;5;28;43msuper\u001b[39;49m\u001b[43m(\u001b[49m\u001b[43m)\u001b[49m\u001b[38;5;241;43m.\u001b[39;49m\u001b[38;5;21;43m__getattribute__\u001b[39;49m\u001b[43m(\u001b[49m\u001b[43mitem\u001b[49m\u001b[43m)\u001b[49m  \u001b[38;5;66;03m# Raises AttributeError if appropriate\u001b[39;00m\n\u001b[1;32m   1024\u001b[0m     \u001b[38;5;28;01melse\u001b[39;00m:\n\u001b[1;32m   1025\u001b[0m         \u001b[38;5;66;03m# this is the current error\u001b[39;00m\n\u001b[1;32m   1026\u001b[0m         \u001b[38;5;28;01mraise\u001b[39;00m \u001b[38;5;167;01mAttributeError\u001b[39;00m(\u001b[38;5;124mf\u001b[39m\u001b[38;5;124m'\u001b[39m\u001b[38;5;132;01m{\u001b[39;00m\u001b[38;5;28mtype\u001b[39m(\u001b[38;5;28mself\u001b[39m)\u001b[38;5;241m.\u001b[39m\u001b[38;5;18m__name__\u001b[39m\u001b[38;5;132;01m!r}\u001b[39;00m\u001b[38;5;124m object has no attribute \u001b[39m\u001b[38;5;132;01m{\u001b[39;00mitem\u001b[38;5;132;01m!r}\u001b[39;00m\u001b[38;5;124m'\u001b[39m)\n",
      "\u001b[0;31mAttributeError\u001b[0m: 'perroquetModel' object has no attribute '__pydantic_fields_set__'"
     ]
    }
   ],
   "source": [
    "#Grenouille1 = GrenouilleModel(taille=32.0, poids=3.3, couleur=\"verte\")\n",
    "perroquet11 = perroquetModel(poids=1.0, couleur=\"rouge\", parole=True) "
   ]
  },
  {
   "cell_type": "code",
   "execution_count": null,
   "id": "b9ec4829",
   "metadata": {},
   "outputs": [],
   "source": []
  }
 ],
 "metadata": {
  "kernelspec": {
   "display_name": "venv",
   "language": "python",
   "name": "python3"
  },
  "language_info": {
   "codemirror_mode": {
    "name": "ipython",
    "version": 3
   },
   "file_extension": ".py",
   "mimetype": "text/x-python",
   "name": "python",
   "nbconvert_exporter": "python",
   "pygments_lexer": "ipython3",
   "version": "3.10.12"
  }
 },
 "nbformat": 4,
 "nbformat_minor": 5
}
