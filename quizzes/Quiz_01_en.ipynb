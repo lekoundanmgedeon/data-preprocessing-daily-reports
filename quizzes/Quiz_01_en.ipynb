{
 "cells": [
  {
   "cell_type": "markdown",
   "id": "89e2cc11",
   "metadata": {},
   "source": [
    "\n",
    "<h1 style=\"text-align: center;\"><a title=\"Data Science-AIMS-Cmr-2021-22\">Quiz 1: Dataclasses </h1>\n",
    "\n",
    "**Instructor:** \n",
    "\n",
    "* Rockefeller"
   ]
  },
  {
   "cell_type": "markdown",
   "id": "310a91b8",
   "metadata": {},
   "source": [
    "---\n",
    "\n",
    "### **Exercise 1: Egypt - Tourism Sector** (5 points)\n",
    "\n",
    "*Text:* The Great Pyramid of Giza in Cairo attracts 1.5 million visitors per year and was built 4,500 years ago. The Egyptian Museum receives 2 million annual visitors and houses 120,000 artifacts.\n",
    "\n",
    "**Task:** Create a `TouristSite` dataclass with appropriate attributes, then create two instances for the pyramid and the museum.\n"
   ]
  },
  {
   "cell_type": "code",
   "execution_count": null,
   "id": "42e14291",
   "metadata": {},
   "outputs": [],
   "source": [
    "## TODO: Write your code here\n",
    "\n",
    "from dataclasses import dataclass\n",
    "\n",
    "\n",
    "\n"
   ]
  },
  {
   "cell_type": "code",
   "execution_count": null,
   "id": "76ce9274",
   "metadata": {},
   "outputs": [],
   "source": []
  },
  {
   "cell_type": "code",
   "execution_count": null,
   "id": "0829a9f7",
   "metadata": {},
   "outputs": [],
   "source": []
  },
  {
   "cell_type": "markdown",
   "id": "edf1398c",
   "metadata": {},
   "source": [
    "### **Exercise 2: Burkina Faso - Agricultural Sector** (5 points)\n",
    "\n",
    "*Text:* Farmer Moussa Sawadogo grows cotton on 12 hectares in the Bobo-Dioulasso region. His wife, Fatimata Koné, raises sheep with a herd of 80 head in the same village.\n",
    "\n",
    "**Task:** \n",
    "- Create a `CropFarmer` dataclass for Moussa\n",
    "- Create a `LivestockFarmer` dataclass for Fatimata  \n",
    "- Create the appropriate instances"
   ]
  },
  {
   "cell_type": "code",
   "execution_count": null,
   "id": "4f407062",
   "metadata": {},
   "outputs": [],
   "source": [
    "## TODO: Write your code here\n",
    "\n",
    "\n",
    " \n",
    "\n"
   ]
  },
  {
   "cell_type": "code",
   "execution_count": 1,
   "id": "88b81a9e",
   "metadata": {},
   "outputs": [
    {
     "name": "stdout",
     "output_type": "stream",
     "text": [
      "Requirement already satisfied: pydantic in ./venv/lib/python3.10/site-packages (2.12.3)\n",
      "Requirement already satisfied: typing-inspection>=0.4.2 in ./venv/lib/python3.10/site-packages (from pydantic) (0.4.2)\n",
      "Requirement already satisfied: typing-extensions>=4.14.1 in ./venv/lib/python3.10/site-packages (from pydantic) (4.15.0)\n",
      "Requirement already satisfied: annotated-types>=0.6.0 in ./venv/lib/python3.10/site-packages (from pydantic) (0.7.0)\n",
      "Requirement already satisfied: pydantic-core==2.41.4 in ./venv/lib/python3.10/site-packages (from pydantic) (2.41.4)\n"
     ]
    }
   ],
   "source": [
    "!pip install pydantic "
   ]
  },
  {
   "cell_type": "code",
   "execution_count": 2,
   "id": "04728683",
   "metadata": {},
   "outputs": [
    {
     "name": "stdout",
     "output_type": "stream",
     "text": [
      "name='Zeinab' age=24 height=1.75\n"
     ]
    }
   ],
   "source": [
    "from pydantic import BaseModel\n",
    "\n",
    "class Student(BaseModel):\n",
    "    name: str   \n",
    "    age: int \n",
    "    height: float   \n",
    "\n",
    "student_0001 = Student( name= \"Zeinab\" , age= 24 , height=1.75 )\n",
    "print(student_0001)"
   ]
  },
  {
   "cell_type": "code",
   "execution_count": null,
   "id": "6721a868",
   "metadata": {},
   "outputs": [],
   "source": []
  },
  {
   "cell_type": "code",
   "execution_count": null,
   "id": "e05013df",
   "metadata": {},
   "outputs": [],
   "source": []
  }
 ],
 "metadata": {
  "kernelspec": {
   "display_name": "venv",
   "language": "python",
   "name": "python3"
  },
  "language_info": {
   "codemirror_mode": {
    "name": "ipython",
    "version": 3
   },
   "file_extension": ".py",
   "mimetype": "text/x-python",
   "name": "python",
   "nbconvert_exporter": "python",
   "pygments_lexer": "ipython3",
   "version": "3.10.12"
  }
 },
 "nbformat": 4,
 "nbformat_minor": 5
}
