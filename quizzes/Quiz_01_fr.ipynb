{
 "cells": [
  {
   "cell_type": "markdown",
   "id": "dd9246ec",
   "metadata": {},
   "source": [
    "\n",
    "<h1 style=\"text-align: center;\"><a title=\"Data Science-AIMS-Cmr-2021-22\">Quiz 1: Dataclasses </h1>\n",
    "\n",
    "**Instructor:** \n",
    "\n",
    "* Rockefeller"
   ]
  },
  {
   "cell_type": "markdown",
   "id": "4bc9b6ff",
   "metadata": {},
   "source": [
    "\n",
    "**Contexte:** Vous modélisez des données pour une application africaine. Utilisez les dataclasses pour représenter les entités suivantes.\n",
    "\n",
    "---\n",
    "\n",
    "### **Exercice 1: Égypte - Secteur du Tourisme** (5 points)\n",
    "\n",
    "*Texte:* La pyramide de Khéops au Caire attire 1,5 million de visiteurs par an et a été construite il y a 4500 ans. Le musée égyptien quant à lui reçoit 2 millions de visiteurs annuels et abrite 120 000 artefacts.\n",
    "\n",
    "**Tâche:** Créez une dataclasse `SiteTouristique` avec les attributs appropriés, puis créez deux instances pour la pyramide et le musée.\n"
   ]
  },
  {
   "cell_type": "code",
   "execution_count": null,
   "id": "9946f05e",
   "metadata": {},
   "outputs": [],
   "source": [
    "## TODO: Ecrivez votre code ci-dessous\n",
    "from dataclasses import dataclass\n",
    "\n",
    "@dataclass\n",
    "class SiteTouristique:\n",
    "    name: str   \n",
    "    nbvisiteurs: int \n",
    "    age: int\n",
    "    artefact: int #in meters\n"
   ]
  },
  {
   "cell_type": "code",
   "execution_count": 10,
   "id": "05d32617",
   "metadata": {},
   "outputs": [
    {
     "name": "stdout",
     "output_type": "stream",
     "text": [
      "SiteTouristique(name='Kheops', nbvisiteurs=2000000, age=45000, artefact=12000)\n",
      "SiteTouristique(name='Kheops', nbvisiteurs=2000000, age=45000, artefact=12000)\n"
     ]
    }
   ],
   "source": [
    "site_0001 = SiteTouristique( name= \"Kheops\" , nbvisiteurs=2000000 , age=45000, artefact=12000 )\n",
    "print(site_0001)\n",
    "\n",
    "site_0002 = SiteTouristique( name= \"Kheops\" , nbvisiteurs=2000000 , age=45000, artefact=12000 )\n",
    "print(site_0002)"
   ]
  },
  {
   "cell_type": "markdown",
   "id": "44799b2f",
   "metadata": {},
   "source": [
    "\n",
    "### **Exercise 2: Burkina Faso - Secteur Agricole** (5 points)\n",
    "\n",
    "*Texte:* L'agriculteur Moussa Sawadogo cultive du coton sur 12 hectares dans la région de Bobo-Dioulasso. Son épouse, Fatimata Koné, élève des moutons avec un troupeau de 80 têtes dans le même village.\n",
    "\n",
    "**Tâche:** \n",
    "- Créez une dataclasse `ProducteurAgricole` pour Moussa\n",
    "- Créez une dataclasse `Eleveur` pour Fatimata  \n",
    "- Créez les instances appropriées"
   ]
  },
  {
   "cell_type": "code",
   "execution_count": 11,
   "id": "a32c76b2",
   "metadata": {},
   "outputs": [],
   "source": [
    "from dataclasses import dataclass\n",
    "\n",
    "# Votre code ici:\n",
    "\n",
    "@dataclass\n",
    "class ProducteurAgricole:\n",
    "    name: str   \n",
    "    nbreHectare: int \n",
    "    region: int\n",
    "\n",
    "\n",
    "@dataclass\n",
    "class Eleveur:\n",
    "    name: str   \n",
    "    espece: str \n",
    "    troupeau: int\n",
    "\n",
    "\n"
   ]
  },
  {
   "cell_type": "code",
   "execution_count": null,
   "id": "bf672391",
   "metadata": {},
   "outputs": [
    {
     "name": "stdout",
     "output_type": "stream",
     "text": [
      "ProducteurAgricole(name='Jean', nbreHectare=150, region=3)\n",
      "Eleveur(name='Paul', espece='vache', troupeau=45)\n"
     ]
    }
   ],
   "source": [
    "ProducteurAgricole_001 = ProducteurAgricole( name= \"Jean\" , nbreHectare=150 , region=3 )\n",
    "print(ProducteurAgricole_001)\n",
    "Eleveur_001 = Eleveur( name= \"Paul\" , espece=\"vache\" , troupeau=45 )\n",
    "print(Eleveur_001)"
   ]
  }
 ],
 "metadata": {
  "kernelspec": {
   "display_name": "venv",
   "language": "python",
   "name": "python3"
  },
  "language_info": {
   "codemirror_mode": {
    "name": "ipython",
    "version": 3
   },
   "file_extension": ".py",
   "mimetype": "text/x-python",
   "name": "python",
   "nbconvert_exporter": "python",
   "pygments_lexer": "ipython3",
   "version": "3.10.12"
  }
 },
 "nbformat": 4,
 "nbformat_minor": 5
}
