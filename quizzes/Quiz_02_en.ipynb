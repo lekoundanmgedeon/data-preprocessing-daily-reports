{
 "cells": [
  {
   "cell_type": "markdown",
   "id": "ab57f4ff",
   "metadata": {},
   "source": [
    "\n",
    "<h1 style=\"text-align: center;\"><a title=\"Data Science-AIMS-Cmr-2021-22\">Quiz 2: Dataclasses </h1>\n",
    "\n",
    "**Instructor:** \n",
    "\n",
    "* Rockefeller"
   ]
  },
  {
   "cell_type": "markdown",
   "id": "16e27e0b",
   "metadata": {},
   "source": [
    "\n",
    "### **Quiz: Cameroonian Wildlife**\n",
    "\n",
    "\n",
    "### **Introduction**\n",
    "In Cameroon’s rainforests, there are two amazing animals: the **Goliath frog** and the **African grey parrot**.\n",
    "\n",
    "- The **Goliath frog** is the biggest frog in the world. It can grow up to **32 cm long** and weigh up to **3.3 kg**. It lives near rivers and has greenish-brown skin.\n",
    "- The **African grey parrot** is a very smart bird. It can live for **50 years** and is usually **gray** with a **red tail**. It can also copy human speech!\n"
   ]
  },
  {
   "cell_type": "markdown",
   "id": "37b330f1",
   "metadata": {},
   "source": [
    "### **Question 1: Identify Attributes**\n",
    "**Task:** For each animal, list at least **three attributes** that could be used to create a `Frog` and a `Parrot` dataclass. Use the description above to guide you.\n"
   ]
  },
  {
   "cell_type": "code",
   "execution_count": null,
   "id": "91ee7637",
   "metadata": {},
   "outputs": [],
   "source": []
  },
  {
   "cell_type": "code",
   "execution_count": null,
   "id": "2684aa48",
   "metadata": {},
   "outputs": [],
   "source": []
  },
  {
   "cell_type": "code",
   "execution_count": null,
   "id": "d966a460",
   "metadata": {},
   "outputs": [],
   "source": []
  },
  {
   "cell_type": "markdown",
   "id": "12ffd614",
   "metadata": {},
   "source": [
    "### **Question 2: Create Dataclasses**\n",
    "\n",
    " Create two subclasses: `Frog` and `Parrot`, each with their own unique attributes (e.g., `Frog` could have `length: float`, `weight: float`, and `habitat: str`). Instantiate one object for each subclass.\n"
   ]
  },
  {
   "cell_type": "code",
   "execution_count": null,
   "id": "7da20ad5",
   "metadata": {},
   "outputs": [],
   "source": []
  },
  {
   "cell_type": "code",
   "execution_count": null,
   "id": "edff6e49",
   "metadata": {},
   "outputs": [],
   "source": []
  },
  {
   "cell_type": "code",
   "execution_count": null,
   "id": "d5d5d07f",
   "metadata": {},
   "outputs": [],
   "source": []
  },
  {
   "cell_type": "code",
   "execution_count": null,
   "id": "493a4d83",
   "metadata": {},
   "outputs": [],
   "source": []
  },
  {
   "cell_type": "markdown",
   "id": "b8e7fb56",
   "metadata": {},
   "source": [
    "### **Question 3: Create Dataclasses with common attribute**\n",
    "Define a dataclass called `Animal` with a common attribute between the two animals."
   ]
  },
  {
   "cell_type": "code",
   "execution_count": null,
   "id": "4a27f758",
   "metadata": {},
   "outputs": [],
   "source": []
  },
  {
   "cell_type": "code",
   "execution_count": null,
   "id": "15cc3255",
   "metadata": {},
   "outputs": [],
   "source": []
  },
  {
   "cell_type": "code",
   "execution_count": null,
   "id": "86f5df8a",
   "metadata": {},
   "outputs": [],
   "source": []
  },
  {
   "cell_type": "code",
   "execution_count": null,
   "id": "f4126bfd",
   "metadata": {},
   "outputs": [],
   "source": []
  },
  {
   "cell_type": "code",
   "execution_count": null,
   "id": "4fa9c43b",
   "metadata": {},
   "outputs": [],
   "source": []
  },
  {
   "cell_type": "markdown",
   "id": "d6232895",
   "metadata": {},
   "source": [
    "### **Question 4: Use Literal Types**\n",
    "**Task:** Modify the `Parrot` dataclass so that the `color` attribute can only be one of the following: `\"gray\"`, `\"red\"`, or `\"white\"`. Use Python’s `Literal` type to enforce this.\n"
   ]
  },
  {
   "cell_type": "code",
   "execution_count": null,
   "id": "3ef2c621",
   "metadata": {},
   "outputs": [],
   "source": []
  },
  {
   "cell_type": "code",
   "execution_count": null,
   "id": "3c58f983",
   "metadata": {},
   "outputs": [],
   "source": []
  },
  {
   "cell_type": "code",
   "execution_count": null,
   "id": "12ce6774",
   "metadata": {},
   "outputs": [],
   "source": []
  },
  {
   "cell_type": "code",
   "execution_count": null,
   "id": "08c0a565",
   "metadata": {},
   "outputs": [],
   "source": []
  },
  {
   "cell_type": "code",
   "execution_count": null,
   "id": "1a27e6e5",
   "metadata": {},
   "outputs": [],
   "source": []
  },
  {
   "cell_type": "markdown",
   "id": "74cc5991",
   "metadata": {},
   "source": [
    "### **Question 4: Convert to Pydantic BaseModel**\n",
    "**Task:** Rewrite the `Animal`, `Frog`, and `Parrot` classes using Pydantic’s `BaseModel` instead of dataclasses. Ensure all attributes are properly typed and include validation for the `Parrot`'s `color` attribute."
   ]
  },
  {
   "cell_type": "code",
   "execution_count": null,
   "id": "685259e2",
   "metadata": {},
   "outputs": [],
   "source": []
  },
  {
   "cell_type": "code",
   "execution_count": null,
   "id": "01248489",
   "metadata": {},
   "outputs": [],
   "source": []
  },
  {
   "cell_type": "code",
   "execution_count": null,
   "id": "28eb1620",
   "metadata": {},
   "outputs": [],
   "source": []
  },
  {
   "cell_type": "code",
   "execution_count": null,
   "id": "584c2fc6",
   "metadata": {},
   "outputs": [],
   "source": []
  },
  {
   "cell_type": "code",
   "execution_count": null,
   "id": "1c243627",
   "metadata": {},
   "outputs": [],
   "source": []
  }
 ],
 "metadata": {
  "kernelspec": {
   "display_name": "data_prep",
   "language": "python",
   "name": "python3"
  },
  "language_info": {
   "name": "python",
   "version": "3.13.0"
  }
 },
 "nbformat": 4,
 "nbformat_minor": 5
}
