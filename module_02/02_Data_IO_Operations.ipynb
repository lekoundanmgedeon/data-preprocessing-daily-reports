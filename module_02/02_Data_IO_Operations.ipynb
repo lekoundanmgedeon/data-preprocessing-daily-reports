{
 "cells": [
  {
   "cell_type": "markdown",
   "metadata": {},
   "source": [
    "<h1 style=\"text-align: center;\"><a title=\"Data Science-AIMS-Cmr-2021-22\">Chapter 2: Data Reading Methods </h1>\n",
    "\n",
    "**Instructor:** \n",
    "\n",
    "* Rockefeller"
   ]
  },
  {
   "cell_type": "markdown",
   "metadata": {},
   "source": [
    "# Introduction\n",
    "\n",
    "Before diving deep into data manipulation and analysis, mastering the art of data ingestion using pandas is pivotal. This chapter will guide you through the essentials of reading data from various sources, ensuring a robust foundation for your data exploration journey."
   ]
  },
  {
   "cell_type": "markdown",
   "metadata": {},
   "source": [
    "**Learning Objectives:**\n",
    "\n",
    "* Introducing different files reading methods\n",
    "* Developing the ability to query dataframes to answer practical questions\n",
    "* Updating dataframes based on useful insights"
   ]
  },
  {
   "cell_type": "markdown",
   "metadata": {},
   "source": [
    "# Reading Methods"
   ]
  },
  {
   "cell_type": "markdown",
   "metadata": {},
   "source": [
    "Python has become a beloved language for text and file munging due to its simple syntax for\n",
    "interacting with files, intuitive data structures, and convenient features. Pandas features a number of functions for reading tabular data as a DataFrame object. Let's import it"
   ]
  },
  {
   "cell_type": "code",
   "execution_count": 1,
   "metadata": {},
   "outputs": [],
   "source": [
    "import pandas as pd"
   ]
  },
  {
   "cell_type": "markdown",
   "metadata": {},
   "source": [
    "A plethore of  reading method is available in the pandas library.  You can have access to it by typing the `tab` key after typing `pd.`:\n"
   ]
  },
  {
   "cell_type": "markdown",
   "metadata": {},
   "source": [
    ">#### <font color=#800080>Q:</font> <a class=\"anchor\" id=\"Task-1\"></a>\n",
    "\n",
    "* How many of them could you see and at first glance, what could they possibly mean to you?"
   ]
  },
  {
   "cell_type": "markdown",
   "metadata": {},
   "source": [
    "For sake of the context , we will just focus on the 3 main reading methods"
   ]
  },
  {
   "cell_type": "markdown",
   "metadata": {},
   "source": [
    "* $\\Large pd.read\\_csv$\n",
    "\n",
    "\n",
    "* $\\Large pd.read\\_excel$\n",
    "\n",
    "\n",
    "* $\\Large pd.read\\_clipboard$"
   ]
  },
  {
   "cell_type": "markdown",
   "metadata": {},
   "source": [
    "### The `pandas.read_csv` method "
   ]
  },
  {
   "cell_type": "markdown",
   "metadata": {},
   "source": [
    "Reading a csv file requires passing as argument the path to the actual file. For simplicity,  the file should be saved in the same folder as the notebook you are running but you could also specify the path to it. See below."
   ]
  },
  {
   "cell_type": "markdown",
   "metadata": {},
   "source": [
    "Here is the pattern to follow:  \n",
    "\n",
    "`dataframe_name  =  pd.read_csv( \"path/to/the/file.csv\" )`"
   ]
  },
  {
   "cell_type": "markdown",
   "metadata": {},
   "source": [
    "># <font color=#800080>Task 2:</font> <a class=\"anchor\" id=\"Task-1\"></a>\n"
   ]
  },
  {
   "cell_type": "markdown",
   "metadata": {},
   "source": [
    "Dr. Amara stood at the front of the quiet conference room on a gloomy afternoon. \n",
    "\n",
    "The projector screen behind him displayed the year 2014, a year that everyone in the room knew was significant for West Africa.\n",
    "\n",
    "\n",
    "1. In 2014, the Ebola crisis broke out in some of our neighboring countries. But before we talk about the details, can anyone explain the difference between an outbreak and a pandemic?\n",
    "\n",
    "\n",
    "\n",
    "2. After a pause, Dr. Amara pointed to a map of Africa on the screen and said, **\"Ebola is not a new virus, but it spread very quickly in 2014.** Does anyone know where it came from and why it spread so fast that year?\n",
    "\n",
    "\n",
    "\n",
    "3. After a short discussion, Dr. Amara led the group to the day's task. She said, **\"On your computers, you will find a folder called `data`. Inside that folder is a file called `ebola_WA.csv`**. This file contains information about how many Ebola cases were reported in **Nigeria**, **Guinea**, and **Sierra Leone** over time. Please take a moment to make sure that the file is there and then load it using the standard methods that we have learned.\n",
    "\n",
    "\n",
    "4. A few minutes later, as the data appeared on the screens, Dr. Amara asked, \"What strange things or patterns do you see in the data? Let's talk about them.\""
   ]
  },
  {
   "cell_type": "code",
   "execution_count": 2,
   "metadata": {},
   "outputs": [
    {
     "data": {
      "application/vnd.microsoft.datawrangler.viewer.v0+json": {
       "columns": [
        {
         "name": "index",
         "rawType": "int64",
         "type": "integer"
        },
        {
         "name": "Date",
         "rawType": "object",
         "type": "string"
        },
        {
         "name": "Day",
         "rawType": "int64",
         "type": "integer"
        },
        {
         "name": "Cases_Guinea",
         "rawType": "float64",
         "type": "float"
        },
        {
         "name": "Cases_Liberia",
         "rawType": "float64",
         "type": "float"
        },
        {
         "name": "Cases_SierraLeone",
         "rawType": "float64",
         "type": "float"
        },
        {
         "name": "Cases_Nigeria",
         "rawType": "float64",
         "type": "float"
        }
       ],
       "ref": "0bcfd6bc-0b9d-4502-abea-e357a999d43b",
       "rows": [
        [
         "0",
         "1/5/2015",
         "289",
         "2776.0",
         null,
         "10030.0",
         null
        ],
        [
         "1",
         "1/4/2015",
         "288",
         "2775.0",
         null,
         "9780.0",
         null
        ],
        [
         "2",
         "1/3/2015",
         "287",
         "2769.0",
         "8166.0",
         "9722.0",
         null
        ],
        [
         "3",
         "1/2/2015",
         "286",
         null,
         "8157.0",
         null,
         null
        ],
        [
         "4",
         "12/31/2014",
         "284",
         "2730.0",
         "8115.0",
         "9633.0",
         null
        ],
        [
         "5",
         "12/28/2014",
         "281",
         "2706.0",
         "8018.0",
         "9446.0",
         null
        ],
        [
         "6",
         "12/27/2014",
         "280",
         "2695.0",
         null,
         "9409.0",
         null
        ],
        [
         "7",
         "12/24/2014",
         "277",
         "2630.0",
         "7977.0",
         "9203.0",
         null
        ],
        [
         "8",
         "12/21/2014",
         "273",
         "2597.0",
         null,
         "9004.0",
         null
        ],
        [
         "9",
         "12/20/2014",
         "272",
         "2571.0",
         "7862.0",
         "8939.0",
         null
        ],
        [
         "10",
         "12/18/2014",
         "271",
         null,
         "7830.0",
         null,
         null
        ],
        [
         "11",
         "12/14/2014",
         "267",
         "2416.0",
         null,
         "8356.0",
         null
        ],
        [
         "12",
         "12/9/2014",
         "262",
         null,
         "7797.0",
         null,
         null
        ],
        [
         "13",
         "12/7/2014",
         "260",
         "2292.0",
         null,
         "7897.0",
         "20.0"
        ],
        [
         "14",
         "12/3/2014",
         "256",
         null,
         "7719.0",
         null,
         null
        ],
        [
         "15",
         "11/30/2014",
         "253",
         "2164.0",
         null,
         "7312.0",
         "20.0"
        ],
        [
         "16",
         "11/28/2014",
         "251",
         null,
         "7635.0",
         null,
         null
        ],
        [
         "17",
         "11/23/2014",
         "246",
         "2134.0",
         null,
         "6599.0",
         "20.0"
        ],
        [
         "18",
         "11/22/2014",
         "245",
         null,
         "7168.0",
         null,
         null
        ],
        [
         "19",
         "11/18/2014",
         "241",
         "2047.0",
         "7082.0",
         "6190.0",
         "20.0"
        ],
        [
         "20",
         "11/16/2014",
         "239",
         "1971.0",
         null,
         "6073.0",
         "20.0"
        ],
        [
         "21",
         "11/15/2014",
         "238",
         null,
         "7069.0",
         null,
         null
        ],
        [
         "22",
         "11/11/2014",
         "234",
         "1919.0",
         null,
         "5586.0",
         "20.0"
        ],
        [
         "23",
         "11/10/2014",
         "233",
         null,
         "6878.0",
         null,
         null
        ],
        [
         "24",
         "11/9/2014",
         "232",
         "1878.0",
         null,
         "5368.0",
         "20.0"
        ],
        [
         "25",
         "11/8/2014",
         "231",
         null,
         "6822.0",
         null,
         null
        ],
        [
         "26",
         "11/4/2014",
         "227",
         null,
         "6619.0",
         "4862.0",
         "20.0"
        ],
        [
         "27",
         "11/3/2014",
         "226",
         "1760.0",
         null,
         null,
         null
        ],
        [
         "28",
         "11/2/2014",
         "225",
         "1731.0",
         null,
         "4759.0",
         "20.0"
        ],
        [
         "29",
         "10/31/2014",
         "222",
         null,
         "6525.0",
         null,
         null
        ],
        [
         "30",
         "10/29/2014",
         "220",
         "1667.0",
         null,
         "5338.0",
         "20.0"
        ],
        [
         "31",
         "10/27/2014",
         "218",
         "1906.0",
         null,
         "5235.0",
         "20.0"
        ],
        [
         "32",
         "10/25/2014",
         "216",
         null,
         "6535.0",
         null,
         null
        ],
        [
         "33",
         "10/22/2014",
         "214",
         null,
         null,
         "3896.0",
         null
        ],
        [
         "34",
         "10/21/2014",
         "213",
         "1553.0",
         null,
         null,
         null
        ],
        [
         "35",
         "10/19/2014",
         "211",
         "1540.0",
         null,
         "3706.0",
         "20.0"
        ],
        [
         "36",
         "10/18/2014",
         "210",
         null,
         "4665.0",
         null,
         null
        ],
        [
         "37",
         "10/14/2014",
         "206",
         "1519.0",
         null,
         "3410.0",
         "20.0"
        ],
        [
         "38",
         "10/13/2014",
         "205",
         null,
         "4262.0",
         null,
         null
        ],
        [
         "39",
         "10/12/2014",
         "204",
         "1472.0",
         null,
         "3252.0",
         "20.0"
        ],
        [
         "40",
         "10/11/2014",
         "203",
         null,
         "4249.0",
         null,
         null
        ],
        [
         "41",
         "10/8/2014",
         "200",
         null,
         null,
         "2950.0",
         "20.0"
        ],
        [
         "42",
         "10/7/2014",
         "199",
         "1350.0",
         "4076.0",
         null,
         null
        ],
        [
         "43",
         "10/5/2014",
         "197",
         "1298.0",
         null,
         "2789.0",
         "20.0"
        ],
        [
         "44",
         "10/4/2014",
         "196",
         null,
         "3924.0",
         null,
         null
        ],
        [
         "45",
         "10/1/2014",
         "193",
         "1199.0",
         "3834.0",
         "2437.0",
         "20.0"
        ],
        [
         "46",
         "9/28/2014",
         "190",
         "1157.0",
         "3696.0",
         "2304.0",
         "20.0"
        ],
        [
         "47",
         "9/23/2014",
         "185",
         "1074.0",
         "3458.0",
         "2021.0",
         "20.0"
        ],
        [
         "48",
         "9/21/2014",
         "183",
         "1022.0",
         "3280.0",
         "1940.0",
         "20.0"
        ],
        [
         "49",
         "9/20/2014",
         "182",
         null,
         null,
         "1813.0",
         null
        ]
       ],
       "shape": {
        "columns": 6,
        "rows": 122
       }
      },
      "text/html": [
       "<div>\n",
       "<style scoped>\n",
       "    .dataframe tbody tr th:only-of-type {\n",
       "        vertical-align: middle;\n",
       "    }\n",
       "\n",
       "    .dataframe tbody tr th {\n",
       "        vertical-align: top;\n",
       "    }\n",
       "\n",
       "    .dataframe thead th {\n",
       "        text-align: right;\n",
       "    }\n",
       "</style>\n",
       "<table border=\"1\" class=\"dataframe\">\n",
       "  <thead>\n",
       "    <tr style=\"text-align: right;\">\n",
       "      <th></th>\n",
       "      <th>Date</th>\n",
       "      <th>Day</th>\n",
       "      <th>Cases_Guinea</th>\n",
       "      <th>Cases_Liberia</th>\n",
       "      <th>Cases_SierraLeone</th>\n",
       "      <th>Cases_Nigeria</th>\n",
       "    </tr>\n",
       "  </thead>\n",
       "  <tbody>\n",
       "    <tr>\n",
       "      <th>0</th>\n",
       "      <td>1/5/2015</td>\n",
       "      <td>289</td>\n",
       "      <td>2776.0</td>\n",
       "      <td>NaN</td>\n",
       "      <td>10030.0</td>\n",
       "      <td>NaN</td>\n",
       "    </tr>\n",
       "    <tr>\n",
       "      <th>1</th>\n",
       "      <td>1/4/2015</td>\n",
       "      <td>288</td>\n",
       "      <td>2775.0</td>\n",
       "      <td>NaN</td>\n",
       "      <td>9780.0</td>\n",
       "      <td>NaN</td>\n",
       "    </tr>\n",
       "    <tr>\n",
       "      <th>2</th>\n",
       "      <td>1/3/2015</td>\n",
       "      <td>287</td>\n",
       "      <td>2769.0</td>\n",
       "      <td>8166.0</td>\n",
       "      <td>9722.0</td>\n",
       "      <td>NaN</td>\n",
       "    </tr>\n",
       "    <tr>\n",
       "      <th>3</th>\n",
       "      <td>1/2/2015</td>\n",
       "      <td>286</td>\n",
       "      <td>NaN</td>\n",
       "      <td>8157.0</td>\n",
       "      <td>NaN</td>\n",
       "      <td>NaN</td>\n",
       "    </tr>\n",
       "    <tr>\n",
       "      <th>4</th>\n",
       "      <td>12/31/2014</td>\n",
       "      <td>284</td>\n",
       "      <td>2730.0</td>\n",
       "      <td>8115.0</td>\n",
       "      <td>9633.0</td>\n",
       "      <td>NaN</td>\n",
       "    </tr>\n",
       "    <tr>\n",
       "      <th>...</th>\n",
       "      <td>...</td>\n",
       "      <td>...</td>\n",
       "      <td>...</td>\n",
       "      <td>...</td>\n",
       "      <td>...</td>\n",
       "      <td>...</td>\n",
       "    </tr>\n",
       "    <tr>\n",
       "      <th>117</th>\n",
       "      <td>3/27/2014</td>\n",
       "      <td>5</td>\n",
       "      <td>103.0</td>\n",
       "      <td>8.0</td>\n",
       "      <td>6.0</td>\n",
       "      <td>NaN</td>\n",
       "    </tr>\n",
       "    <tr>\n",
       "      <th>118</th>\n",
       "      <td>3/26/2014</td>\n",
       "      <td>4</td>\n",
       "      <td>86.0</td>\n",
       "      <td>NaN</td>\n",
       "      <td>NaN</td>\n",
       "      <td>NaN</td>\n",
       "    </tr>\n",
       "    <tr>\n",
       "      <th>119</th>\n",
       "      <td>3/25/2014</td>\n",
       "      <td>3</td>\n",
       "      <td>86.0</td>\n",
       "      <td>NaN</td>\n",
       "      <td>NaN</td>\n",
       "      <td>NaN</td>\n",
       "    </tr>\n",
       "    <tr>\n",
       "      <th>120</th>\n",
       "      <td>3/24/2014</td>\n",
       "      <td>2</td>\n",
       "      <td>86.0</td>\n",
       "      <td>NaN</td>\n",
       "      <td>NaN</td>\n",
       "      <td>NaN</td>\n",
       "    </tr>\n",
       "    <tr>\n",
       "      <th>121</th>\n",
       "      <td>3/22/2014</td>\n",
       "      <td>0</td>\n",
       "      <td>49.0</td>\n",
       "      <td>NaN</td>\n",
       "      <td>NaN</td>\n",
       "      <td>NaN</td>\n",
       "    </tr>\n",
       "  </tbody>\n",
       "</table>\n",
       "<p>122 rows × 6 columns</p>\n",
       "</div>"
      ],
      "text/plain": [
       "           Date  Day  Cases_Guinea  Cases_Liberia  Cases_SierraLeone  \\\n",
       "0      1/5/2015  289        2776.0            NaN            10030.0   \n",
       "1      1/4/2015  288        2775.0            NaN             9780.0   \n",
       "2      1/3/2015  287        2769.0         8166.0             9722.0   \n",
       "3      1/2/2015  286           NaN         8157.0                NaN   \n",
       "4    12/31/2014  284        2730.0         8115.0             9633.0   \n",
       "..          ...  ...           ...            ...                ...   \n",
       "117   3/27/2014    5         103.0            8.0                6.0   \n",
       "118   3/26/2014    4          86.0            NaN                NaN   \n",
       "119   3/25/2014    3          86.0            NaN                NaN   \n",
       "120   3/24/2014    2          86.0            NaN                NaN   \n",
       "121   3/22/2014    0          49.0            NaN                NaN   \n",
       "\n",
       "     Cases_Nigeria  \n",
       "0              NaN  \n",
       "1              NaN  \n",
       "2              NaN  \n",
       "3              NaN  \n",
       "4              NaN  \n",
       "..             ...  \n",
       "117            NaN  \n",
       "118            NaN  \n",
       "119            NaN  \n",
       "120            NaN  \n",
       "121            NaN  \n",
       "\n",
       "[122 rows x 6 columns]"
      ]
     },
     "execution_count": 2,
     "metadata": {},
     "output_type": "execute_result"
    }
   ],
   "source": [
    "ebola_data  =  pd.read_csv( \"./data/ebola_WA.csv\" )\n",
    "\n",
    "ebola_data"
   ]
  },
  {
   "cell_type": "code",
   "execution_count": null,
   "metadata": {},
   "outputs": [],
   "source": []
  },
  {
   "cell_type": "code",
   "execution_count": null,
   "metadata": {},
   "outputs": [],
   "source": []
  },
  {
   "cell_type": "code",
   "execution_count": null,
   "metadata": {},
   "outputs": [],
   "source": []
  },
  {
   "cell_type": "markdown",
   "metadata": {},
   "source": [
    "># <font color=#800080>Task 3:</font> <a class=\"anchor\" id=\"Task-1\"></a>\n"
   ]
  },
  {
   "cell_type": "markdown",
   "metadata": {},
   "source": [
    "Dr. Amara paused and spoke with understanding. She said, **\"Data analysts are often not involved in collecting data. This means we sometimes work with datasets that have unfamiliar structures or entries.\"**\n",
    "\n",
    "1. Dr. Amara switched to a new slide and said, **\"I have a new set of historical Ebola data from our colleagues in Central Africa**. Please take a look at the data in the file called `'ebola_CA.csv'` and share your first thoughts.\"\n",
    "\n",
    "\n",
    "2. Dr. Amara saw that people were starting to look at the new data. She said, **\"Once you've looked through the data, use the same method we learned earlier to put the data into a table. Then, tell us what you see.\"**"
   ]
  },
  {
   "cell_type": "code",
   "execution_count": 3,
   "metadata": {},
   "outputs": [
    {
     "data": {
      "application/vnd.microsoft.datawrangler.viewer.v0+json": {
       "columns": [
        {
         "name": "index",
         "rawType": "int64",
         "type": "integer"
        },
        {
         "name": "Unnamed: 0",
         "rawType": "int64",
         "type": "integer"
        },
        {
         "name": "Date",
         "rawType": "object",
         "type": "string"
        },
        {
         "name": "Day",
         "rawType": "int64",
         "type": "integer"
        },
        {
         "name": "Cases_Cameroon",
         "rawType": "float64",
         "type": "float"
        },
        {
         "name": "Cases_Gabon",
         "rawType": "float64",
         "type": "float"
        },
        {
         "name": "Cases_CAR",
         "rawType": "float64",
         "type": "float"
        }
       ],
       "ref": "f3abc430-b1c9-460c-b281-df806d31123c",
       "rows": [
        [
         "0",
         "0",
         "1/5/2015",
         "289",
         "50.0",
         "25.0",
         "242.0"
        ],
        [
         "1",
         "1",
         "1/4/2015",
         "288",
         "69.0",
         null,
         null
        ],
        [
         "2",
         "2",
         "1/3/2015",
         "287",
         "45.0",
         "93.0",
         "285.0"
        ],
        [
         "3",
         "3",
         "1/2/2015",
         "286",
         "395.0",
         "13.0",
         "157.0"
        ],
        [
         "4",
         "4",
         "12/31/2014",
         "284",
         "300.0",
         "69.0",
         "250.0"
        ]
       ],
       "shape": {
        "columns": 6,
        "rows": 5
       }
      },
      "text/html": [
       "<div>\n",
       "<style scoped>\n",
       "    .dataframe tbody tr th:only-of-type {\n",
       "        vertical-align: middle;\n",
       "    }\n",
       "\n",
       "    .dataframe tbody tr th {\n",
       "        vertical-align: top;\n",
       "    }\n",
       "\n",
       "    .dataframe thead th {\n",
       "        text-align: right;\n",
       "    }\n",
       "</style>\n",
       "<table border=\"1\" class=\"dataframe\">\n",
       "  <thead>\n",
       "    <tr style=\"text-align: right;\">\n",
       "      <th></th>\n",
       "      <th>Unnamed: 0</th>\n",
       "      <th>Date</th>\n",
       "      <th>Day</th>\n",
       "      <th>Cases_Cameroon</th>\n",
       "      <th>Cases_Gabon</th>\n",
       "      <th>Cases_CAR</th>\n",
       "    </tr>\n",
       "  </thead>\n",
       "  <tbody>\n",
       "    <tr>\n",
       "      <th>0</th>\n",
       "      <td>0</td>\n",
       "      <td>1/5/2015</td>\n",
       "      <td>289</td>\n",
       "      <td>50.0</td>\n",
       "      <td>25.0</td>\n",
       "      <td>242.0</td>\n",
       "    </tr>\n",
       "    <tr>\n",
       "      <th>1</th>\n",
       "      <td>1</td>\n",
       "      <td>1/4/2015</td>\n",
       "      <td>288</td>\n",
       "      <td>69.0</td>\n",
       "      <td>NaN</td>\n",
       "      <td>NaN</td>\n",
       "    </tr>\n",
       "    <tr>\n",
       "      <th>2</th>\n",
       "      <td>2</td>\n",
       "      <td>1/3/2015</td>\n",
       "      <td>287</td>\n",
       "      <td>45.0</td>\n",
       "      <td>93.0</td>\n",
       "      <td>285.0</td>\n",
       "    </tr>\n",
       "    <tr>\n",
       "      <th>3</th>\n",
       "      <td>3</td>\n",
       "      <td>1/2/2015</td>\n",
       "      <td>286</td>\n",
       "      <td>395.0</td>\n",
       "      <td>13.0</td>\n",
       "      <td>157.0</td>\n",
       "    </tr>\n",
       "    <tr>\n",
       "      <th>4</th>\n",
       "      <td>4</td>\n",
       "      <td>12/31/2014</td>\n",
       "      <td>284</td>\n",
       "      <td>300.0</td>\n",
       "      <td>69.0</td>\n",
       "      <td>250.0</td>\n",
       "    </tr>\n",
       "  </tbody>\n",
       "</table>\n",
       "</div>"
      ],
      "text/plain": [
       "   Unnamed: 0        Date  Day  Cases_Cameroon  Cases_Gabon  Cases_CAR\n",
       "0           0    1/5/2015  289            50.0         25.0      242.0\n",
       "1           1    1/4/2015  288            69.0          NaN        NaN\n",
       "2           2    1/3/2015  287            45.0         93.0      285.0\n",
       "3           3    1/2/2015  286           395.0         13.0      157.0\n",
       "4           4  12/31/2014  284           300.0         69.0      250.0"
      ]
     },
     "execution_count": 3,
     "metadata": {},
     "output_type": "execute_result"
    }
   ],
   "source": [
    "ebola_data_CA =  pd.read_csv('data/ebola_CA.csv', sep='-')\n",
    "ebola_data_CA.head()"
   ]
  },
  {
   "cell_type": "markdown",
   "metadata": {},
   "source": [
    " "
   ]
  },
  {
   "cell_type": "markdown",
   "metadata": {},
   "source": [
    "You might have guessed it. CSV stands for comma separated values. Other files similar file extensions are also used. See below:\n",
    "\n",
    "* `\",\"` for the csv file\n",
    "* `\"\\t\"` for a tsv file \n",
    "* or any other character that separates the different variables for an observation"
   ]
  },
  {
   "cell_type": "markdown",
   "metadata": {},
   "source": [
    "As example of the  `.tsv` file, see the gapminder dataset below. Let's read this dataset where variables are separated by a tabulation key."
   ]
  },
  {
   "cell_type": "code",
   "execution_count": 3,
   "metadata": {},
   "outputs": [],
   "source": [
    "import pandas as pd"
   ]
  },
  {
   "cell_type": "code",
   "execution_count": 4,
   "metadata": {
    "scrolled": true
   },
   "outputs": [
    {
     "data": {
      "application/vnd.microsoft.datawrangler.viewer.v0+json": {
       "columns": [
        {
         "name": "index",
         "rawType": "int64",
         "type": "integer"
        },
        {
         "name": "country",
         "rawType": "object",
         "type": "string"
        },
        {
         "name": "continent",
         "rawType": "object",
         "type": "string"
        },
        {
         "name": "year",
         "rawType": "int64",
         "type": "integer"
        },
        {
         "name": "lifeExp",
         "rawType": "float64",
         "type": "float"
        },
        {
         "name": "pop",
         "rawType": "int64",
         "type": "integer"
        },
        {
         "name": "gdpPercap",
         "rawType": "float64",
         "type": "float"
        }
       ],
       "ref": "ec5afeaf-e70f-43d2-bd6c-ed002f77cf37",
       "rows": [
        [
         "0",
         "Afghanistan",
         "Asia",
         "1952",
         "28.801",
         "8425333",
         "779.4453145"
        ],
        [
         "1",
         "Afghanistan",
         "Asia",
         "1957",
         "30.332",
         "9240934",
         "820.8530296"
        ],
        [
         "2",
         "Afghanistan",
         "Asia",
         "1962",
         "31.997",
         "10267083",
         "853.10071"
        ],
        [
         "3",
         "Afghanistan",
         "Asia",
         "1967",
         "34.02",
         "11537966",
         "836.1971382"
        ],
        [
         "4",
         "Afghanistan",
         "Asia",
         "1972",
         "36.088",
         "13079460",
         "739.9811058"
        ]
       ],
       "shape": {
        "columns": 6,
        "rows": 5
       }
      },
      "text/html": [
       "<div>\n",
       "<style scoped>\n",
       "    .dataframe tbody tr th:only-of-type {\n",
       "        vertical-align: middle;\n",
       "    }\n",
       "\n",
       "    .dataframe tbody tr th {\n",
       "        vertical-align: top;\n",
       "    }\n",
       "\n",
       "    .dataframe thead th {\n",
       "        text-align: right;\n",
       "    }\n",
       "</style>\n",
       "<table border=\"1\" class=\"dataframe\">\n",
       "  <thead>\n",
       "    <tr style=\"text-align: right;\">\n",
       "      <th></th>\n",
       "      <th>country</th>\n",
       "      <th>continent</th>\n",
       "      <th>year</th>\n",
       "      <th>lifeExp</th>\n",
       "      <th>pop</th>\n",
       "      <th>gdpPercap</th>\n",
       "    </tr>\n",
       "  </thead>\n",
       "  <tbody>\n",
       "    <tr>\n",
       "      <th>0</th>\n",
       "      <td>Afghanistan</td>\n",
       "      <td>Asia</td>\n",
       "      <td>1952</td>\n",
       "      <td>28.801</td>\n",
       "      <td>8425333</td>\n",
       "      <td>779.445314</td>\n",
       "    </tr>\n",
       "    <tr>\n",
       "      <th>1</th>\n",
       "      <td>Afghanistan</td>\n",
       "      <td>Asia</td>\n",
       "      <td>1957</td>\n",
       "      <td>30.332</td>\n",
       "      <td>9240934</td>\n",
       "      <td>820.853030</td>\n",
       "    </tr>\n",
       "    <tr>\n",
       "      <th>2</th>\n",
       "      <td>Afghanistan</td>\n",
       "      <td>Asia</td>\n",
       "      <td>1962</td>\n",
       "      <td>31.997</td>\n",
       "      <td>10267083</td>\n",
       "      <td>853.100710</td>\n",
       "    </tr>\n",
       "    <tr>\n",
       "      <th>3</th>\n",
       "      <td>Afghanistan</td>\n",
       "      <td>Asia</td>\n",
       "      <td>1967</td>\n",
       "      <td>34.020</td>\n",
       "      <td>11537966</td>\n",
       "      <td>836.197138</td>\n",
       "    </tr>\n",
       "    <tr>\n",
       "      <th>4</th>\n",
       "      <td>Afghanistan</td>\n",
       "      <td>Asia</td>\n",
       "      <td>1972</td>\n",
       "      <td>36.088</td>\n",
       "      <td>13079460</td>\n",
       "      <td>739.981106</td>\n",
       "    </tr>\n",
       "  </tbody>\n",
       "</table>\n",
       "</div>"
      ],
      "text/plain": [
       "       country continent  year  lifeExp       pop   gdpPercap\n",
       "0  Afghanistan      Asia  1952   28.801   8425333  779.445314\n",
       "1  Afghanistan      Asia  1957   30.332   9240934  820.853030\n",
       "2  Afghanistan      Asia  1962   31.997  10267083  853.100710\n",
       "3  Afghanistan      Asia  1967   34.020  11537966  836.197138\n",
       "4  Afghanistan      Asia  1972   36.088  13079460  739.981106"
      ]
     },
     "execution_count": 4,
     "metadata": {},
     "output_type": "execute_result"
    }
   ],
   "source": [
    "world_gapminder = pd.read_csv('data/gapminder.tsv' , sep = \"\\t\")\n",
    "world_gapminder.head(5)"
   ]
  },
  {
   "cell_type": "markdown",
   "metadata": {},
   "source": [
    "###  The `pandas.read_excel` method "
   ]
  },
  {
   "cell_type": "markdown",
   "metadata": {},
   "source": [
    "Excel files are also quite common files for saving data. The XLS file extension is used for files saved as Microsoft Excel worksheets. Reading an excel file requires the same process as reading a csv file. The only difference lies in specifying the sheet you want to get access to."
   ]
  },
  {
   "cell_type": "markdown",
   "metadata": {},
   "source": [
    "The dataset below comes from the mining industry. It contains mining locations in some African countries both at the region and at the district level. See here a link to an interesting website where you can download the shapefiles of such regions.  https://gadm.org/formats.html "
   ]
  },
  {
   "cell_type": "markdown",
   "metadata": {},
   "source": [
    "The code below accesses an excel sheet nameed `ds_salaries`and the sheet `salary` ."
   ]
  },
  {
   "cell_type": "code",
   "execution_count": 6,
   "metadata": {},
   "outputs": [
    {
     "data": {
      "application/vnd.microsoft.datawrangler.viewer.v0+json": {
       "columns": [
        {
         "name": "index",
         "rawType": "int64",
         "type": "integer"
        },
        {
         "name": "work_year",
         "rawType": "int64",
         "type": "integer"
        },
        {
         "name": "experience_level",
         "rawType": "object",
         "type": "string"
        },
        {
         "name": "employment_type",
         "rawType": "object",
         "type": "string"
        },
        {
         "name": "job_title",
         "rawType": "object",
         "type": "string"
        },
        {
         "name": "salary",
         "rawType": "int64",
         "type": "integer"
        },
        {
         "name": "salary_currency",
         "rawType": "object",
         "type": "string"
        },
        {
         "name": "salary_in_usd",
         "rawType": "int64",
         "type": "integer"
        },
        {
         "name": "employee_residence",
         "rawType": "object",
         "type": "string"
        },
        {
         "name": "remote_ratio",
         "rawType": "int64",
         "type": "integer"
        },
        {
         "name": "company_location",
         "rawType": "object",
         "type": "string"
        },
        {
         "name": "company_size",
         "rawType": "object",
         "type": "string"
        }
       ],
       "ref": "17c2e62e-c7db-499c-a3e8-ed940a4590d4",
       "rows": [
        [
         "0",
         "2023",
         "SE",
         "FT",
         "Principal Data Scientist",
         "80000",
         "EUR",
         "85847",
         "ES",
         "100",
         "ES",
         "L"
        ],
        [
         "1",
         "2023",
         "MI",
         "CT",
         "ML Engineer",
         "30000",
         "USD",
         "30000",
         "US",
         "100",
         "US",
         "S"
        ],
        [
         "2",
         "2023",
         "MI",
         "CT",
         "ML Engineer",
         "25500",
         "USD",
         "25500",
         "US",
         "100",
         "US",
         "S"
        ],
        [
         "3",
         "2023",
         "SE",
         "FT",
         "Data Scientist",
         "175000",
         "USD",
         "175000",
         "CA",
         "100",
         "CA",
         "M"
        ],
        [
         "4",
         "2023",
         "SE",
         "FT",
         "Data Scientist",
         "120000",
         "USD",
         "120000",
         "CA",
         "100",
         "CA",
         "M"
        ]
       ],
       "shape": {
        "columns": 11,
        "rows": 5
       }
      },
      "text/html": [
       "<div>\n",
       "<style scoped>\n",
       "    .dataframe tbody tr th:only-of-type {\n",
       "        vertical-align: middle;\n",
       "    }\n",
       "\n",
       "    .dataframe tbody tr th {\n",
       "        vertical-align: top;\n",
       "    }\n",
       "\n",
       "    .dataframe thead th {\n",
       "        text-align: right;\n",
       "    }\n",
       "</style>\n",
       "<table border=\"1\" class=\"dataframe\">\n",
       "  <thead>\n",
       "    <tr style=\"text-align: right;\">\n",
       "      <th></th>\n",
       "      <th>work_year</th>\n",
       "      <th>experience_level</th>\n",
       "      <th>employment_type</th>\n",
       "      <th>job_title</th>\n",
       "      <th>salary</th>\n",
       "      <th>salary_currency</th>\n",
       "      <th>salary_in_usd</th>\n",
       "      <th>employee_residence</th>\n",
       "      <th>remote_ratio</th>\n",
       "      <th>company_location</th>\n",
       "      <th>company_size</th>\n",
       "    </tr>\n",
       "  </thead>\n",
       "  <tbody>\n",
       "    <tr>\n",
       "      <th>0</th>\n",
       "      <td>2023</td>\n",
       "      <td>SE</td>\n",
       "      <td>FT</td>\n",
       "      <td>Principal Data Scientist</td>\n",
       "      <td>80000</td>\n",
       "      <td>EUR</td>\n",
       "      <td>85847</td>\n",
       "      <td>ES</td>\n",
       "      <td>100</td>\n",
       "      <td>ES</td>\n",
       "      <td>L</td>\n",
       "    </tr>\n",
       "    <tr>\n",
       "      <th>1</th>\n",
       "      <td>2023</td>\n",
       "      <td>MI</td>\n",
       "      <td>CT</td>\n",
       "      <td>ML Engineer</td>\n",
       "      <td>30000</td>\n",
       "      <td>USD</td>\n",
       "      <td>30000</td>\n",
       "      <td>US</td>\n",
       "      <td>100</td>\n",
       "      <td>US</td>\n",
       "      <td>S</td>\n",
       "    </tr>\n",
       "    <tr>\n",
       "      <th>2</th>\n",
       "      <td>2023</td>\n",
       "      <td>MI</td>\n",
       "      <td>CT</td>\n",
       "      <td>ML Engineer</td>\n",
       "      <td>25500</td>\n",
       "      <td>USD</td>\n",
       "      <td>25500</td>\n",
       "      <td>US</td>\n",
       "      <td>100</td>\n",
       "      <td>US</td>\n",
       "      <td>S</td>\n",
       "    </tr>\n",
       "    <tr>\n",
       "      <th>3</th>\n",
       "      <td>2023</td>\n",
       "      <td>SE</td>\n",
       "      <td>FT</td>\n",
       "      <td>Data Scientist</td>\n",
       "      <td>175000</td>\n",
       "      <td>USD</td>\n",
       "      <td>175000</td>\n",
       "      <td>CA</td>\n",
       "      <td>100</td>\n",
       "      <td>CA</td>\n",
       "      <td>M</td>\n",
       "    </tr>\n",
       "    <tr>\n",
       "      <th>4</th>\n",
       "      <td>2023</td>\n",
       "      <td>SE</td>\n",
       "      <td>FT</td>\n",
       "      <td>Data Scientist</td>\n",
       "      <td>120000</td>\n",
       "      <td>USD</td>\n",
       "      <td>120000</td>\n",
       "      <td>CA</td>\n",
       "      <td>100</td>\n",
       "      <td>CA</td>\n",
       "      <td>M</td>\n",
       "    </tr>\n",
       "  </tbody>\n",
       "</table>\n",
       "</div>"
      ],
      "text/plain": [
       "   work_year experience_level employment_type                 job_title  \\\n",
       "0       2023               SE              FT  Principal Data Scientist   \n",
       "1       2023               MI              CT               ML Engineer   \n",
       "2       2023               MI              CT               ML Engineer   \n",
       "3       2023               SE              FT            Data Scientist   \n",
       "4       2023               SE              FT            Data Scientist   \n",
       "\n",
       "   salary salary_currency  salary_in_usd employee_residence  remote_ratio  \\\n",
       "0   80000             EUR          85847                 ES           100   \n",
       "1   30000             USD          30000                 US           100   \n",
       "2   25500             USD          25500                 US           100   \n",
       "3  175000             USD         175000                 CA           100   \n",
       "4  120000             USD         120000                 CA           100   \n",
       "\n",
       "  company_location company_size  \n",
       "0               ES            L  \n",
       "1               US            S  \n",
       "2               US            S  \n",
       "3               CA            M  \n",
       "4               CA            M  "
      ]
     },
     "execution_count": 6,
     "metadata": {},
     "output_type": "execute_result"
    }
   ],
   "source": [
    "df_salaries = pd.read_excel('data/pro_salaries.xlsx', sheet_name = 'salary')\n",
    "# what's happenning  if a I want to import many sheet ? \n",
    "df_salaries.head(5)"
   ]
  },
  {
   "cell_type": "markdown",
   "metadata": {},
   "source": [
    "**Just from looking at the dataset, at first glance, can you guess the meaning of some of the columns?**"
   ]
  },
  {
   "cell_type": "code",
   "execution_count": null,
   "metadata": {},
   "outputs": [],
   "source": []
  },
  {
   "cell_type": "markdown",
   "metadata": {},
   "source": [
    "### The `pandas.read_clipboard` method "
   ]
  },
  {
   "cell_type": "markdown",
   "metadata": {},
   "source": [
    "The `pandas.read_clipboard` method is a convenient tool that reads the contents of your clipboard directly into a pandas DataFrame. This method can be quite useful when you want to quickly grab tables or data that you've copied from websites, spreadsheets, or other sources without having to save them as files first.\n"
   ]
  },
  {
   "cell_type": "code",
   "execution_count": null,
   "metadata": {
    "scrolled": true
   },
   "outputs": [],
   "source": [
    "# lets practice some.  \n",
    "# Take a look at this website https://www.timeanddate.com/\n",
    "\n",
    "    #--->  Navigate to Sun, Moon and Space\n",
    "    # --->  Click on Sun Calculator  \n",
    "    # --->  Enter the name of a city of your choice in the search box and click on it.\n",
    "\n",
    "\n",
    "import pandas as pd\n",
    "my_city_df = pd.read_clipboard()\n",
    "my_city_df"
   ]
  },
  {
   "cell_type": "markdown",
   "metadata": {},
   "source": [
    "There are several other pandas reading methods. Depending on the files you are dealing with, you might have to choose the convenient method. Other popular methods include `pd.read_json` (for `json` files) , `pd.read_html` (for `html` files) , `pd.read_`\n",
    "\n",
    "The principle stays the same, which is reading from external sources and casting it into a pandas dataframe for facilitating the analysis. "
   ]
  },
  {
   "cell_type": "markdown",
   "metadata": {},
   "source": [
    "##  Shape and datatype"
   ]
  },
  {
   "cell_type": "code",
   "execution_count": 11,
   "metadata": {},
   "outputs": [],
   "source": [
    "ebola_wa = pd.read_csv('data/ebola_WA.csv')"
   ]
  },
  {
   "cell_type": "markdown",
   "metadata": {},
   "source": [
    "To get the first n rows and the last n rows"
   ]
  },
  {
   "cell_type": "code",
   "execution_count": 12,
   "metadata": {},
   "outputs": [
    {
     "data": {
      "application/vnd.microsoft.datawrangler.viewer.v0+json": {
       "columns": [
        {
         "name": "index",
         "rawType": "int64",
         "type": "integer"
        },
        {
         "name": "Date",
         "rawType": "object",
         "type": "string"
        },
        {
         "name": "Day",
         "rawType": "int64",
         "type": "integer"
        },
        {
         "name": "Cases_Guinea",
         "rawType": "float64",
         "type": "float"
        },
        {
         "name": "Cases_Liberia",
         "rawType": "float64",
         "type": "float"
        },
        {
         "name": "Cases_SierraLeone",
         "rawType": "float64",
         "type": "float"
        },
        {
         "name": "Cases_Nigeria",
         "rawType": "float64",
         "type": "float"
        }
       ],
       "ref": "9bf02e50-c97e-4142-9eef-a70b82e53ca4",
       "rows": [
        [
         "0",
         "1/5/2015",
         "289",
         "2776.0",
         null,
         "10030.0",
         null
        ],
        [
         "1",
         "1/4/2015",
         "288",
         "2775.0",
         null,
         "9780.0",
         null
        ],
        [
         "2",
         "1/3/2015",
         "287",
         "2769.0",
         "8166.0",
         "9722.0",
         null
        ],
        [
         "3",
         "1/2/2015",
         "286",
         null,
         "8157.0",
         null,
         null
        ]
       ],
       "shape": {
        "columns": 6,
        "rows": 4
       }
      },
      "text/html": [
       "<div>\n",
       "<style scoped>\n",
       "    .dataframe tbody tr th:only-of-type {\n",
       "        vertical-align: middle;\n",
       "    }\n",
       "\n",
       "    .dataframe tbody tr th {\n",
       "        vertical-align: top;\n",
       "    }\n",
       "\n",
       "    .dataframe thead th {\n",
       "        text-align: right;\n",
       "    }\n",
       "</style>\n",
       "<table border=\"1\" class=\"dataframe\">\n",
       "  <thead>\n",
       "    <tr style=\"text-align: right;\">\n",
       "      <th></th>\n",
       "      <th>Date</th>\n",
       "      <th>Day</th>\n",
       "      <th>Cases_Guinea</th>\n",
       "      <th>Cases_Liberia</th>\n",
       "      <th>Cases_SierraLeone</th>\n",
       "      <th>Cases_Nigeria</th>\n",
       "    </tr>\n",
       "  </thead>\n",
       "  <tbody>\n",
       "    <tr>\n",
       "      <th>0</th>\n",
       "      <td>1/5/2015</td>\n",
       "      <td>289</td>\n",
       "      <td>2776.0</td>\n",
       "      <td>NaN</td>\n",
       "      <td>10030.0</td>\n",
       "      <td>NaN</td>\n",
       "    </tr>\n",
       "    <tr>\n",
       "      <th>1</th>\n",
       "      <td>1/4/2015</td>\n",
       "      <td>288</td>\n",
       "      <td>2775.0</td>\n",
       "      <td>NaN</td>\n",
       "      <td>9780.0</td>\n",
       "      <td>NaN</td>\n",
       "    </tr>\n",
       "    <tr>\n",
       "      <th>2</th>\n",
       "      <td>1/3/2015</td>\n",
       "      <td>287</td>\n",
       "      <td>2769.0</td>\n",
       "      <td>8166.0</td>\n",
       "      <td>9722.0</td>\n",
       "      <td>NaN</td>\n",
       "    </tr>\n",
       "    <tr>\n",
       "      <th>3</th>\n",
       "      <td>1/2/2015</td>\n",
       "      <td>286</td>\n",
       "      <td>NaN</td>\n",
       "      <td>8157.0</td>\n",
       "      <td>NaN</td>\n",
       "      <td>NaN</td>\n",
       "    </tr>\n",
       "  </tbody>\n",
       "</table>\n",
       "</div>"
      ],
      "text/plain": [
       "       Date  Day  Cases_Guinea  Cases_Liberia  Cases_SierraLeone  \\\n",
       "0  1/5/2015  289        2776.0            NaN            10030.0   \n",
       "1  1/4/2015  288        2775.0            NaN             9780.0   \n",
       "2  1/3/2015  287        2769.0         8166.0             9722.0   \n",
       "3  1/2/2015  286           NaN         8157.0                NaN   \n",
       "\n",
       "   Cases_Nigeria  \n",
       "0            NaN  \n",
       "1            NaN  \n",
       "2            NaN  \n",
       "3            NaN  "
      ]
     },
     "execution_count": 12,
     "metadata": {},
     "output_type": "execute_result"
    }
   ],
   "source": [
    "ebola_wa.head(4)"
   ]
  },
  {
   "cell_type": "code",
   "execution_count": 8,
   "metadata": {},
   "outputs": [
    {
     "data": {
      "application/vnd.microsoft.datawrangler.viewer.v0+json": {
       "columns": [
        {
         "name": "index",
         "rawType": "int64",
         "type": "integer"
        },
        {
         "name": "Date",
         "rawType": "object",
         "type": "string"
        },
        {
         "name": "Day",
         "rawType": "int64",
         "type": "integer"
        },
        {
         "name": "Cases_Guinea",
         "rawType": "float64",
         "type": "float"
        },
        {
         "name": "Cases_Liberia",
         "rawType": "float64",
         "type": "float"
        },
        {
         "name": "Cases_SierraLeone",
         "rawType": "float64",
         "type": "float"
        },
        {
         "name": "Cases_Nigeria",
         "rawType": "float64",
         "type": "float"
        }
       ],
       "ref": "9cf9d450-6c9d-41e3-9e2f-5e796e625dd0",
       "rows": [
        [
         "117",
         "3/27/2014",
         "5",
         "103.0",
         "8.0",
         "6.0",
         null
        ],
        [
         "118",
         "3/26/2014",
         "4",
         "86.0",
         null,
         null,
         null
        ],
        [
         "119",
         "3/25/2014",
         "3",
         "86.0",
         null,
         null,
         null
        ],
        [
         "120",
         "3/24/2014",
         "2",
         "86.0",
         null,
         null,
         null
        ],
        [
         "121",
         "3/22/2014",
         "0",
         "49.0",
         null,
         null,
         null
        ]
       ],
       "shape": {
        "columns": 6,
        "rows": 5
       }
      },
      "text/html": [
       "<div>\n",
       "<style scoped>\n",
       "    .dataframe tbody tr th:only-of-type {\n",
       "        vertical-align: middle;\n",
       "    }\n",
       "\n",
       "    .dataframe tbody tr th {\n",
       "        vertical-align: top;\n",
       "    }\n",
       "\n",
       "    .dataframe thead th {\n",
       "        text-align: right;\n",
       "    }\n",
       "</style>\n",
       "<table border=\"1\" class=\"dataframe\">\n",
       "  <thead>\n",
       "    <tr style=\"text-align: right;\">\n",
       "      <th></th>\n",
       "      <th>Date</th>\n",
       "      <th>Day</th>\n",
       "      <th>Cases_Guinea</th>\n",
       "      <th>Cases_Liberia</th>\n",
       "      <th>Cases_SierraLeone</th>\n",
       "      <th>Cases_Nigeria</th>\n",
       "    </tr>\n",
       "  </thead>\n",
       "  <tbody>\n",
       "    <tr>\n",
       "      <th>117</th>\n",
       "      <td>3/27/2014</td>\n",
       "      <td>5</td>\n",
       "      <td>103.0</td>\n",
       "      <td>8.0</td>\n",
       "      <td>6.0</td>\n",
       "      <td>NaN</td>\n",
       "    </tr>\n",
       "    <tr>\n",
       "      <th>118</th>\n",
       "      <td>3/26/2014</td>\n",
       "      <td>4</td>\n",
       "      <td>86.0</td>\n",
       "      <td>NaN</td>\n",
       "      <td>NaN</td>\n",
       "      <td>NaN</td>\n",
       "    </tr>\n",
       "    <tr>\n",
       "      <th>119</th>\n",
       "      <td>3/25/2014</td>\n",
       "      <td>3</td>\n",
       "      <td>86.0</td>\n",
       "      <td>NaN</td>\n",
       "      <td>NaN</td>\n",
       "      <td>NaN</td>\n",
       "    </tr>\n",
       "    <tr>\n",
       "      <th>120</th>\n",
       "      <td>3/24/2014</td>\n",
       "      <td>2</td>\n",
       "      <td>86.0</td>\n",
       "      <td>NaN</td>\n",
       "      <td>NaN</td>\n",
       "      <td>NaN</td>\n",
       "    </tr>\n",
       "    <tr>\n",
       "      <th>121</th>\n",
       "      <td>3/22/2014</td>\n",
       "      <td>0</td>\n",
       "      <td>49.0</td>\n",
       "      <td>NaN</td>\n",
       "      <td>NaN</td>\n",
       "      <td>NaN</td>\n",
       "    </tr>\n",
       "  </tbody>\n",
       "</table>\n",
       "</div>"
      ],
      "text/plain": [
       "          Date  Day  Cases_Guinea  Cases_Liberia  Cases_SierraLeone  \\\n",
       "117  3/27/2014    5         103.0            8.0                6.0   \n",
       "118  3/26/2014    4          86.0            NaN                NaN   \n",
       "119  3/25/2014    3          86.0            NaN                NaN   \n",
       "120  3/24/2014    2          86.0            NaN                NaN   \n",
       "121  3/22/2014    0          49.0            NaN                NaN   \n",
       "\n",
       "     Cases_Nigeria  \n",
       "117            NaN  \n",
       "118            NaN  \n",
       "119            NaN  \n",
       "120            NaN  \n",
       "121            NaN  "
      ]
     },
     "execution_count": 8,
     "metadata": {},
     "output_type": "execute_result"
    }
   ],
   "source": [
    "ebola_wa.tail(5)"
   ]
  },
  {
   "cell_type": "markdown",
   "metadata": {},
   "source": [
    "A random sample of 3 rows "
   ]
  },
  {
   "cell_type": "code",
   "execution_count": 9,
   "metadata": {},
   "outputs": [
    {
     "data": {
      "application/vnd.microsoft.datawrangler.viewer.v0+json": {
       "columns": [
        {
         "name": "index",
         "rawType": "int64",
         "type": "integer"
        },
        {
         "name": "Date",
         "rawType": "object",
         "type": "string"
        },
        {
         "name": "Day",
         "rawType": "int64",
         "type": "integer"
        },
        {
         "name": "Cases_Guinea",
         "rawType": "float64",
         "type": "float"
        },
        {
         "name": "Cases_Liberia",
         "rawType": "float64",
         "type": "float"
        },
        {
         "name": "Cases_SierraLeone",
         "rawType": "float64",
         "type": "float"
        },
        {
         "name": "Cases_Nigeria",
         "rawType": "float64",
         "type": "float"
        }
       ],
       "ref": "795f71ab-a150-4507-9442-ee53ba852936",
       "rows": [
        [
         "44",
         "10/4/2014",
         "196",
         null,
         "3924.0",
         null,
         null
        ],
        [
         "22",
         "11/11/2014",
         "234",
         "1919.0",
         null,
         "5586.0",
         "20.0"
        ],
        [
         "115",
         "3/29/2014",
         "7",
         "112.0",
         "7.0",
         null,
         null
        ]
       ],
       "shape": {
        "columns": 6,
        "rows": 3
       }
      },
      "text/html": [
       "<div>\n",
       "<style scoped>\n",
       "    .dataframe tbody tr th:only-of-type {\n",
       "        vertical-align: middle;\n",
       "    }\n",
       "\n",
       "    .dataframe tbody tr th {\n",
       "        vertical-align: top;\n",
       "    }\n",
       "\n",
       "    .dataframe thead th {\n",
       "        text-align: right;\n",
       "    }\n",
       "</style>\n",
       "<table border=\"1\" class=\"dataframe\">\n",
       "  <thead>\n",
       "    <tr style=\"text-align: right;\">\n",
       "      <th></th>\n",
       "      <th>Date</th>\n",
       "      <th>Day</th>\n",
       "      <th>Cases_Guinea</th>\n",
       "      <th>Cases_Liberia</th>\n",
       "      <th>Cases_SierraLeone</th>\n",
       "      <th>Cases_Nigeria</th>\n",
       "    </tr>\n",
       "  </thead>\n",
       "  <tbody>\n",
       "    <tr>\n",
       "      <th>44</th>\n",
       "      <td>10/4/2014</td>\n",
       "      <td>196</td>\n",
       "      <td>NaN</td>\n",
       "      <td>3924.0</td>\n",
       "      <td>NaN</td>\n",
       "      <td>NaN</td>\n",
       "    </tr>\n",
       "    <tr>\n",
       "      <th>22</th>\n",
       "      <td>11/11/2014</td>\n",
       "      <td>234</td>\n",
       "      <td>1919.0</td>\n",
       "      <td>NaN</td>\n",
       "      <td>5586.0</td>\n",
       "      <td>20.0</td>\n",
       "    </tr>\n",
       "    <tr>\n",
       "      <th>115</th>\n",
       "      <td>3/29/2014</td>\n",
       "      <td>7</td>\n",
       "      <td>112.0</td>\n",
       "      <td>7.0</td>\n",
       "      <td>NaN</td>\n",
       "      <td>NaN</td>\n",
       "    </tr>\n",
       "  </tbody>\n",
       "</table>\n",
       "</div>"
      ],
      "text/plain": [
       "           Date  Day  Cases_Guinea  Cases_Liberia  Cases_SierraLeone  \\\n",
       "44    10/4/2014  196           NaN         3924.0                NaN   \n",
       "22   11/11/2014  234        1919.0            NaN             5586.0   \n",
       "115   3/29/2014    7         112.0            7.0                NaN   \n",
       "\n",
       "     Cases_Nigeria  \n",
       "44             NaN  \n",
       "22            20.0  \n",
       "115            NaN  "
      ]
     },
     "execution_count": 9,
     "metadata": {},
     "output_type": "execute_result"
    }
   ],
   "source": [
    "ebola_wa.sample(3)"
   ]
  },
  {
   "cell_type": "markdown",
   "metadata": {},
   "source": [
    "To check the shape of the dataframe (rows and columns)"
   ]
  },
  {
   "cell_type": "code",
   "execution_count": 19,
   "metadata": {},
   "outputs": [
    {
     "data": {
      "text/plain": [
       "(122, 6)"
      ]
     },
     "execution_count": 19,
     "metadata": {},
     "output_type": "execute_result"
    }
   ],
   "source": [
    "ebola_wa.shape"
   ]
  },
  {
   "cell_type": "markdown",
   "metadata": {},
   "source": [
    "To check the datatype of each of the columns"
   ]
  },
  {
   "cell_type": "code",
   "execution_count": 20,
   "metadata": {},
   "outputs": [
    {
     "name": "stdout",
     "output_type": "stream",
     "text": [
      "<class 'pandas.core.frame.DataFrame'>\n",
      "RangeIndex: 122 entries, 0 to 121\n",
      "Data columns (total 6 columns):\n",
      " #   Column             Non-Null Count  Dtype  \n",
      "---  ------             --------------  -----  \n",
      " 0   Date               122 non-null    object \n",
      " 1   Day                122 non-null    int64  \n",
      " 2   Cases_Guinea       93 non-null     float64\n",
      " 3   Cases_Liberia      83 non-null     float64\n",
      " 4   Cases_SierraLeone  87 non-null     float64\n",
      " 5   Cases_Nigeria      38 non-null     float64\n",
      "dtypes: float64(4), int64(1), object(1)\n",
      "memory usage: 5.8+ KB\n"
     ]
    }
   ],
   "source": [
    "ebola_wa.info()"
   ]
  },
  {
   "cell_type": "markdown",
   "metadata": {},
   "source": [
    " "
   ]
  },
  {
   "cell_type": "markdown",
   "metadata": {},
   "source": [
    "* We can notice that the dataset contains 122 entries with their index ranging from 0 to 121\n",
    "\n",
    "* The columns  **Cases_Guinea, Cases_Liberia, Cases_SierraLeone** and **Cases_Nigeria** are **float64** type.\n",
    "Which means they contain floating points.\n",
    "\n",
    "* The ***Day** column is of **int64** type\n",
    "\n",
    "* Some of the columns contains missing values:\n",
    "        122-93 = 29 for the Cases_Guinea\n",
    "        122-83 = 39 for the Cases_Liberia\n",
    "        122-87 = 35 for the Cases_SierraLeone\n",
    "        122-38 = 84 for the Cases_Nigeria"
   ]
  },
  {
   "cell_type": "markdown",
   "metadata": {},
   "source": [
    "To check the list of columns"
   ]
  },
  {
   "cell_type": "code",
   "execution_count": 12,
   "metadata": {},
   "outputs": [
    {
     "data": {
      "text/plain": [
       "Index(['Date', 'Day', 'Cases_Guinea', 'Cases_Liberia', 'Cases_SierraLeone',\n",
       "       'Cases_Nigeria'],\n",
       "      dtype='object')"
      ]
     },
     "execution_count": 12,
     "metadata": {},
     "output_type": "execute_result"
    }
   ],
   "source": [
    "ebola_wa.columns"
   ]
  },
  {
   "cell_type": "markdown",
   "metadata": {},
   "source": [
    "Let's consider another dataset"
   ]
  },
  {
   "cell_type": "code",
   "execution_count": null,
   "metadata": {},
   "outputs": [
    {
     "data": {
      "application/vnd.microsoft.datawrangler.viewer.v0+json": {
       "columns": [
        {
         "name": "index",
         "rawType": "int64",
         "type": "integer"
        },
        {
         "name": "country",
         "rawType": "object",
         "type": "string"
        },
        {
         "name": "continent",
         "rawType": "object",
         "type": "string"
        },
        {
         "name": "year",
         "rawType": "int64",
         "type": "integer"
        },
        {
         "name": "lifeExp",
         "rawType": "float64",
         "type": "float"
        },
        {
         "name": "pop",
         "rawType": "int64",
         "type": "integer"
        },
        {
         "name": "gdpPercap",
         "rawType": "float64",
         "type": "float"
        }
       ],
       "ref": "73c3efc6-948c-4fd9-afbb-6e40b03210de",
       "rows": [
        [
         "0",
         "Afghanistan",
         "Asia",
         "1952",
         "28.801",
         "8425333",
         "779.4453145"
        ],
        [
         "1",
         "Afghanistan",
         "Asia",
         "1957",
         "30.332",
         "9240934",
         "820.8530296"
        ],
        [
         "2",
         "Afghanistan",
         "Asia",
         "1962",
         "31.997",
         "10267083",
         "853.10071"
        ],
        [
         "3",
         "Afghanistan",
         "Asia",
         "1967",
         "34.02",
         "11537966",
         "836.1971382"
        ],
        [
         "4",
         "Afghanistan",
         "Asia",
         "1972",
         "36.088",
         "13079460",
         "739.9811058"
        ],
        [
         "5",
         "Afghanistan",
         "Asia",
         "1977",
         "38.438",
         "14880372",
         "786.11336"
        ],
        [
         "6",
         "Afghanistan",
         "Asia",
         "1982",
         "39.854",
         "12881816",
         "978.0114388"
        ],
        [
         "7",
         "Afghanistan",
         "Asia",
         "1987",
         "40.822",
         "13867957",
         "852.3959448"
        ],
        [
         "8",
         "Afghanistan",
         "Asia",
         "1992",
         "41.674",
         "16317921",
         "649.3413952"
        ],
        [
         "9",
         "Afghanistan",
         "Asia",
         "1997",
         "41.763",
         "22227415",
         "635.341351"
        ],
        [
         "10",
         "Afghanistan",
         "Asia",
         "2002",
         "42.129",
         "25268405",
         "726.7340548"
        ],
        [
         "11",
         "Afghanistan",
         "Asia",
         "2007",
         "43.828",
         "31889923",
         "974.5803384"
        ],
        [
         "12",
         "Albania",
         "Europe",
         "1952",
         "55.23",
         "1282697",
         "1601.056136"
        ],
        [
         "13",
         "Albania",
         "Europe",
         "1957",
         "59.28",
         "1476505",
         "1942.284244"
        ],
        [
         "14",
         "Albania",
         "Europe",
         "1962",
         "64.82",
         "1728137",
         "2312.888958"
        ],
        [
         "15",
         "Albania",
         "Europe",
         "1967",
         "66.22",
         "1984060",
         "2760.196931"
        ],
        [
         "16",
         "Albania",
         "Europe",
         "1972",
         "67.69",
         "2263554",
         "3313.422188"
        ],
        [
         "17",
         "Albania",
         "Europe",
         "1977",
         "68.93",
         "2509048",
         "3533.00391"
        ],
        [
         "18",
         "Albania",
         "Europe",
         "1982",
         "70.42",
         "2780097",
         "3630.880722"
        ],
        [
         "19",
         "Albania",
         "Europe",
         "1987",
         "72.0",
         "3075321",
         "3738.932735"
        ],
        [
         "20",
         "Albania",
         "Europe",
         "1992",
         "71.581",
         "3326498",
         "2497.437901"
        ],
        [
         "21",
         "Albania",
         "Europe",
         "1997",
         "72.95",
         "3428038",
         "3193.054604"
        ],
        [
         "22",
         "Albania",
         "Europe",
         "2002",
         "75.651",
         "3508512",
         "4604.211737"
        ],
        [
         "23",
         "Albania",
         "Europe",
         "2007",
         "76.423",
         "3600523",
         "5937.029526"
        ],
        [
         "24",
         "Algeria",
         "Africa",
         "1952",
         "43.077",
         "9279525",
         "2449.008185"
        ],
        [
         "25",
         "Algeria",
         "Africa",
         "1957",
         "45.685",
         "10270856",
         "3013.976023"
        ],
        [
         "26",
         "Algeria",
         "Africa",
         "1962",
         "48.303",
         "11000948",
         "2550.81688"
        ],
        [
         "27",
         "Algeria",
         "Africa",
         "1967",
         "51.407",
         "12760499",
         "3246.991771"
        ],
        [
         "28",
         "Algeria",
         "Africa",
         "1972",
         "54.518",
         "14760787",
         "4182.663766"
        ],
        [
         "29",
         "Algeria",
         "Africa",
         "1977",
         "58.014",
         "17152804",
         "4910.416756"
        ],
        [
         "30",
         "Algeria",
         "Africa",
         "1982",
         "61.368",
         "20033753",
         "5745.160213"
        ],
        [
         "31",
         "Algeria",
         "Africa",
         "1987",
         "65.799",
         "23254956",
         "5681.358539"
        ],
        [
         "32",
         "Algeria",
         "Africa",
         "1992",
         "67.744",
         "26298373",
         "5023.216647"
        ],
        [
         "33",
         "Algeria",
         "Africa",
         "1997",
         "69.152",
         "29072015",
         "4797.295051"
        ],
        [
         "34",
         "Algeria",
         "Africa",
         "2002",
         "70.994",
         "31287142",
         "5288.040382"
        ],
        [
         "35",
         "Algeria",
         "Africa",
         "2007",
         "72.301",
         "33333216",
         "6223.367465"
        ],
        [
         "36",
         "Angola",
         "Africa",
         "1952",
         "30.015",
         "4232095",
         "3520.610273"
        ],
        [
         "37",
         "Angola",
         "Africa",
         "1957",
         "31.999",
         "4561361",
         "3827.940465"
        ],
        [
         "38",
         "Angola",
         "Africa",
         "1962",
         "34.0",
         "4826015",
         "4269.276742"
        ],
        [
         "39",
         "Angola",
         "Africa",
         "1967",
         "35.985",
         "5247469",
         "5522.776375"
        ],
        [
         "40",
         "Angola",
         "Africa",
         "1972",
         "37.928",
         "5894858",
         "5473.288005"
        ],
        [
         "41",
         "Angola",
         "Africa",
         "1977",
         "39.483",
         "6162675",
         "3008.647355"
        ],
        [
         "42",
         "Angola",
         "Africa",
         "1982",
         "39.942",
         "7016384",
         "2756.953672"
        ],
        [
         "43",
         "Angola",
         "Africa",
         "1987",
         "39.906",
         "7874230",
         "2430.208311"
        ],
        [
         "44",
         "Angola",
         "Africa",
         "1992",
         "40.647",
         "8735988",
         "2627.845685"
        ],
        [
         "45",
         "Angola",
         "Africa",
         "1997",
         "40.963",
         "9875024",
         "2277.140884"
        ],
        [
         "46",
         "Angola",
         "Africa",
         "2002",
         "41.003",
         "10866106",
         "2773.287312"
        ],
        [
         "47",
         "Angola",
         "Africa",
         "2007",
         "42.731",
         "12420476",
         "4797.231267"
        ],
        [
         "48",
         "Argentina",
         "Americas",
         "1952",
         "62.485",
         "17876956",
         "5911.315053"
        ],
        [
         "49",
         "Argentina",
         "Americas",
         "1957",
         "64.399",
         "19610538",
         "6856.856212"
        ]
       ],
       "shape": {
        "columns": 6,
        "rows": 1704
       }
      },
      "text/html": [
       "<div>\n",
       "<style scoped>\n",
       "    .dataframe tbody tr th:only-of-type {\n",
       "        vertical-align: middle;\n",
       "    }\n",
       "\n",
       "    .dataframe tbody tr th {\n",
       "        vertical-align: top;\n",
       "    }\n",
       "\n",
       "    .dataframe thead th {\n",
       "        text-align: right;\n",
       "    }\n",
       "</style>\n",
       "<table border=\"1\" class=\"dataframe\">\n",
       "  <thead>\n",
       "    <tr style=\"text-align: right;\">\n",
       "      <th></th>\n",
       "      <th>country</th>\n",
       "      <th>continent</th>\n",
       "      <th>year</th>\n",
       "      <th>lifeExp</th>\n",
       "      <th>pop</th>\n",
       "      <th>gdpPercap</th>\n",
       "    </tr>\n",
       "  </thead>\n",
       "  <tbody>\n",
       "    <tr>\n",
       "      <th>0</th>\n",
       "      <td>Afghanistan</td>\n",
       "      <td>Asia</td>\n",
       "      <td>1952</td>\n",
       "      <td>28.801</td>\n",
       "      <td>8425333</td>\n",
       "      <td>779.445314</td>\n",
       "    </tr>\n",
       "    <tr>\n",
       "      <th>1</th>\n",
       "      <td>Afghanistan</td>\n",
       "      <td>Asia</td>\n",
       "      <td>1957</td>\n",
       "      <td>30.332</td>\n",
       "      <td>9240934</td>\n",
       "      <td>820.853030</td>\n",
       "    </tr>\n",
       "    <tr>\n",
       "      <th>2</th>\n",
       "      <td>Afghanistan</td>\n",
       "      <td>Asia</td>\n",
       "      <td>1962</td>\n",
       "      <td>31.997</td>\n",
       "      <td>10267083</td>\n",
       "      <td>853.100710</td>\n",
       "    </tr>\n",
       "    <tr>\n",
       "      <th>3</th>\n",
       "      <td>Afghanistan</td>\n",
       "      <td>Asia</td>\n",
       "      <td>1967</td>\n",
       "      <td>34.020</td>\n",
       "      <td>11537966</td>\n",
       "      <td>836.197138</td>\n",
       "    </tr>\n",
       "    <tr>\n",
       "      <th>4</th>\n",
       "      <td>Afghanistan</td>\n",
       "      <td>Asia</td>\n",
       "      <td>1972</td>\n",
       "      <td>36.088</td>\n",
       "      <td>13079460</td>\n",
       "      <td>739.981106</td>\n",
       "    </tr>\n",
       "    <tr>\n",
       "      <th>...</th>\n",
       "      <td>...</td>\n",
       "      <td>...</td>\n",
       "      <td>...</td>\n",
       "      <td>...</td>\n",
       "      <td>...</td>\n",
       "      <td>...</td>\n",
       "    </tr>\n",
       "    <tr>\n",
       "      <th>1699</th>\n",
       "      <td>Zimbabwe</td>\n",
       "      <td>Africa</td>\n",
       "      <td>1987</td>\n",
       "      <td>62.351</td>\n",
       "      <td>9216418</td>\n",
       "      <td>706.157306</td>\n",
       "    </tr>\n",
       "    <tr>\n",
       "      <th>1700</th>\n",
       "      <td>Zimbabwe</td>\n",
       "      <td>Africa</td>\n",
       "      <td>1992</td>\n",
       "      <td>60.377</td>\n",
       "      <td>10704340</td>\n",
       "      <td>693.420786</td>\n",
       "    </tr>\n",
       "    <tr>\n",
       "      <th>1701</th>\n",
       "      <td>Zimbabwe</td>\n",
       "      <td>Africa</td>\n",
       "      <td>1997</td>\n",
       "      <td>46.809</td>\n",
       "      <td>11404948</td>\n",
       "      <td>792.449960</td>\n",
       "    </tr>\n",
       "    <tr>\n",
       "      <th>1702</th>\n",
       "      <td>Zimbabwe</td>\n",
       "      <td>Africa</td>\n",
       "      <td>2002</td>\n",
       "      <td>39.989</td>\n",
       "      <td>11926563</td>\n",
       "      <td>672.038623</td>\n",
       "    </tr>\n",
       "    <tr>\n",
       "      <th>1703</th>\n",
       "      <td>Zimbabwe</td>\n",
       "      <td>Africa</td>\n",
       "      <td>2007</td>\n",
       "      <td>43.487</td>\n",
       "      <td>12311143</td>\n",
       "      <td>469.709298</td>\n",
       "    </tr>\n",
       "  </tbody>\n",
       "</table>\n",
       "<p>1704 rows × 6 columns</p>\n",
       "</div>"
      ],
      "text/plain": [
       "          country continent  year  lifeExp       pop   gdpPercap\n",
       "0     Afghanistan      Asia  1952   28.801   8425333  779.445314\n",
       "1     Afghanistan      Asia  1957   30.332   9240934  820.853030\n",
       "2     Afghanistan      Asia  1962   31.997  10267083  853.100710\n",
       "3     Afghanistan      Asia  1967   34.020  11537966  836.197138\n",
       "4     Afghanistan      Asia  1972   36.088  13079460  739.981106\n",
       "...           ...       ...   ...      ...       ...         ...\n",
       "1699     Zimbabwe    Africa  1987   62.351   9216418  706.157306\n",
       "1700     Zimbabwe    Africa  1992   60.377  10704340  693.420786\n",
       "1701     Zimbabwe    Africa  1997   46.809  11404948  792.449960\n",
       "1702     Zimbabwe    Africa  2002   39.989  11926563  672.038623\n",
       "1703     Zimbabwe    Africa  2007   43.487  12311143  469.709298\n",
       "\n",
       "[1704 rows x 6 columns]"
      ]
     },
     "execution_count": 24,
     "metadata": {},
     "output_type": "execute_result"
    }
   ],
   "source": [
    "world_gapminder = pd.read_csv('data/gapminder.tsv' , sep='\\t')\n",
    "world_gapminder.head(5)"
   ]
  },
  {
   "cell_type": "markdown",
   "metadata": {},
   "source": [
    "To check the unique values inside a column"
   ]
  },
  {
   "cell_type": "code",
   "execution_count": 29,
   "metadata": {},
   "outputs": [
    {
     "data": {
      "text/plain": [
       "array(['Asia', 'Europe', 'Africa', 'Americas', 'Oceania'], dtype=object)"
      ]
     },
     "execution_count": 29,
     "metadata": {},
     "output_type": "execute_result"
    }
   ],
   "source": [
    "world_gapminder['continent'].unique()"
   ]
  },
  {
   "cell_type": "code",
   "execution_count": null,
   "metadata": {},
   "outputs": [
    {
     "data": {
      "text/plain": [
       "5"
      ]
     },
     "execution_count": 30,
     "metadata": {},
     "output_type": "execute_result"
    }
   ],
   "source": [
    "world_gapminder['continent'].nunique() #return numbre unique of item on the colomn"
   ]
  },
  {
   "cell_type": "code",
   "execution_count": 21,
   "metadata": {},
   "outputs": [
    {
     "data": {
      "application/vnd.microsoft.datawrangler.viewer.v0+json": {
       "columns": [
        {
         "name": "continent",
         "rawType": "object",
         "type": "string"
        },
        {
         "name": "count",
         "rawType": "int64",
         "type": "integer"
        }
       ],
       "ref": "00b42127-ee07-430c-ab28-722a1061de43",
       "rows": [
        [
         "Africa",
         "624"
        ],
        [
         "Asia",
         "396"
        ],
        [
         "Europe",
         "360"
        ],
        [
         "Americas",
         "300"
        ],
        [
         "Oceania",
         "24"
        ]
       ],
       "shape": {
        "columns": 1,
        "rows": 5
       }
      },
      "text/plain": [
       "continent\n",
       "Africa      624\n",
       "Asia        396\n",
       "Europe      360\n",
       "Americas    300\n",
       "Oceania      24\n",
       "Name: count, dtype: int64"
      ]
     },
     "execution_count": 21,
     "metadata": {},
     "output_type": "execute_result"
    }
   ],
   "source": [
    "world_gapminder['continent'].value_counts()"
   ]
  },
  {
   "cell_type": "markdown",
   "metadata": {},
   "source": [
    "To get a subset of the data, let's query the dataframe and get some insights"
   ]
  },
  {
   "cell_type": "markdown",
   "metadata": {},
   "source": [
    "># <font color=#800080>Task 4:</font> <a class=\"anchor\" id=\"Task-1\"></a>\n"
   ]
  },
  {
   "cell_type": "markdown",
   "metadata": {},
   "source": [
    "1. Maria, a public health student, was sitting in a busy cafe in Luanda. She turned to her colleague, João, and asked him, **\"Do you remember when Angola's life expectancy was above 40 years old?** For a country, what do you think large value of life expectancy can be an indicator of? Find those years in the dataset and report their corresponding population level.\n",
    "\n",
    "\n",
    "\n",
    "2. Dr. Kofi and Dr. Amina, two economics professors, were sitting under a large acacia tree, enjoying their afternoon tea. Dr. Kofi looked nostalgic as he asked Dr. Amina, \"Which African country do you think had the highest GDP in the 80s?\"  Could you guess the name of that country before computing it?? After computing it, what are your thoughts about that?"
   ]
  },
  {
   "cell_type": "code",
   "execution_count": null,
   "metadata": {},
   "outputs": [],
   "source": []
  },
  {
   "cell_type": "code",
   "execution_count": null,
   "metadata": {},
   "outputs": [],
   "source": []
  },
  {
   "cell_type": "markdown",
   "metadata": {},
   "source": [
    "># <font color=#800080>Task 5:</font> <a class=\"anchor\" id=\"Task-1\"></a>\n"
   ]
  },
  {
   "cell_type": "markdown",
   "metadata": {},
   "source": [
    "Look at the gapminder dataset and answer the following questions:"
   ]
  },
  {
   "cell_type": "markdown",
   "metadata": {},
   "source": [
    "1. **Southern European GDP in the 2000s:**\n",
    "\n",
    "At a financial conference in Johannesburg, people were talking about how the economy is changing. Sofia, a delegate from Greece, turned to Kwame, a well-known economic analyst from Ghana, and asked him, **\"Kwame, do you know which Southern European countries had the highest and lowest GDP in the 2000s?\"** \n",
    "Hint: Use the Southern European countries listed below.\n",
    "\n",
    "2. **African Life Expectancy in the 1970s:**\n",
    "\n",
    "At a health and development conference in Addis Ababa, people were talking about how healthcare has changed as compared to in the past. Fatima, a public health student from Algeria, went up to Zola, a respected demographic analyst from Tanzania, and asked her, **\"Zola, can you tell me which African countries had the highest and lowest life expectancy in the 1970s? What do you think caused this?\"**\n",
    "\n",
    "\n",
    "3. **Asian vs. European GDP in the 90s:**\n",
    "\n",
    "\n",
    "During an international economics conference in Dakar, people were talking about which countries used to be the richest. Ravi, a researcher from India, curiously asked Chijioke, a skilled economic analyst from Cameroon, **\"Chijioke, how many Asian countries do you think had a higher GDP than the average European country in the 1990s?\"**"
   ]
  },
  {
   "cell_type": "code",
   "execution_count": null,
   "metadata": {},
   "outputs": [],
   "source": [
    "SE_countries = ['Albania', 'Andorra', 'Bosnia and Herzegovina', 'Croatia', 'Gibraltar', \n",
    "                   'Greece', 'Italy', 'Kosovo', 'Malta', 'Montenegro', 'North Macedonia', \n",
    "                   'Portugal', 'San Marino', 'Serbia', 'Slovenia', 'Spain', 'Vatican City']"
   ]
  },
  {
   "cell_type": "code",
   "execution_count": null,
   "metadata": {},
   "outputs": [],
   "source": []
  },
  {
   "cell_type": "code",
   "execution_count": null,
   "metadata": {},
   "outputs": [],
   "source": []
  },
  {
   "cell_type": "markdown",
   "metadata": {},
   "source": [
    " "
   ]
  }
 ],
 "metadata": {
  "kernelspec": {
   "display_name": ".env",
   "language": "python",
   "name": "python3"
  },
  "language_info": {
   "codemirror_mode": {
    "name": "ipython",
    "version": 3
   },
   "file_extension": ".py",
   "mimetype": "text/x-python",
   "name": "python",
   "nbconvert_exporter": "python",
   "pygments_lexer": "ipython3",
   "version": "3.10.12"
  }
 },
 "nbformat": 4,
 "nbformat_minor": 2
}
