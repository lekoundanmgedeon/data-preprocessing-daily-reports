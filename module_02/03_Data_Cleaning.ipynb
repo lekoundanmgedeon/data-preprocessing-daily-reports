{
 "cells": [
  {
   "cell_type": "markdown",
   "metadata": {},
   "source": [
    "<h1 style=\"text-align: center;\"><a title=\"Data Science-AIMS-Cmr-2021-22\">Chapter 3: \n",
    "    Introducing Features and Observations</h1>\n",
    "\n",
    "**Instructor:** \n",
    "\n",
    "* Rockefeller"
   ]
  },
  {
   "cell_type": "markdown",
   "metadata": {},
   "source": [
    "**Learning Objectives:**"
   ]
  },
  {
   "cell_type": "markdown",
   "metadata": {},
   "source": [
    "* Understand the importance of structured data and the key principles of tidy data.\n",
    "\n",
    "* Differentiate between variables and observations in a dataset.\n",
    "\n",
    "* Learn to identify when and why to reshape datasets.\n",
    "\n",
    "* Master the usage of the melt function in pandas to transform data from a wide format to a long format.\n",
    "\n",
    "* Analyze real-world data to detect and rectify structural anomalies.\n",
    "\n",
    "* Gain hands-on experience in preparing data for further statistical analysis or visualization by ensuring it adheres to the tidy data principles."
   ]
  },
  {
   "cell_type": "markdown",
   "metadata": {},
   "source": [
    "# Introduction:"
   ]
  },
  {
   "cell_type": "markdown",
   "metadata": {},
   "source": [
    "It is often said that 80% of data analysis is spent on the **cleaning** and **preparing** data. And it’s not just a first step, but it must be repeated many times over the course of the analysis as new problems come to light or new data is collected. \n",
    "\n",
    "To get a handle on the problem, this part focuses on a small, but important, aspect of data cleaning that we call data **tidying: structuring datasets to facilitate analysis.** \n",
    "It also formally introduces the concept of **features** and **observations**."
   ]
  },
  {
   "cell_type": "code",
   "execution_count": 1,
   "metadata": {},
   "outputs": [],
   "source": [
    "import pandas as pd"
   ]
  },
  {
   "cell_type": "markdown",
   "metadata": {},
   "source": [
    "># <font color=#800080>Task 6:</font> <a class=\"anchor\" id=\"Task-1\"></a>\n"
   ]
  },
  {
   "cell_type": "markdown",
   "metadata": {},
   "source": [
    "As the world needs more sustainable and efficient ways to grow food, people are starting to see how helpful artificial intelligence (AI) can be for farming. Because of this, the Zambia Farmers' Federation has partnered with the University of Lusaka's Department of Agriculture. They want to find new ways to help Zambia grow more food.\n",
    "\n",
    "You have been chosen to be the **Lead data analyst** for this project because you are very good at it. The first goal of the project is to test two new fertilizers to see if they can help crops grow more. Your job is to look carefully at the data, use your analytical skills, and find meaningful insights that will help the project team decide what to do next.\n",
    "\n",
    "You've just received a detailed report from the leading Agri-expert on the team. Here's the content of their message:\n",
    "\n",
    "\n",
    "---\n",
    ">### <font color=#800080> </font> <a class=\"anchor\" id=\"Task-1\"></a>=====================================\n",
    "\n",
    "*Greetings!*\n",
    "\n",
    "*In agricultural research, we often call using fertilizers on crops a \"treatment\". I have tested two different fertilizers on three crops: mangoes, avocados, and pineapples. The first fertilizer, Axida (Treatment A), is mostly made of organic compounds that are high in nitrogen. The second fertilizer, Bross (Treatment B), is mostly made of minerals that are high in potassium and has added micro-nutrients. One of the interesting things we measure is how much gas the crops emit after the fertilizer is applied. This can tell us how the plants are responding to the fertilizers.*\n",
    "\n",
    "\n",
    "*Here are the specifics:*\n",
    "\n",
    "- **For Axida (Treatment A)**:\n",
    "  - Mango: **4.5** units of gas emission\n",
    "  - Avocado: **2.1** units of gas emission\n",
    "  - Pineapple: **1.9** units of gas emission\n",
    "\n",
    "- **For Bross (Treatment B)**:\n",
    "  - Mango: **5.1** units of gas emission\n",
    "  - Avocado: **1.3** units of gas emission\n",
    "  - Pineapple: **5.3** units of gas emission\n",
    "\n",
    "*I eagerly await your expert analysis on this data. Let's make a significant impact together!*\n",
    "\n",
    ">### <font color=#800080> </font> <a class=\"anchor\" id=\"Task-1\"></a>=====================================\n",
    "---\n",
    "\n",
    "1. Plants have always had special ways of interacting with their surroundings and with each other. Can you think of ways that plants might \"talk\" to each other? What scientific reasons could there be for these things to happen?\n",
    "\n",
    "\n",
    "2.  Translate the information in the email that the agricultural expert sent to you into a form that can be used for analysis.\n",
    "\n",
    "\n",
    "3. Two other analysts Anna and Jonas have translated that email into the sheets below. Run the following python code below `%load john_annah.py` and tell us what you observe."
   ]
  },
  {
   "cell_type": "code",
   "execution_count": null,
   "metadata": {},
   "outputs": [],
   "source": []
  },
  {
   "cell_type": "markdown",
   "metadata": {},
   "source": [
    "Note that this type of data might be good for presentation but it is not tidy for analysis.\n"
   ]
  },
  {
   "cell_type": "markdown",
   "metadata": {},
   "source": [
    "## Uniformizing the concept of variables and observations"
   ]
  },
  {
   "cell_type": "markdown",
   "metadata": {},
   "source": [
    "The idea here is to give a standard way to organize the data values within the dataset. \n",
    "To formalize the concept of rows and columns so that the analyst will get more time to focus on **the interesting domain problem** , not on **the uninteresting logistics of the data**."
   ]
  },
  {
   "cell_type": "markdown",
   "metadata": {},
   "source": [
    "\n",
    " 1. Each variable forms a column.\n",
    "\n",
    " 2. Each observation forms a row.\n",
    "\n",
    " 3. Each type of observational unit forms a table."
   ]
  },
  {
   "cell_type": "markdown",
   "metadata": {},
   "source": [
    "Formally, \n",
    "\n",
    "- **A variable contains all values that measure the same underlying attribute (like height, temperature, duration) across units.**\n",
    "- **An observation contains all values measured on the same unit (like a person, or a day, or a city) across attributes**"
   ]
  },
  {
   "cell_type": "code",
   "execution_count": null,
   "metadata": {},
   "outputs": [],
   "source": []
  },
  {
   "cell_type": "markdown",
   "metadata": {},
   "source": [
    "Some common data problems\n",
    "\n",
    "```\n",
    "\n",
    "    Column headers are values, not variable names.\n",
    "\n",
    "    Multiple variables are stored in one column.\n",
    "\n",
    "    Variables are stored in both rows and columns.\n",
    "\n",
    "    Multiple types of observational units are stored in the same table.\n",
    "\n",
    "    A single observational unit is stored in multiple tables.\n",
    "\n",
    "```"
   ]
  },
  {
   "cell_type": "markdown",
   "metadata": {},
   "source": [
    "**Use the uniformization principles described above, to re-organize the above dataset.**"
   ]
  },
  {
   "cell_type": "code",
   "execution_count": null,
   "metadata": {},
   "outputs": [],
   "source": []
  },
  {
   "cell_type": "code",
   "execution_count": null,
   "metadata": {},
   "outputs": [],
   "source": []
  },
  {
   "cell_type": "markdown",
   "metadata": {},
   "source": [
    "**What insight can you extract from the data?**"
   ]
  },
  {
   "cell_type": "code",
   "execution_count": null,
   "metadata": {},
   "outputs": [],
   "source": []
  },
  {
   "cell_type": "markdown",
   "metadata": {},
   "source": [
    "Even though the logistics of the above data could be repaired manually, pandas has a function called `melt` that can be useful for that process. See below:"
   ]
  },
  {
   "cell_type": "markdown",
   "metadata": {},
   "source": [
    "It makes uses of three main paramters: The `id_vars` , `var_name`  and `value_name`\n",
    "\n",
    "* `id_vars` represents the Column(s) to be used as identifier variables.\n",
    "* `var_name`: Represents the variable that runs across columns header(from left to right)\n",
    "* `value_name`: The name to use for that aboved identified column"
   ]
  },
  {
   "cell_type": "code",
   "execution_count": null,
   "metadata": {},
   "outputs": [],
   "source": []
  },
  {
   "cell_type": "code",
   "execution_count": null,
   "metadata": {},
   "outputs": [],
   "source": []
  },
  {
   "cell_type": "markdown",
   "metadata": {},
   "source": [
    "># <font color=#800080> Task 6:</font> <a class=\"anchor\" id=\"Task-1\"></a>\n"
   ]
  },
  {
   "cell_type": "markdown",
   "metadata": {},
   "source": [
    "In 2014, the mayor of Arua City, Uganda, approved a law to stop religious groups from spreading in the city. In a press release, he said that starting in February 2014, religious leaders would need to show proof that they are qualified (have a degree in theology) to the city council before they could teach holy texts.\n",
    "\n",
    "The mayor took this strict measure because social media reports said that some religious leaders claimed to have supernatural powers from God and could perform miracles that could change people's lives for the better. As a result, many of these religious leaders got rich while making poor people poorer.\n",
    "\n",
    "To assess the situation, the mayor ordered his IT department to hire surveyors, who spent three months collecting data on the salary ranges of these religious leaders, even though some of them had left the country. The team collected the religion and salary range of each religious leader they surveyed. The data was sent to you in a CSV file called `arua_religious_2014.csv`.\n",
    "\n",
    "1. What is your subjective view of religions in Africa? Do we need them? why?  \n",
    "2. Load it using pandas and tell us what you observe?\n",
    "3. If you observe any anomaly, how could you fix that?"
   ]
  },
  {
   "cell_type": "code",
   "execution_count": null,
   "metadata": {},
   "outputs": [],
   "source": []
  },
  {
   "cell_type": "code",
   "execution_count": null,
   "metadata": {},
   "outputs": [],
   "source": []
  },
  {
   "cell_type": "markdown",
   "metadata": {},
   "source": [
    "># <font color=#800080>Task 7:</font> <a class=\"anchor\" id=\"Task-1\"></a>"
   ]
  },
  {
   "cell_type": "code",
   "execution_count": null,
   "metadata": {},
   "outputs": [],
   "source": []
  },
  {
   "cell_type": "markdown",
   "metadata": {},
   "source": [
    "With 60 million active users, **Boomplay** is the most popular music streaming service in Africa. The Chinese-owned, Africa-focused company is available throughout the continent and runs a freemium model. They are planning to open new offices in the County of Zwedru in Liberia. You were lucky enough to secure a fully funded internship with them. On your first day in the office, The Regional Manager stated that they are working on remixing the Classics from the Billboard and distribute them on their platform. The Billboard charts tabulate the relative weekly popularity of songs and albums in the United States and elsewhere. For a first phase, they chose the Classics from the beginning of the millenium: The big year 2000.  The data was scraped from the Billboard database and given to you in a csv file called `billboard_2000.csv`.\n",
    "\n",
    "\n",
    "1. How do you think Music streaming platforms make money if you can listen to music there for free? and How do artists benefit from it?\n",
    "\n",
    "2. Load the data in  pandas and tell us what you observe. If there is any anomaly, fix it."
   ]
  },
  {
   "cell_type": "code",
   "execution_count": null,
   "metadata": {},
   "outputs": [],
   "source": []
  },
  {
   "cell_type": "code",
   "execution_count": null,
   "metadata": {},
   "outputs": [],
   "source": []
  },
  {
   "cell_type": "code",
   "execution_count": null,
   "metadata": {},
   "outputs": [],
   "source": [
    "##  Multiple variables are stored in one column."
   ]
  },
  {
   "cell_type": "markdown",
   "metadata": {},
   "source": [
    "># <font color=#800080>Task 8:</font> <a class=\"anchor\" id=\"Task-1\"></a>"
   ]
  },
  {
   "cell_type": "markdown",
   "metadata": {},
   "source": [
    "**Bindura** is a small town in the Mashonaland Central province of Zimbabwe, located in the North-East of Harare. At Howard Hospital, a small medical facility in Bindura, the number of people with tuberculosis (TB) increased by 35% in 2008, compared to the average number of people with TB from 2003 to 2007.\n",
    "\n",
    "Under the **Makeba Funding initiative**, which encourages African medical institutions to share data, a team of research scientists from Hôpital Général de Befelatanana in Antananarivo has developed a new drug to treat patients with severe TB symptoms, such as fatigue, chest pain, fever, and cough. As a data analyst, you have been chosen to join the team traveling to Bindura to study the drug's side effects on patients.\n",
    "\n",
    "At Howard Hospital, the drug has been given to 40 patients, both men and women, aged between 19 and 46. The team has monitored the patients' fatigue levels for 100 days and recorded the results in an `csv file`. The data includes fatigue levels ranging from 0 to 10, where 0 means no signs of fatigue and 10 means extreme fatigue.\n",
    "\n",
    "The data file, `bindura_tb_patients.csv`, contains the relevant information, and you are assigned to work with it.\n",
    "\n",
    "1. Do you know how Tuberculosis spread out from person to person?\n",
    "\n",
    "2. Load the data file and tell us what you observe\n",
    "\n",
    "3. Use the melt function to fix the inconsistencies within the data\n",
    "\n",
    "4. What insights can you extract from the data?"
   ]
  },
  {
   "cell_type": "markdown",
   "metadata": {},
   "source": [
    " "
   ]
  },
  {
   "cell_type": "code",
   "execution_count": null,
   "metadata": {},
   "outputs": [],
   "source": []
  },
  {
   "cell_type": "code",
   "execution_count": null,
   "metadata": {},
   "outputs": [],
   "source": []
  },
  {
   "cell_type": "markdown",
   "metadata": {},
   "source": [
    "># <font color=#800080>Task 9:</font> <a class=\"anchor\" id=\"Task-1\"></a>\n"
   ]
  },
  {
   "cell_type": "markdown",
   "metadata": {},
   "source": [
    "The Covid-19 pandemic has caused a lot of deaths all over the world. As part of the Russia-East Africa Partnership (REAP), the Russian Ministry of Health has made an agreement with government agencies in East Africa to start vaccination campaigns. The Sekou Toure Foundation has been asked to do a big survey in East Africa to collect data on how many people have Covid-19 (active cases) and how many people have died from it (fatalities).\n",
    "\n",
    "The foundation's staff took strict protective measures, so the survey was only done from `October 2021` to `January 2022`. The data file has now been sent to the Data Science Department of Université polytechnique de Kougouleu in Libreville. They have contacted you because they need your help to understand the data. The data file is called `covid_19_eastafr.csv`.\n",
    "\n",
    "1. Do you who Sekou Toure was? and what did he do for the continent? \n",
    "2. Load the data file and tell us what you observe\n",
    "3. Use the melt function to fix the inconsistencies within the data\n",
    "4. What insights can you extract from the data?"
   ]
  },
  {
   "cell_type": "code",
   "execution_count": 178,
   "metadata": {},
   "outputs": [],
   "source": [
    "east_africa_countries = ['Burundi', 'Comoros', 'Djibouti', 'Eritrea', \n",
    "                         'Ethiopia', 'Kenya',  \n",
    "                         'Rwanda', 'Seychelles', 'Somalia', 'South Sudan', \n",
    "                         'Tanzania', 'Uganda',  'North Sudan']\n"
   ]
  },
  {
   "cell_type": "code",
   "execution_count": null,
   "metadata": {},
   "outputs": [],
   "source": []
  },
  {
   "cell_type": "code",
   "execution_count": null,
   "metadata": {},
   "outputs": [],
   "source": []
  }
 ],
 "metadata": {
  "kernelspec": {
   "display_name": "postkv_env",
   "language": "python",
   "name": "python3"
  },
  "language_info": {
   "codemirror_mode": {
    "name": "ipython",
    "version": 3
   },
   "file_extension": ".py",
   "mimetype": "text/x-python",
   "name": "python",
   "nbconvert_exporter": "python",
   "pygments_lexer": "ipython3",
   "version": "3.13.2"
  }
 },
 "nbformat": 4,
 "nbformat_minor": 2
}
