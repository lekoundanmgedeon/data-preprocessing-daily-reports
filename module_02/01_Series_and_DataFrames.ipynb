{
 "cells": [
  {
   "cell_type": "markdown",
   "metadata": {
    "collapsed": true
   },
   "source": [
    "\n",
    "<h1 style=\"text-align: center;\"><a title=\"Data Science-AIMS-Cmr-2021-22\">Chapter 1: Working with Series and DataFrames </h1>\n",
    "\n",
    "**Instructor:** \n",
    "\n",
    "* Rockefeller"
   ]
  },
  {
   "cell_type": "markdown",
   "metadata": {},
   "source": [
    "**Learning Objectives:**\n",
    "\n",
    "* Getting familiar with the concept of tabular data and iid data.\n",
    "* Getting familiar with the concept of `Series` and `DataFrames`.\n",
    "* Developing the ability to query dataframes to answer practical questions.\n",
    "* Updating dataframes based on useful insights."
   ]
  },
  {
   "cell_type": "markdown",
   "metadata": {},
   "source": [
    "# Introduction"
   ]
  },
  {
   "cell_type": "markdown",
   "metadata": {},
   "source": [
    "## The concept of Tabular data and iid data"
   ]
  },
  {
   "cell_type": "markdown",
   "metadata": {},
   "source": [
    "**Tabular data** refers to structured data that is organized into `rows` and `columns`, similar to what you might find in a spreadsheet or a database table. Each row typically represents an individual observation or record, while each column signifies a particular attribute or feature of the data. \n",
    "\n",
    "For instance, in the African context, a table might list various agricultural products (rows) and **their respective prices, production quantities,** and **export destinations** (columns). This structured format of tabular data enables easy querying, visualization, and statistical analysis. Whether it's used for monitoring rainfall patterns across various regions in Africa or tracking the spread of diseases like Malaria, tabular data plays a pivotal role in decision-making processes across the continent."
   ]
  },
  {
   "cell_type": "markdown",
   "metadata": {},
   "source": [
    "**IID data**, or Independent and Identically Distributed data, refers to a collection of random variables where each variable has the same probability distribution as the others and all are mutually independent. In layman's terms, it means that each data point is generated in the same way and does not depend on previous data points. \n",
    "\n",
    "For example, if one were to conduct a survey across various African nations about a particular product's preference, the responses from one country or individual would not influence the responses from another. However, it's essential to note that real-life data, especially in complex environments like Africa with its diverse cultures, economies, and ecosystems, might not always strictly adhere to the IID assumption. Recognizing when this assumption holds and when it doesn't is crucial for accurate data analysis and modeling."
   ]
  },
  {
   "cell_type": "markdown",
   "metadata": {},
   "source": [
    "Building on the concept of tabular data, modern data science tools have provided versatile structures to handle and manipulate such data with ease. In the Python programming language, the pandas library stands out as a principal tool for this purpose. At the heart of pandas are two primary data structures: Series and DataFrames which is the focus of this chapter."
   ]
  },
  {
   "cell_type": "markdown",
   "metadata": {},
   "source": [
    "## Introduction to Pandas"
   ]
  },
  {
   "cell_type": "markdown",
   "metadata": {},
   "source": [
    "`Pandas` is an open source library providing high-performance, easy-to-use data structures and data analysis tools for the Python programming language. "
   ]
  },
  {
   "cell_type": "markdown",
   "metadata": {},
   "source": [
    "- Certainly among the most important tools for data analysts and data scientists.\n",
    "- The most popular library for working with tabular data in Python"
   ]
  },
  {
   "cell_type": "markdown",
   "metadata": {
    "collapsed": true
   },
   "source": [
    "To import it, simply do:"
   ]
  },
  {
   "cell_type": "code",
   "execution_count": 57,
   "metadata": {},
   "outputs": [],
   "source": [
    "import pandas as pd"
   ]
  },
  {
   "cell_type": "markdown",
   "metadata": {
    "collapsed": true
   },
   "source": [
    "To check the version of Pandas you are running, do:"
   ]
  },
  {
   "cell_type": "code",
   "execution_count": 58,
   "metadata": {},
   "outputs": [
    {
     "data": {
      "text/plain": [
       "'2.2.2'"
      ]
     },
     "execution_count": 58,
     "metadata": {},
     "output_type": "execute_result"
    }
   ],
   "source": [
    "pd.__version__"
   ]
  },
  {
   "cell_type": "markdown",
   "metadata": {},
   "source": [
    "### Pandas Series"
   ]
  },
  {
   "cell_type": "markdown",
   "metadata": {},
   "source": [
    "**DataFrames** and **Series** are not simply storage containers. Since Pandas treat them similarly, they have built-in support for a variety of data-wrangling operations, such as: \n",
    "\n",
    "* Single-level and hierarchical indexing\n",
    "* Handling missing data\n",
    "* Arithmetic and Boolean operations on entire columns and tables\n",
    "* Database-type operations (such as merging and aggregation)\n",
    "* Plotting individual columns and whole tables\n",
    "* Reading data from files and writing data to files"
   ]
  },
  {
   "cell_type": "markdown",
   "metadata": {
    "collapsed": true
   },
   "source": [
    "To get started with pandas, you will need to get comfortable with its two data structures:  **Series** and **Dataframe.** They provide a solid, easy-to-use basis for most applications. Every object successfully returned by  Pandas is either  **Series** or **DataFrame**."
   ]
  },
  {
   "cell_type": "markdown",
   "metadata": {},
   "source": [
    "#### Series"
   ]
  },
  {
   "cell_type": "markdown",
   "metadata": {},
   "source": [
    "A Series is a one-dimensional array-like object containing an array of data (of any NumPy data type) and an associated array of data labels, called its index. You can create a simple series from any sequence: **a list, a tuple, or a numpy array** or even **a python dictionary**."
   ]
  },
  {
   "cell_type": "markdown",
   "metadata": {},
   "source": [
    "**From a list of numbers**"
   ]
  },
  {
   "cell_type": "code",
   "execution_count": 59,
   "metadata": {},
   "outputs": [],
   "source": [
    "baby_ages = pd.Series( [2 , 10 , 12]  )"
   ]
  },
  {
   "cell_type": "code",
   "execution_count": 60,
   "metadata": {},
   "outputs": [
    {
     "data": {
      "text/plain": [
       "0     2\n",
       "1    10\n",
       "2    12\n",
       "dtype: int64"
      ]
     },
     "execution_count": 60,
     "metadata": {},
     "output_type": "execute_result"
    }
   ],
   "source": [
    "baby_ages"
   ]
  },
  {
   "cell_type": "markdown",
   "metadata": {},
   "source": [
    " "
   ]
  },
  {
   "cell_type": "markdown",
   "metadata": {},
   "source": [
    "**From a list of strings**"
   ]
  },
  {
   "cell_type": "code",
   "execution_count": 61,
   "metadata": {},
   "outputs": [],
   "source": [
    "countries = pd.Series( ['Uganda' , 'Mali' , 'Chad' , 'Niger']   )"
   ]
  },
  {
   "cell_type": "code",
   "execution_count": 62,
   "metadata": {},
   "outputs": [
    {
     "data": {
      "text/plain": [
       "0    Uganda\n",
       "1      Mali\n",
       "2      Chad\n",
       "3     Niger\n",
       "dtype: object"
      ]
     },
     "execution_count": 62,
     "metadata": {},
     "output_type": "execute_result"
    }
   ],
   "source": [
    "countries"
   ]
  },
  {
   "cell_type": "markdown",
   "metadata": {},
   "source": [
    "**From a list of objects (data of different types)**"
   ]
  },
  {
   "cell_type": "code",
   "execution_count": 63,
   "metadata": {},
   "outputs": [],
   "source": [
    "travel_infos = pd.Series(  [ \"£12\" , 25 , \"Banjul\", \"50km\"  ])"
   ]
  },
  {
   "cell_type": "code",
   "execution_count": 64,
   "metadata": {},
   "outputs": [
    {
     "data": {
      "text/plain": [
       "0       £12\n",
       "1        25\n",
       "2    Banjul\n",
       "3      50km\n",
       "dtype: object"
      ]
     },
     "execution_count": 64,
     "metadata": {},
     "output_type": "execute_result"
    }
   ],
   "source": [
    "travel_infos"
   ]
  },
  {
   "cell_type": "markdown",
   "metadata": {},
   "source": [
    "#### From a tuple\n"
   ]
  },
  {
   "cell_type": "code",
   "execution_count": 65,
   "metadata": {},
   "outputs": [
    {
     "data": {
      "text/plain": [
       "0         malaria\n",
       "1    tuberculosis\n",
       "2       influenza\n",
       "dtype: object"
      ]
     },
     "execution_count": 65,
     "metadata": {},
     "output_type": "execute_result"
    }
   ],
   "source": [
    "diseases = pd.Series( (\"malaria\" , \"tuberculosis\", \"influenza\") )\n",
    "diseases"
   ]
  },
  {
   "cell_type": "markdown",
   "metadata": {
    "collapsed": true
   },
   "source": [
    "#### From a numpy array\n"
   ]
  },
  {
   "cell_type": "code",
   "execution_count": 66,
   "metadata": {},
   "outputs": [],
   "source": [
    "#Let's import the numpy library first\n",
    "import numpy as np"
   ]
  },
  {
   "cell_type": "code",
   "execution_count": 67,
   "metadata": {},
   "outputs": [
    {
     "data": {
      "text/plain": [
       "array([0, 2, 4, 6, 8])"
      ]
     },
     "execution_count": 67,
     "metadata": {},
     "output_type": "execute_result"
    }
   ],
   "source": [
    "index_poverty = np.arange(0,10,2)\n",
    "index_poverty"
   ]
  },
  {
   "cell_type": "code",
   "execution_count": 68,
   "metadata": {},
   "outputs": [
    {
     "data": {
      "text/plain": [
       "0    0\n",
       "1    2\n",
       "2    4\n",
       "3    6\n",
       "4    8\n",
       "dtype: int64"
      ]
     },
     "execution_count": 68,
     "metadata": {},
     "output_type": "execute_result"
    }
   ],
   "source": [
    "index_poverty_series = pd.Series(index_poverty)\n",
    "index_poverty_series"
   ]
  },
  {
   "cell_type": "code",
   "execution_count": 69,
   "metadata": {},
   "outputs": [
    {
     "data": {
      "text/plain": [
       "pandas.core.series.Series"
      ]
     },
     "execution_count": 69,
     "metadata": {},
     "output_type": "execute_result"
    }
   ],
   "source": [
    "type(index_poverty_series)"
   ]
  },
  {
   "cell_type": "markdown",
   "metadata": {},
   "source": [
    "#### From a python dictionary\n"
   ]
  },
  {
   "cell_type": "code",
   "execution_count": 70,
   "metadata": {},
   "outputs": [],
   "source": [
    "ebola_infos = {\"Outbreak\": 'Ebola' , \"City\": 'Goma' , \n",
    "                  \"Country\": 'DRC' ,\"Continent\": 'Africa'}"
   ]
  },
  {
   "cell_type": "code",
   "execution_count": 71,
   "metadata": {},
   "outputs": [
    {
     "data": {
      "text/plain": [
       "{'Outbreak': 'Ebola', 'City': 'Goma', 'Country': 'DRC', 'Continent': 'Africa'}"
      ]
     },
     "execution_count": 71,
     "metadata": {},
     "output_type": "execute_result"
    }
   ],
   "source": [
    "ebola_infos"
   ]
  },
  {
   "cell_type": "code",
   "execution_count": 72,
   "metadata": {},
   "outputs": [],
   "source": [
    "ebola_infos_series = pd.Series(ebola_infos)"
   ]
  },
  {
   "cell_type": "code",
   "execution_count": 73,
   "metadata": {},
   "outputs": [
    {
     "data": {
      "text/plain": [
       "Outbreak      Ebola\n",
       "City           Goma\n",
       "Country         DRC\n",
       "Continent    Africa\n",
       "dtype: object"
      ]
     },
     "execution_count": 73,
     "metadata": {},
     "output_type": "execute_result"
    }
   ],
   "source": [
    "ebola_infos_series"
   ]
  },
  {
   "cell_type": "markdown",
   "metadata": {},
   "source": [
    "As you can notice, there is column on the left always appearing when printing a series. It's a `column index` which, by default run from $0$ to $n-1$ where $n$ is the length of the series. In the case of a dictionary, it is automatically replaced by **the key** of the dictionary. And the **values** of the dictionary are the actual content of the Pandas Series.You can verify it by typing the command below."
   ]
  },
  {
   "cell_type": "code",
   "execution_count": 74,
   "metadata": {},
   "outputs": [],
   "source": [
    "dictio  = {'age': [1,2,3,4,4] , 'salary': [35 ,45]}"
   ]
  },
  {
   "cell_type": "code",
   "execution_count": 75,
   "metadata": {},
   "outputs": [
    {
     "data": {
      "text/plain": [
       "Index(['Outbreak', 'City', 'Country', 'Continent'], dtype='object')"
      ]
     },
     "execution_count": 75,
     "metadata": {},
     "output_type": "execute_result"
    }
   ],
   "source": [
    "ebola_infos_series.index"
   ]
  },
  {
   "cell_type": "code",
   "execution_count": 76,
   "metadata": {},
   "outputs": [
    {
     "data": {
      "text/plain": [
       "array(['Ebola', 'Goma', 'DRC', 'Africa'], dtype=object)"
      ]
     },
     "execution_count": 76,
     "metadata": {},
     "output_type": "execute_result"
    }
   ],
   "source": [
    "ebola_infos_series.values"
   ]
  },
  {
   "cell_type": "markdown",
   "metadata": {},
   "source": [
    "Series can also be created along with its indices"
   ]
  },
  {
   "cell_type": "code",
   "execution_count": 77,
   "metadata": {},
   "outputs": [],
   "source": [
    "# An information recorded from a patient during a survey in a Hospital in Mbour, Senegal.\n",
    "patient_senegal_infos = pd.Series( [\"Traore\" , \"Senegalese\" , \"Single\" , \"Wolof\"],\n",
    "              index = [\"Name\" , \"Nationality\" , \"Status\" , \"Language\"])"
   ]
  },
  {
   "cell_type": "code",
   "execution_count": 78,
   "metadata": {},
   "outputs": [
    {
     "data": {
      "text/plain": [
       "Name               Traore\n",
       "Nationality    Senegalese\n",
       "Status             Single\n",
       "Language            Wolof\n",
       "dtype: object"
      ]
     },
     "execution_count": 78,
     "metadata": {},
     "output_type": "execute_result"
    }
   ],
   "source": [
    "patient_senegal_infos"
   ]
  },
  {
   "cell_type": "code",
   "execution_count": 79,
   "metadata": {},
   "outputs": [],
   "source": [
    "#The age of 4 siblings members of a family in Bouake, Ivory Coast as  recorded during a survey\n",
    "bouake_kids =  pd.Series([12 , 25 , 7 , 58 , 39],\n",
    "               index = [\"Yao\" , \"Kouassi\" , \"Senan\", \"Bony\" , \"Marguerite\"])"
   ]
  },
  {
   "cell_type": "code",
   "execution_count": 80,
   "metadata": {},
   "outputs": [
    {
     "data": {
      "text/plain": [
       "Yao           12\n",
       "Kouassi       25\n",
       "Senan          7\n",
       "Bony          58\n",
       "Marguerite    39\n",
       "dtype: int64"
      ]
     },
     "execution_count": 80,
     "metadata": {},
     "output_type": "execute_result"
    }
   ],
   "source": [
    "bouake_kids"
   ]
  },
  {
   "cell_type": "code",
   "execution_count": 81,
   "metadata": {},
   "outputs": [
    {
     "data": {
      "text/plain": [
       "np.int64(12)"
      ]
     },
     "execution_count": 81,
     "metadata": {},
     "output_type": "execute_result"
    }
   ],
   "source": [
    "bouake_kids[\"Yao\"]"
   ]
  },
  {
   "cell_type": "markdown",
   "metadata": {},
   "source": [
    "We can get to each of the terms easily, by using the index operators, which is the open and close square brackets."
   ]
  },
  {
   "cell_type": "code",
   "execution_count": 82,
   "metadata": {},
   "outputs": [
    {
     "data": {
      "text/plain": [
       "np.int64(12)"
      ]
     },
     "execution_count": 82,
     "metadata": {},
     "output_type": "execute_result"
    }
   ],
   "source": [
    "bouake_kids['Yao']"
   ]
  },
  {
   "cell_type": "code",
   "execution_count": 83,
   "metadata": {},
   "outputs": [
    {
     "data": {
      "text/plain": [
       "np.int64(58)"
      ]
     },
     "execution_count": 83,
     "metadata": {},
     "output_type": "execute_result"
    }
   ],
   "source": [
    "bouake_kids['Bony']"
   ]
  },
  {
   "cell_type": "markdown",
   "metadata": {},
   "source": [
    "We can check the number of people **below the age of 20**"
   ]
  },
  {
   "cell_type": "code",
   "execution_count": 84,
   "metadata": {},
   "outputs": [
    {
     "data": {
      "text/plain": [
       "Yao           12\n",
       "Kouassi       25\n",
       "Senan          7\n",
       "Bony          58\n",
       "Marguerite    39\n",
       "dtype: int64"
      ]
     },
     "execution_count": 84,
     "metadata": {},
     "output_type": "execute_result"
    }
   ],
   "source": [
    "bouake_kids"
   ]
  },
  {
   "cell_type": "code",
   "execution_count": 85,
   "metadata": {},
   "outputs": [
    {
     "data": {
      "text/plain": [
       "Yao            True\n",
       "Kouassi       False\n",
       "Senan          True\n",
       "Bony          False\n",
       "Marguerite    False\n",
       "dtype: bool"
      ]
     },
     "execution_count": 85,
     "metadata": {},
     "output_type": "execute_result"
    }
   ],
   "source": [
    "bouake_kids < 20"
   ]
  },
  {
   "cell_type": "markdown",
   "metadata": {},
   "source": [
    "Technically speaking, `bouake_kids < 20` is a boolean expression, which means it is an expressions that returns Boolean values: `True` where there is a match and `False` otherwise. But, what if we want to get the actual values, we need to use the index operator and passing the boolean expression as argument. and we will get sliced pandas series with only the matching rows."
   ]
  },
  {
   "cell_type": "code",
   "execution_count": 86,
   "metadata": {},
   "outputs": [
    {
     "data": {
      "text/plain": [
       "Yao           12\n",
       "Kouassi       25\n",
       "Senan          7\n",
       "Marguerite    39\n",
       "dtype: int64"
      ]
     },
     "execution_count": 86,
     "metadata": {},
     "output_type": "execute_result"
    }
   ],
   "source": [
    "bouake_kids[bouake_kids<45]"
   ]
  },
  {
   "cell_type": "markdown",
   "metadata": {},
   "source": [
    "We can also enlarge the scope of our query buy feeding the index operator with a more sophisticated expression or collection of expressions as you see below. For instance, we are interesred in kids between the age of 12 and 45."
   ]
  },
  {
   "cell_type": "code",
   "execution_count": 87,
   "metadata": {},
   "outputs": [
    {
     "data": {
      "text/plain": [
       "Kouassi       25\n",
       "Marguerite    39\n",
       "dtype: int64"
      ]
     },
     "execution_count": 87,
     "metadata": {},
     "output_type": "execute_result"
    }
   ],
   "source": [
    "bouake_kids[(bouake_kids<45) & (bouake_kids>12)  ]"
   ]
  },
  {
   "cell_type": "markdown",
   "metadata": {},
   "source": [
    "### Basic Statistics"
   ]
  },
  {
   "cell_type": "markdown",
   "metadata": {},
   "source": [
    " Basic statistical operations could be performed on pandas series. Let's explore a few."
   ]
  },
  {
   "cell_type": "markdown",
   "metadata": {},
   "source": [
    "**The sum of all the elements**"
   ]
  },
  {
   "cell_type": "code",
   "execution_count": 88,
   "metadata": {},
   "outputs": [],
   "source": [
    "#### A summary of the series"
   ]
  },
  {
   "cell_type": "markdown",
   "metadata": {},
   "source": [
    "The `describe()` method is used for calculating some statistical data like percentile, mean and std of the numerical values of the Series. Lets look at the `bouake_kids` again."
   ]
  },
  {
   "cell_type": "code",
   "execution_count": 89,
   "metadata": {
    "scrolled": true
   },
   "outputs": [
    {
     "data": {
      "text/plain": [
       "count     5.000000\n",
       "mean     28.200000\n",
       "std      20.777392\n",
       "min       7.000000\n",
       "25%      12.000000\n",
       "50%      25.000000\n",
       "75%      39.000000\n",
       "max      58.000000\n",
       "dtype: float64"
      ]
     },
     "execution_count": 89,
     "metadata": {},
     "output_type": "execute_result"
    }
   ],
   "source": [
    "bouake_kids.describe()"
   ]
  },
  {
   "cell_type": "markdown",
   "metadata": {},
   "source": [
    "#### summing over items"
   ]
  },
  {
   "cell_type": "code",
   "execution_count": 90,
   "metadata": {},
   "outputs": [
    {
     "data": {
      "text/plain": [
       "np.int64(141)"
      ]
     },
     "execution_count": 90,
     "metadata": {},
     "output_type": "execute_result"
    }
   ],
   "source": [
    "bouake_kids.sum()"
   ]
  },
  {
   "cell_type": "markdown",
   "metadata": {},
   "source": [
    "#### averaging over items"
   ]
  },
  {
   "cell_type": "code",
   "execution_count": 91,
   "metadata": {},
   "outputs": [
    {
     "data": {
      "text/plain": [
       "np.float64(28.2)"
      ]
     },
     "execution_count": 91,
     "metadata": {},
     "output_type": "execute_result"
    }
   ],
   "source": [
    "bouake_kids.mean()"
   ]
  },
  {
   "cell_type": "markdown",
   "metadata": {},
   "source": [
    "**The lowest value**"
   ]
  },
  {
   "cell_type": "code",
   "execution_count": 92,
   "metadata": {},
   "outputs": [
    {
     "data": {
      "text/plain": [
       "np.int64(7)"
      ]
     },
     "execution_count": 92,
     "metadata": {},
     "output_type": "execute_result"
    }
   ],
   "source": [
    "bouake_kids.min()"
   ]
  },
  {
   "cell_type": "markdown",
   "metadata": {},
   "source": [
    "**The largest value**"
   ]
  },
  {
   "cell_type": "code",
   "execution_count": 93,
   "metadata": {},
   "outputs": [
    {
     "data": {
      "text/plain": [
       "np.int64(58)"
      ]
     },
     "execution_count": 93,
     "metadata": {},
     "output_type": "execute_result"
    }
   ],
   "source": [
    "bouake_kids.max()"
   ]
  },
  {
   "cell_type": "markdown",
   "metadata": {},
   "source": [
    "**The variance**"
   ]
  },
  {
   "cell_type": "code",
   "execution_count": 94,
   "metadata": {},
   "outputs": [
    {
     "data": {
      "text/plain": [
       "np.float64(431.70000000000005)"
      ]
     },
     "execution_count": 94,
     "metadata": {},
     "output_type": "execute_result"
    }
   ],
   "source": [
    "bouake_kids.var()"
   ]
  },
  {
   "cell_type": "markdown",
   "metadata": {},
   "source": [
    "**The standard deviation**"
   ]
  },
  {
   "cell_type": "code",
   "execution_count": 95,
   "metadata": {},
   "outputs": [
    {
     "data": {
      "text/plain": [
       "np.float64(20.777391559096152)"
      ]
     },
     "execution_count": 95,
     "metadata": {},
     "output_type": "execute_result"
    }
   ],
   "source": [
    "bouake_kids.std()"
   ]
  },
  {
   "cell_type": "markdown",
   "metadata": {},
   "source": [
    "### Pandas Dataframe"
   ]
  },
  {
   "cell_type": "markdown",
   "metadata": {},
   "source": [
    "A DataFrame represents a tabular, spreadsheet-like data structure containing an ordered collection of columns, each of which can be a different value type (numeric, string, boolean, etc.). It can also simply be viewed as a collection of Series. There are numerous ways to construct a DataFrame, though one of the most common is from a dict of equal-length lists or NumPy arrays."
   ]
  },
  {
   "cell_type": "code",
   "execution_count": 96,
   "metadata": {},
   "outputs": [],
   "source": [
    "#Some temperature values recorded across African cities last rainy season\n",
    "temp_african_cities = {\n",
    "            \"City\": ['Gao' , 'Thies' , 'Abeche','Bobo-Dioulasso', 'Port Harcourt'],\n",
    "      \n",
    "            \"Temperature(°C)\": [29,32,27,19,35]     }"
   ]
  },
  {
   "cell_type": "code",
   "execution_count": 97,
   "metadata": {},
   "outputs": [],
   "source": [
    "df_temp_afr_cities = pd.DataFrame(temp_african_cities)"
   ]
  },
  {
   "cell_type": "code",
   "execution_count": 98,
   "metadata": {},
   "outputs": [
    {
     "data": {
      "text/html": [
       "<div>\n",
       "<style scoped>\n",
       "    .dataframe tbody tr th:only-of-type {\n",
       "        vertical-align: middle;\n",
       "    }\n",
       "\n",
       "    .dataframe tbody tr th {\n",
       "        vertical-align: top;\n",
       "    }\n",
       "\n",
       "    .dataframe thead th {\n",
       "        text-align: right;\n",
       "    }\n",
       "</style>\n",
       "<table border=\"1\" class=\"dataframe\">\n",
       "  <thead>\n",
       "    <tr style=\"text-align: right;\">\n",
       "      <th></th>\n",
       "      <th>City</th>\n",
       "      <th>Temperature(°C)</th>\n",
       "    </tr>\n",
       "  </thead>\n",
       "  <tbody>\n",
       "    <tr>\n",
       "      <th>0</th>\n",
       "      <td>Gao</td>\n",
       "      <td>29</td>\n",
       "    </tr>\n",
       "    <tr>\n",
       "      <th>1</th>\n",
       "      <td>Thies</td>\n",
       "      <td>32</td>\n",
       "    </tr>\n",
       "    <tr>\n",
       "      <th>2</th>\n",
       "      <td>Abeche</td>\n",
       "      <td>27</td>\n",
       "    </tr>\n",
       "    <tr>\n",
       "      <th>3</th>\n",
       "      <td>Bobo-Dioulasso</td>\n",
       "      <td>19</td>\n",
       "    </tr>\n",
       "    <tr>\n",
       "      <th>4</th>\n",
       "      <td>Port Harcourt</td>\n",
       "      <td>35</td>\n",
       "    </tr>\n",
       "  </tbody>\n",
       "</table>\n",
       "</div>"
      ],
      "text/plain": [
       "             City  Temperature(°C)\n",
       "0             Gao               29\n",
       "1           Thies               32\n",
       "2          Abeche               27\n",
       "3  Bobo-Dioulasso               19\n",
       "4   Port Harcourt               35"
      ]
     },
     "execution_count": 98,
     "metadata": {},
     "output_type": "execute_result"
    }
   ],
   "source": [
    "df_temp_afr_cities"
   ]
  },
  {
   "cell_type": "code",
   "execution_count": 99,
   "metadata": {},
   "outputs": [],
   "source": [
    "#The birth rate from several hospitals in Togo, Benin on a specific week in 2003\n",
    "togo_birth_rate = {\"Hospital\": [\"Hopital General de Dapaong\" , \"Deutsche Hospital Apaong\" , \n",
    "                   \"Clinique Notre-Dame de Lomé\", \"hôpital Nachtigal d’aného\", \n",
    "                   \"hôpital Germanique de kpalimé\", \"Liberty Klinic\"],\n",
    "    \"Birth_Rate\" :[ 0.4 , 0.25 , 0.98 , 0.18 , 0.62 , 0.16]\n",
    "     }"
   ]
  },
  {
   "cell_type": "code",
   "execution_count": 100,
   "metadata": {},
   "outputs": [],
   "source": [
    "df_togo_birth_rate   = pd.DataFrame(togo_birth_rate)"
   ]
  },
  {
   "cell_type": "code",
   "execution_count": 101,
   "metadata": {},
   "outputs": [
    {
     "data": {
      "text/html": [
       "<div>\n",
       "<style scoped>\n",
       "    .dataframe tbody tr th:only-of-type {\n",
       "        vertical-align: middle;\n",
       "    }\n",
       "\n",
       "    .dataframe tbody tr th {\n",
       "        vertical-align: top;\n",
       "    }\n",
       "\n",
       "    .dataframe thead th {\n",
       "        text-align: right;\n",
       "    }\n",
       "</style>\n",
       "<table border=\"1\" class=\"dataframe\">\n",
       "  <thead>\n",
       "    <tr style=\"text-align: right;\">\n",
       "      <th></th>\n",
       "      <th>Hospital</th>\n",
       "      <th>Birth_Rate</th>\n",
       "    </tr>\n",
       "  </thead>\n",
       "  <tbody>\n",
       "    <tr>\n",
       "      <th>0</th>\n",
       "      <td>Hopital General de Dapaong</td>\n",
       "      <td>0.40</td>\n",
       "    </tr>\n",
       "    <tr>\n",
       "      <th>1</th>\n",
       "      <td>Deutsche Hospital Apaong</td>\n",
       "      <td>0.25</td>\n",
       "    </tr>\n",
       "    <tr>\n",
       "      <th>2</th>\n",
       "      <td>Clinique Notre-Dame de Lomé</td>\n",
       "      <td>0.98</td>\n",
       "    </tr>\n",
       "    <tr>\n",
       "      <th>3</th>\n",
       "      <td>hôpital Nachtigal d’aného</td>\n",
       "      <td>0.18</td>\n",
       "    </tr>\n",
       "    <tr>\n",
       "      <th>4</th>\n",
       "      <td>hôpital Germanique de kpalimé</td>\n",
       "      <td>0.62</td>\n",
       "    </tr>\n",
       "    <tr>\n",
       "      <th>5</th>\n",
       "      <td>Liberty Klinic</td>\n",
       "      <td>0.16</td>\n",
       "    </tr>\n",
       "  </tbody>\n",
       "</table>\n",
       "</div>"
      ],
      "text/plain": [
       "                        Hospital  Birth_Rate\n",
       "0     Hopital General de Dapaong        0.40\n",
       "1       Deutsche Hospital Apaong        0.25\n",
       "2    Clinique Notre-Dame de Lomé        0.98\n",
       "3      hôpital Nachtigal d’aného        0.18\n",
       "4  hôpital Germanique de kpalimé        0.62\n",
       "5                 Liberty Klinic        0.16"
      ]
     },
     "execution_count": 101,
     "metadata": {},
     "output_type": "execute_result"
    }
   ],
   "source": [
    "df_togo_birth_rate"
   ]
  },
  {
   "cell_type": "code",
   "execution_count": 102,
   "metadata": {},
   "outputs": [
    {
     "data": {
      "text/plain": [
       "0       Hopital General de Dapaong\n",
       "1         Deutsche Hospital Apaong\n",
       "2      Clinique Notre-Dame de Lomé\n",
       "3        hôpital Nachtigal d’aného\n",
       "4    hôpital Germanique de kpalimé\n",
       "5                   Liberty Klinic\n",
       "Name: Hospital, dtype: object"
      ]
     },
     "execution_count": 102,
     "metadata": {},
     "output_type": "execute_result"
    }
   ],
   "source": [
    "df_togo_birth_rate['Hospital']"
   ]
  },
  {
   "cell_type": "code",
   "execution_count": null,
   "metadata": {},
   "outputs": [],
   "source": []
  },
  {
   "cell_type": "markdown",
   "metadata": {},
   "source": [
    "To query the content of a dataframe, we can call the different series using the index operator and passing in the name of a column as a string."
   ]
  },
  {
   "cell_type": "code",
   "execution_count": 103,
   "metadata": {},
   "outputs": [
    {
     "data": {
      "text/plain": [
       "0       Hopital General de Dapaong\n",
       "1         Deutsche Hospital Apaong\n",
       "2      Clinique Notre-Dame de Lomé\n",
       "3        hôpital Nachtigal d’aného\n",
       "4    hôpital Germanique de kpalimé\n",
       "5                   Liberty Klinic\n",
       "Name: Hospital, dtype: object"
      ]
     },
     "execution_count": 103,
     "metadata": {},
     "output_type": "execute_result"
    }
   ],
   "source": [
    "df_togo_birth_rate['Hospital']"
   ]
  },
  {
   "cell_type": "code",
   "execution_count": 104,
   "metadata": {},
   "outputs": [
    {
     "data": {
      "text/plain": [
       "0    0.40\n",
       "1    0.25\n",
       "2    0.98\n",
       "3    0.18\n",
       "4    0.62\n",
       "5    0.16\n",
       "Name: Birth_Rate, dtype: float64"
      ]
     },
     "execution_count": 104,
     "metadata": {},
     "output_type": "execute_result"
    }
   ],
   "source": [
    "df_togo_birth_rate['Birth_Rate']"
   ]
  },
  {
   "cell_type": "markdown",
   "metadata": {
    "collapsed": true
   },
   "source": [
    "We might decide to add another column. For instance, we want to add information related to the electricity outage in those hospitals during that week."
   ]
  },
  {
   "cell_type": "code",
   "execution_count": 105,
   "metadata": {},
   "outputs": [],
   "source": [
    "df_togo_birth_rate['Light'] = [\"Yes\" , \"Yes\" , \"No\" , \"Yes\" , \"No\" , \"No\"]"
   ]
  },
  {
   "cell_type": "code",
   "execution_count": 106,
   "metadata": {},
   "outputs": [
    {
     "data": {
      "text/html": [
       "<div>\n",
       "<style scoped>\n",
       "    .dataframe tbody tr th:only-of-type {\n",
       "        vertical-align: middle;\n",
       "    }\n",
       "\n",
       "    .dataframe tbody tr th {\n",
       "        vertical-align: top;\n",
       "    }\n",
       "\n",
       "    .dataframe thead th {\n",
       "        text-align: right;\n",
       "    }\n",
       "</style>\n",
       "<table border=\"1\" class=\"dataframe\">\n",
       "  <thead>\n",
       "    <tr style=\"text-align: right;\">\n",
       "      <th></th>\n",
       "      <th>Hospital</th>\n",
       "      <th>Birth_Rate</th>\n",
       "      <th>Light</th>\n",
       "    </tr>\n",
       "  </thead>\n",
       "  <tbody>\n",
       "    <tr>\n",
       "      <th>0</th>\n",
       "      <td>Hopital General de Dapaong</td>\n",
       "      <td>0.40</td>\n",
       "      <td>Yes</td>\n",
       "    </tr>\n",
       "    <tr>\n",
       "      <th>1</th>\n",
       "      <td>Deutsche Hospital Apaong</td>\n",
       "      <td>0.25</td>\n",
       "      <td>Yes</td>\n",
       "    </tr>\n",
       "    <tr>\n",
       "      <th>2</th>\n",
       "      <td>Clinique Notre-Dame de Lomé</td>\n",
       "      <td>0.98</td>\n",
       "      <td>No</td>\n",
       "    </tr>\n",
       "    <tr>\n",
       "      <th>3</th>\n",
       "      <td>hôpital Nachtigal d’aného</td>\n",
       "      <td>0.18</td>\n",
       "      <td>Yes</td>\n",
       "    </tr>\n",
       "    <tr>\n",
       "      <th>4</th>\n",
       "      <td>hôpital Germanique de kpalimé</td>\n",
       "      <td>0.62</td>\n",
       "      <td>No</td>\n",
       "    </tr>\n",
       "    <tr>\n",
       "      <th>5</th>\n",
       "      <td>Liberty Klinic</td>\n",
       "      <td>0.16</td>\n",
       "      <td>No</td>\n",
       "    </tr>\n",
       "  </tbody>\n",
       "</table>\n",
       "</div>"
      ],
      "text/plain": [
       "                        Hospital  Birth_Rate Light\n",
       "0     Hopital General de Dapaong        0.40   Yes\n",
       "1       Deutsche Hospital Apaong        0.25   Yes\n",
       "2    Clinique Notre-Dame de Lomé        0.98    No\n",
       "3      hôpital Nachtigal d’aného        0.18   Yes\n",
       "4  hôpital Germanique de kpalimé        0.62    No\n",
       "5                 Liberty Klinic        0.16    No"
      ]
     },
     "execution_count": 106,
     "metadata": {},
     "output_type": "execute_result"
    }
   ],
   "source": [
    "df_togo_birth_rate"
   ]
  },
  {
   "cell_type": "code",
   "execution_count": 107,
   "metadata": {},
   "outputs": [
    {
     "data": {
      "text/html": [
       "<div>\n",
       "<style scoped>\n",
       "    .dataframe tbody tr th:only-of-type {\n",
       "        vertical-align: middle;\n",
       "    }\n",
       "\n",
       "    .dataframe tbody tr th {\n",
       "        vertical-align: top;\n",
       "    }\n",
       "\n",
       "    .dataframe thead th {\n",
       "        text-align: right;\n",
       "    }\n",
       "</style>\n",
       "<table border=\"1\" class=\"dataframe\">\n",
       "  <thead>\n",
       "    <tr style=\"text-align: right;\">\n",
       "      <th></th>\n",
       "      <th>Hospital</th>\n",
       "      <th>Birth_Rate</th>\n",
       "      <th>Light</th>\n",
       "    </tr>\n",
       "  </thead>\n",
       "  <tbody>\n",
       "    <tr>\n",
       "      <th>2</th>\n",
       "      <td>Clinique Notre-Dame de Lomé</td>\n",
       "      <td>0.98</td>\n",
       "      <td>No</td>\n",
       "    </tr>\n",
       "  </tbody>\n",
       "</table>\n",
       "</div>"
      ],
      "text/plain": [
       "                      Hospital  Birth_Rate Light\n",
       "2  Clinique Notre-Dame de Lomé        0.98    No"
      ]
     },
     "execution_count": 107,
     "metadata": {},
     "output_type": "execute_result"
    }
   ],
   "source": [
    "df_togo_birth_rate[df_togo_birth_rate['Birth_Rate']==df_togo_birth_rate['Birth_Rate'].max()]"
   ]
  },
  {
   "cell_type": "markdown",
   "metadata": {
    "collapsed": true
   },
   "source": [
    "We can get a subset of dataframe based on some conditions. Let's find out from the task below."
   ]
  },
  {
   "cell_type": "markdown",
   "metadata": {},
   "source": [
    "># <font color=#800080>Task 1:</font> <a class=\"anchor\" id=\"Task-1\"></a>\n",
    "\n",
    "We are trying to learn more about how health and infrastructure are related in Togo. \n",
    "To do this, we have collected data across different hospitals within the country. \n",
    "The data is provided in the dictionary below."
   ]
  },
  {
   "cell_type": "code",
   "execution_count": 111,
   "metadata": {},
   "outputs": [],
   "source": [
    "togo_data = {\n",
    "    'Hospital_Name': [\n",
    "        'Lomé Central Hospital', \n",
    "        'Kara Regional Hospital', \n",
    "        'Sokodé District Hospital', \n",
    "        'Dapaong Clinic', \n",
    "        'Atakpamé Health Center', \n",
    "        'Bassar Hospital',\n",
    "        'Tsevie Hospital',\n",
    "        'Aného Medical Clinic',\n",
    "        'Kpalimé Health Center',\n",
    "        'Mango District Hospital',\n",
    "        'Lomé-Berlin Partnership Clinic',  \n",
    "        'Deutsche Togo Hospital',          \n",
    "        'Badou Health Center',\n",
    "        'Notse Hospital',\n",
    "        'Sotouboua Medical Facility',\n",
    "        'German-Togolese Medical Institute', \n",
    "        'Vogan Health Clinic',\n",
    "        'Tabligbo Hospital',\n",
    "        'Kande Medical Center',\n",
    "        'German Heart Clinic of Lomé'       \n",
    "    ],\n",
    "    'Birth_rate': [\n",
    "        0.152, 0.124, 0.147, 0.108, 0.135, \n",
    "        0.119, 0.141, 0.130, 0.125, 0.148,\n",
    "        0.151, 0.133, 0.137, 0.128, 0.122,\n",
    "        0.144, 0.136, 0.139, 0.115, 0.155\n",
    "    ],\n",
    "    'Access_to_Electricity': [\n",
    "        'Yes', 'No', 'Yes', 'No', 'Yes', \n",
    "        'No', 'Yes', 'Yes', 'Yes', 'No',\n",
    "        'Yes', 'Yes', 'No', 'Yes', 'Yes',\n",
    "        'No', 'Yes', 'Yes', 'No', 'Yes'\n",
    "    ]\n",
    "}\n"
   ]
  },
  {
   "cell_type": "markdown",
   "metadata": {},
   "source": [
    "\n",
    "1. Load the data in a pandas dataframe.\n",
    " \n",
    "2. Think of some practical questions related to health or infrastucture that can be asked from looking at the data\n",
    "\n",
    "3. Phrase them on a piece of paper.\n",
    "\n",
    "4. Write the Python codes that solve them\n",
    "\n",
    "5. Provide an insights or recommendation that drawn from each of your answers.\n",
    "\n",
    "6. Answer the following questions:\n",
    "\n",
    "    * What are the hospitals where the birth rate is less than `0.50`?\n",
    "    * What are the hospitals that have access to electricity?\n",
    "    * Are the Germans Hospitals in Togo always supplied with electricity?\n",
    "\n",
    "7. Siemens, a German company, has promised to give backup power generators to some hospitals in Togo. This is part of a collaboration between Germany and Togo. The generators will help keep the hospitals running during power outages, so that patients can continue to receive care. Siemens has carefully planned the delivery date for the generators in each hospital. The scheduled dates are stored in the `scheduled_dates` variable. Use the `pd.to_datetime()` function to convert these dates to a format that can be used for analysis."
   ]
  },
  {
   "cell_type": "code",
   "execution_count": 109,
   "metadata": {},
   "outputs": [],
   "source": [
    "scheduled_dates = ['2024-06-12', '2024-08-02', '2024-04-11', '2024-09-23', \n",
    "         '2024-05-30', '2024-09-14', '2024-07-04', '2024-06-26', \n",
    "         '2024-08-15', '2024-04-25', '2024-09-10', '2024-06-30',\n",
    "         '2024-12-15', '2024-05-17', '2024-05-13', '2024-05-15', \n",
    "         '2024-10-01', '2024-10-04', '2024-10-03', '2024-10-02']"
   ]
  },
  {
   "cell_type": "markdown",
   "metadata": {},
   "source": [
    "\n",
    "8. A special ceromony will be organized to hand over the generators to the hospitals. The Togolese Minister of Health, Mrs Flore Yassingbe Genevieve, and her team would want to take part of it. However, due to her busy schedule, her secretary said that she can only attend events that are scheduled between the **20th** and **40th** week of the year. Reckoning with her busy schedule, how many ceremonies can she attend in person?"
   ]
  },
  {
   "cell_type": "code",
   "execution_count": 112,
   "metadata": {},
   "outputs": [
    {
     "data": {
      "text/html": [
       "<div>\n",
       "<style scoped>\n",
       "    .dataframe tbody tr th:only-of-type {\n",
       "        vertical-align: middle;\n",
       "    }\n",
       "\n",
       "    .dataframe tbody tr th {\n",
       "        vertical-align: top;\n",
       "    }\n",
       "\n",
       "    .dataframe thead th {\n",
       "        text-align: right;\n",
       "    }\n",
       "</style>\n",
       "<table border=\"1\" class=\"dataframe\">\n",
       "  <thead>\n",
       "    <tr style=\"text-align: right;\">\n",
       "      <th></th>\n",
       "      <th>Hospital_Name</th>\n",
       "      <th>Birth_rate</th>\n",
       "      <th>Access_to_Electricity</th>\n",
       "    </tr>\n",
       "  </thead>\n",
       "  <tbody>\n",
       "    <tr>\n",
       "      <th>0</th>\n",
       "      <td>Lomé Central Hospital</td>\n",
       "      <td>0.152</td>\n",
       "      <td>Yes</td>\n",
       "    </tr>\n",
       "    <tr>\n",
       "      <th>1</th>\n",
       "      <td>Kara Regional Hospital</td>\n",
       "      <td>0.124</td>\n",
       "      <td>No</td>\n",
       "    </tr>\n",
       "    <tr>\n",
       "      <th>2</th>\n",
       "      <td>Sokodé District Hospital</td>\n",
       "      <td>0.147</td>\n",
       "      <td>Yes</td>\n",
       "    </tr>\n",
       "    <tr>\n",
       "      <th>3</th>\n",
       "      <td>Dapaong Clinic</td>\n",
       "      <td>0.108</td>\n",
       "      <td>No</td>\n",
       "    </tr>\n",
       "    <tr>\n",
       "      <th>4</th>\n",
       "      <td>Atakpamé Health Center</td>\n",
       "      <td>0.135</td>\n",
       "      <td>Yes</td>\n",
       "    </tr>\n",
       "    <tr>\n",
       "      <th>5</th>\n",
       "      <td>Bassar Hospital</td>\n",
       "      <td>0.119</td>\n",
       "      <td>No</td>\n",
       "    </tr>\n",
       "    <tr>\n",
       "      <th>6</th>\n",
       "      <td>Tsevie Hospital</td>\n",
       "      <td>0.141</td>\n",
       "      <td>Yes</td>\n",
       "    </tr>\n",
       "    <tr>\n",
       "      <th>7</th>\n",
       "      <td>Aného Medical Clinic</td>\n",
       "      <td>0.130</td>\n",
       "      <td>Yes</td>\n",
       "    </tr>\n",
       "    <tr>\n",
       "      <th>8</th>\n",
       "      <td>Kpalimé Health Center</td>\n",
       "      <td>0.125</td>\n",
       "      <td>Yes</td>\n",
       "    </tr>\n",
       "    <tr>\n",
       "      <th>9</th>\n",
       "      <td>Mango District Hospital</td>\n",
       "      <td>0.148</td>\n",
       "      <td>No</td>\n",
       "    </tr>\n",
       "    <tr>\n",
       "      <th>10</th>\n",
       "      <td>Lomé-Berlin Partnership Clinic</td>\n",
       "      <td>0.151</td>\n",
       "      <td>Yes</td>\n",
       "    </tr>\n",
       "    <tr>\n",
       "      <th>11</th>\n",
       "      <td>Deutsche Togo Hospital</td>\n",
       "      <td>0.133</td>\n",
       "      <td>Yes</td>\n",
       "    </tr>\n",
       "    <tr>\n",
       "      <th>12</th>\n",
       "      <td>Badou Health Center</td>\n",
       "      <td>0.137</td>\n",
       "      <td>No</td>\n",
       "    </tr>\n",
       "    <tr>\n",
       "      <th>13</th>\n",
       "      <td>Notse Hospital</td>\n",
       "      <td>0.128</td>\n",
       "      <td>Yes</td>\n",
       "    </tr>\n",
       "    <tr>\n",
       "      <th>14</th>\n",
       "      <td>Sotouboua Medical Facility</td>\n",
       "      <td>0.122</td>\n",
       "      <td>Yes</td>\n",
       "    </tr>\n",
       "    <tr>\n",
       "      <th>15</th>\n",
       "      <td>German-Togolese Medical Institute</td>\n",
       "      <td>0.144</td>\n",
       "      <td>No</td>\n",
       "    </tr>\n",
       "    <tr>\n",
       "      <th>16</th>\n",
       "      <td>Vogan Health Clinic</td>\n",
       "      <td>0.136</td>\n",
       "      <td>Yes</td>\n",
       "    </tr>\n",
       "    <tr>\n",
       "      <th>17</th>\n",
       "      <td>Tabligbo Hospital</td>\n",
       "      <td>0.139</td>\n",
       "      <td>Yes</td>\n",
       "    </tr>\n",
       "    <tr>\n",
       "      <th>18</th>\n",
       "      <td>Kande Medical Center</td>\n",
       "      <td>0.115</td>\n",
       "      <td>No</td>\n",
       "    </tr>\n",
       "    <tr>\n",
       "      <th>19</th>\n",
       "      <td>German Heart Clinic of Lomé</td>\n",
       "      <td>0.155</td>\n",
       "      <td>Yes</td>\n",
       "    </tr>\n",
       "  </tbody>\n",
       "</table>\n",
       "</div>"
      ],
      "text/plain": [
       "                        Hospital_Name  Birth_rate Access_to_Electricity\n",
       "0               Lomé Central Hospital       0.152                   Yes\n",
       "1              Kara Regional Hospital       0.124                    No\n",
       "2            Sokodé District Hospital       0.147                   Yes\n",
       "3                      Dapaong Clinic       0.108                    No\n",
       "4              Atakpamé Health Center       0.135                   Yes\n",
       "5                     Bassar Hospital       0.119                    No\n",
       "6                     Tsevie Hospital       0.141                   Yes\n",
       "7                Aného Medical Clinic       0.130                   Yes\n",
       "8               Kpalimé Health Center       0.125                   Yes\n",
       "9             Mango District Hospital       0.148                    No\n",
       "10     Lomé-Berlin Partnership Clinic       0.151                   Yes\n",
       "11             Deutsche Togo Hospital       0.133                   Yes\n",
       "12                Badou Health Center       0.137                    No\n",
       "13                     Notse Hospital       0.128                   Yes\n",
       "14         Sotouboua Medical Facility       0.122                   Yes\n",
       "15  German-Togolese Medical Institute       0.144                    No\n",
       "16                Vogan Health Clinic       0.136                   Yes\n",
       "17                  Tabligbo Hospital       0.139                   Yes\n",
       "18               Kande Medical Center       0.115                    No\n",
       "19        German Heart Clinic of Lomé       0.155                   Yes"
      ]
     },
     "execution_count": 112,
     "metadata": {},
     "output_type": "execute_result"
    }
   ],
   "source": [
    "df_togo = pd.DataFrame(togo_data)\n",
    "df_togo"
   ]
  },
  {
   "cell_type": "code",
   "execution_count": 114,
   "metadata": {},
   "outputs": [
    {
     "data": {
      "text/html": [
       "<div>\n",
       "<style scoped>\n",
       "    .dataframe tbody tr th:only-of-type {\n",
       "        vertical-align: middle;\n",
       "    }\n",
       "\n",
       "    .dataframe tbody tr th {\n",
       "        vertical-align: top;\n",
       "    }\n",
       "\n",
       "    .dataframe thead th {\n",
       "        text-align: right;\n",
       "    }\n",
       "</style>\n",
       "<table border=\"1\" class=\"dataframe\">\n",
       "  <thead>\n",
       "    <tr style=\"text-align: right;\">\n",
       "      <th></th>\n",
       "      <th>Hospital_Name</th>\n",
       "      <th>Birth_rate</th>\n",
       "      <th>Access_to_Electricity</th>\n",
       "      <th>date_time</th>\n",
       "    </tr>\n",
       "  </thead>\n",
       "  <tbody>\n",
       "    <tr>\n",
       "      <th>0</th>\n",
       "      <td>Lomé Central Hospital</td>\n",
       "      <td>0.152</td>\n",
       "      <td>Yes</td>\n",
       "      <td>2024-06-12</td>\n",
       "    </tr>\n",
       "    <tr>\n",
       "      <th>1</th>\n",
       "      <td>Kara Regional Hospital</td>\n",
       "      <td>0.124</td>\n",
       "      <td>No</td>\n",
       "      <td>2024-08-02</td>\n",
       "    </tr>\n",
       "    <tr>\n",
       "      <th>2</th>\n",
       "      <td>Sokodé District Hospital</td>\n",
       "      <td>0.147</td>\n",
       "      <td>Yes</td>\n",
       "      <td>2024-04-11</td>\n",
       "    </tr>\n",
       "    <tr>\n",
       "      <th>3</th>\n",
       "      <td>Dapaong Clinic</td>\n",
       "      <td>0.108</td>\n",
       "      <td>No</td>\n",
       "      <td>2024-09-23</td>\n",
       "    </tr>\n",
       "    <tr>\n",
       "      <th>4</th>\n",
       "      <td>Atakpamé Health Center</td>\n",
       "      <td>0.135</td>\n",
       "      <td>Yes</td>\n",
       "      <td>2024-05-30</td>\n",
       "    </tr>\n",
       "    <tr>\n",
       "      <th>5</th>\n",
       "      <td>Bassar Hospital</td>\n",
       "      <td>0.119</td>\n",
       "      <td>No</td>\n",
       "      <td>2024-09-14</td>\n",
       "    </tr>\n",
       "    <tr>\n",
       "      <th>6</th>\n",
       "      <td>Tsevie Hospital</td>\n",
       "      <td>0.141</td>\n",
       "      <td>Yes</td>\n",
       "      <td>2024-07-04</td>\n",
       "    </tr>\n",
       "    <tr>\n",
       "      <th>7</th>\n",
       "      <td>Aného Medical Clinic</td>\n",
       "      <td>0.130</td>\n",
       "      <td>Yes</td>\n",
       "      <td>2024-06-26</td>\n",
       "    </tr>\n",
       "    <tr>\n",
       "      <th>8</th>\n",
       "      <td>Kpalimé Health Center</td>\n",
       "      <td>0.125</td>\n",
       "      <td>Yes</td>\n",
       "      <td>2024-08-15</td>\n",
       "    </tr>\n",
       "    <tr>\n",
       "      <th>9</th>\n",
       "      <td>Mango District Hospital</td>\n",
       "      <td>0.148</td>\n",
       "      <td>No</td>\n",
       "      <td>2024-04-25</td>\n",
       "    </tr>\n",
       "    <tr>\n",
       "      <th>10</th>\n",
       "      <td>Lomé-Berlin Partnership Clinic</td>\n",
       "      <td>0.151</td>\n",
       "      <td>Yes</td>\n",
       "      <td>2024-09-10</td>\n",
       "    </tr>\n",
       "    <tr>\n",
       "      <th>11</th>\n",
       "      <td>Deutsche Togo Hospital</td>\n",
       "      <td>0.133</td>\n",
       "      <td>Yes</td>\n",
       "      <td>2024-06-30</td>\n",
       "    </tr>\n",
       "    <tr>\n",
       "      <th>12</th>\n",
       "      <td>Badou Health Center</td>\n",
       "      <td>0.137</td>\n",
       "      <td>No</td>\n",
       "      <td>2024-12-15</td>\n",
       "    </tr>\n",
       "    <tr>\n",
       "      <th>13</th>\n",
       "      <td>Notse Hospital</td>\n",
       "      <td>0.128</td>\n",
       "      <td>Yes</td>\n",
       "      <td>2024-05-17</td>\n",
       "    </tr>\n",
       "    <tr>\n",
       "      <th>14</th>\n",
       "      <td>Sotouboua Medical Facility</td>\n",
       "      <td>0.122</td>\n",
       "      <td>Yes</td>\n",
       "      <td>2024-05-13</td>\n",
       "    </tr>\n",
       "    <tr>\n",
       "      <th>15</th>\n",
       "      <td>German-Togolese Medical Institute</td>\n",
       "      <td>0.144</td>\n",
       "      <td>No</td>\n",
       "      <td>2024-05-15</td>\n",
       "    </tr>\n",
       "    <tr>\n",
       "      <th>16</th>\n",
       "      <td>Vogan Health Clinic</td>\n",
       "      <td>0.136</td>\n",
       "      <td>Yes</td>\n",
       "      <td>2024-10-01</td>\n",
       "    </tr>\n",
       "    <tr>\n",
       "      <th>17</th>\n",
       "      <td>Tabligbo Hospital</td>\n",
       "      <td>0.139</td>\n",
       "      <td>Yes</td>\n",
       "      <td>2024-10-04</td>\n",
       "    </tr>\n",
       "    <tr>\n",
       "      <th>18</th>\n",
       "      <td>Kande Medical Center</td>\n",
       "      <td>0.115</td>\n",
       "      <td>No</td>\n",
       "      <td>2024-10-03</td>\n",
       "    </tr>\n",
       "    <tr>\n",
       "      <th>19</th>\n",
       "      <td>German Heart Clinic of Lomé</td>\n",
       "      <td>0.155</td>\n",
       "      <td>Yes</td>\n",
       "      <td>2024-10-02</td>\n",
       "    </tr>\n",
       "  </tbody>\n",
       "</table>\n",
       "</div>"
      ],
      "text/plain": [
       "                        Hospital_Name  Birth_rate Access_to_Electricity  \\\n",
       "0               Lomé Central Hospital       0.152                   Yes   \n",
       "1              Kara Regional Hospital       0.124                    No   \n",
       "2            Sokodé District Hospital       0.147                   Yes   \n",
       "3                      Dapaong Clinic       0.108                    No   \n",
       "4              Atakpamé Health Center       0.135                   Yes   \n",
       "5                     Bassar Hospital       0.119                    No   \n",
       "6                     Tsevie Hospital       0.141                   Yes   \n",
       "7                Aného Medical Clinic       0.130                   Yes   \n",
       "8               Kpalimé Health Center       0.125                   Yes   \n",
       "9             Mango District Hospital       0.148                    No   \n",
       "10     Lomé-Berlin Partnership Clinic       0.151                   Yes   \n",
       "11             Deutsche Togo Hospital       0.133                   Yes   \n",
       "12                Badou Health Center       0.137                    No   \n",
       "13                     Notse Hospital       0.128                   Yes   \n",
       "14         Sotouboua Medical Facility       0.122                   Yes   \n",
       "15  German-Togolese Medical Institute       0.144                    No   \n",
       "16                Vogan Health Clinic       0.136                   Yes   \n",
       "17                  Tabligbo Hospital       0.139                   Yes   \n",
       "18               Kande Medical Center       0.115                    No   \n",
       "19        German Heart Clinic of Lomé       0.155                   Yes   \n",
       "\n",
       "    date_time  \n",
       "0  2024-06-12  \n",
       "1  2024-08-02  \n",
       "2  2024-04-11  \n",
       "3  2024-09-23  \n",
       "4  2024-05-30  \n",
       "5  2024-09-14  \n",
       "6  2024-07-04  \n",
       "7  2024-06-26  \n",
       "8  2024-08-15  \n",
       "9  2024-04-25  \n",
       "10 2024-09-10  \n",
       "11 2024-06-30  \n",
       "12 2024-12-15  \n",
       "13 2024-05-17  \n",
       "14 2024-05-13  \n",
       "15 2024-05-15  \n",
       "16 2024-10-01  \n",
       "17 2024-10-04  \n",
       "18 2024-10-03  \n",
       "19 2024-10-02  "
      ]
     },
     "execution_count": 114,
     "metadata": {},
     "output_type": "execute_result"
    }
   ],
   "source": [
    "df_togo['date_time'] = pd.to_datetime(scheduled_dates)\n",
    "df_togo"
   ]
  },
  {
   "cell_type": "code",
   "execution_count": 118,
   "metadata": {},
   "outputs": [
    {
     "data": {
      "text/html": [
       "<div>\n",
       "<style scoped>\n",
       "    .dataframe tbody tr th:only-of-type {\n",
       "        vertical-align: middle;\n",
       "    }\n",
       "\n",
       "    .dataframe tbody tr th {\n",
       "        vertical-align: top;\n",
       "    }\n",
       "\n",
       "    .dataframe thead th {\n",
       "        text-align: right;\n",
       "    }\n",
       "</style>\n",
       "<table border=\"1\" class=\"dataframe\">\n",
       "  <thead>\n",
       "    <tr style=\"text-align: right;\">\n",
       "      <th></th>\n",
       "      <th>Hospital_Name</th>\n",
       "      <th>Birth_rate</th>\n",
       "      <th>Access_to_Electricity</th>\n",
       "      <th>date_time</th>\n",
       "      <th>week</th>\n",
       "    </tr>\n",
       "  </thead>\n",
       "  <tbody>\n",
       "    <tr>\n",
       "      <th>0</th>\n",
       "      <td>Lomé Central Hospital</td>\n",
       "      <td>0.152</td>\n",
       "      <td>Yes</td>\n",
       "      <td>2024-06-12</td>\n",
       "      <td>24</td>\n",
       "    </tr>\n",
       "    <tr>\n",
       "      <th>1</th>\n",
       "      <td>Kara Regional Hospital</td>\n",
       "      <td>0.124</td>\n",
       "      <td>No</td>\n",
       "      <td>2024-08-02</td>\n",
       "      <td>31</td>\n",
       "    </tr>\n",
       "    <tr>\n",
       "      <th>2</th>\n",
       "      <td>Sokodé District Hospital</td>\n",
       "      <td>0.147</td>\n",
       "      <td>Yes</td>\n",
       "      <td>2024-04-11</td>\n",
       "      <td>15</td>\n",
       "    </tr>\n",
       "    <tr>\n",
       "      <th>3</th>\n",
       "      <td>Dapaong Clinic</td>\n",
       "      <td>0.108</td>\n",
       "      <td>No</td>\n",
       "      <td>2024-09-23</td>\n",
       "      <td>39</td>\n",
       "    </tr>\n",
       "    <tr>\n",
       "      <th>4</th>\n",
       "      <td>Atakpamé Health Center</td>\n",
       "      <td>0.135</td>\n",
       "      <td>Yes</td>\n",
       "      <td>2024-05-30</td>\n",
       "      <td>22</td>\n",
       "    </tr>\n",
       "    <tr>\n",
       "      <th>5</th>\n",
       "      <td>Bassar Hospital</td>\n",
       "      <td>0.119</td>\n",
       "      <td>No</td>\n",
       "      <td>2024-09-14</td>\n",
       "      <td>37</td>\n",
       "    </tr>\n",
       "    <tr>\n",
       "      <th>6</th>\n",
       "      <td>Tsevie Hospital</td>\n",
       "      <td>0.141</td>\n",
       "      <td>Yes</td>\n",
       "      <td>2024-07-04</td>\n",
       "      <td>27</td>\n",
       "    </tr>\n",
       "    <tr>\n",
       "      <th>7</th>\n",
       "      <td>Aného Medical Clinic</td>\n",
       "      <td>0.130</td>\n",
       "      <td>Yes</td>\n",
       "      <td>2024-06-26</td>\n",
       "      <td>26</td>\n",
       "    </tr>\n",
       "    <tr>\n",
       "      <th>8</th>\n",
       "      <td>Kpalimé Health Center</td>\n",
       "      <td>0.125</td>\n",
       "      <td>Yes</td>\n",
       "      <td>2024-08-15</td>\n",
       "      <td>33</td>\n",
       "    </tr>\n",
       "    <tr>\n",
       "      <th>9</th>\n",
       "      <td>Mango District Hospital</td>\n",
       "      <td>0.148</td>\n",
       "      <td>No</td>\n",
       "      <td>2024-04-25</td>\n",
       "      <td>17</td>\n",
       "    </tr>\n",
       "    <tr>\n",
       "      <th>10</th>\n",
       "      <td>Lomé-Berlin Partnership Clinic</td>\n",
       "      <td>0.151</td>\n",
       "      <td>Yes</td>\n",
       "      <td>2024-09-10</td>\n",
       "      <td>37</td>\n",
       "    </tr>\n",
       "    <tr>\n",
       "      <th>11</th>\n",
       "      <td>Deutsche Togo Hospital</td>\n",
       "      <td>0.133</td>\n",
       "      <td>Yes</td>\n",
       "      <td>2024-06-30</td>\n",
       "      <td>26</td>\n",
       "    </tr>\n",
       "    <tr>\n",
       "      <th>12</th>\n",
       "      <td>Badou Health Center</td>\n",
       "      <td>0.137</td>\n",
       "      <td>No</td>\n",
       "      <td>2024-12-15</td>\n",
       "      <td>50</td>\n",
       "    </tr>\n",
       "    <tr>\n",
       "      <th>13</th>\n",
       "      <td>Notse Hospital</td>\n",
       "      <td>0.128</td>\n",
       "      <td>Yes</td>\n",
       "      <td>2024-05-17</td>\n",
       "      <td>20</td>\n",
       "    </tr>\n",
       "    <tr>\n",
       "      <th>14</th>\n",
       "      <td>Sotouboua Medical Facility</td>\n",
       "      <td>0.122</td>\n",
       "      <td>Yes</td>\n",
       "      <td>2024-05-13</td>\n",
       "      <td>20</td>\n",
       "    </tr>\n",
       "    <tr>\n",
       "      <th>15</th>\n",
       "      <td>German-Togolese Medical Institute</td>\n",
       "      <td>0.144</td>\n",
       "      <td>No</td>\n",
       "      <td>2024-05-15</td>\n",
       "      <td>20</td>\n",
       "    </tr>\n",
       "    <tr>\n",
       "      <th>16</th>\n",
       "      <td>Vogan Health Clinic</td>\n",
       "      <td>0.136</td>\n",
       "      <td>Yes</td>\n",
       "      <td>2024-10-01</td>\n",
       "      <td>40</td>\n",
       "    </tr>\n",
       "    <tr>\n",
       "      <th>17</th>\n",
       "      <td>Tabligbo Hospital</td>\n",
       "      <td>0.139</td>\n",
       "      <td>Yes</td>\n",
       "      <td>2024-10-04</td>\n",
       "      <td>40</td>\n",
       "    </tr>\n",
       "    <tr>\n",
       "      <th>18</th>\n",
       "      <td>Kande Medical Center</td>\n",
       "      <td>0.115</td>\n",
       "      <td>No</td>\n",
       "      <td>2024-10-03</td>\n",
       "      <td>40</td>\n",
       "    </tr>\n",
       "    <tr>\n",
       "      <th>19</th>\n",
       "      <td>German Heart Clinic of Lomé</td>\n",
       "      <td>0.155</td>\n",
       "      <td>Yes</td>\n",
       "      <td>2024-10-02</td>\n",
       "      <td>40</td>\n",
       "    </tr>\n",
       "  </tbody>\n",
       "</table>\n",
       "</div>"
      ],
      "text/plain": [
       "                        Hospital_Name  Birth_rate Access_to_Electricity  \\\n",
       "0               Lomé Central Hospital       0.152                   Yes   \n",
       "1              Kara Regional Hospital       0.124                    No   \n",
       "2            Sokodé District Hospital       0.147                   Yes   \n",
       "3                      Dapaong Clinic       0.108                    No   \n",
       "4              Atakpamé Health Center       0.135                   Yes   \n",
       "5                     Bassar Hospital       0.119                    No   \n",
       "6                     Tsevie Hospital       0.141                   Yes   \n",
       "7                Aného Medical Clinic       0.130                   Yes   \n",
       "8               Kpalimé Health Center       0.125                   Yes   \n",
       "9             Mango District Hospital       0.148                    No   \n",
       "10     Lomé-Berlin Partnership Clinic       0.151                   Yes   \n",
       "11             Deutsche Togo Hospital       0.133                   Yes   \n",
       "12                Badou Health Center       0.137                    No   \n",
       "13                     Notse Hospital       0.128                   Yes   \n",
       "14         Sotouboua Medical Facility       0.122                   Yes   \n",
       "15  German-Togolese Medical Institute       0.144                    No   \n",
       "16                Vogan Health Clinic       0.136                   Yes   \n",
       "17                  Tabligbo Hospital       0.139                   Yes   \n",
       "18               Kande Medical Center       0.115                    No   \n",
       "19        German Heart Clinic of Lomé       0.155                   Yes   \n",
       "\n",
       "    date_time  week  \n",
       "0  2024-06-12    24  \n",
       "1  2024-08-02    31  \n",
       "2  2024-04-11    15  \n",
       "3  2024-09-23    39  \n",
       "4  2024-05-30    22  \n",
       "5  2024-09-14    37  \n",
       "6  2024-07-04    27  \n",
       "7  2024-06-26    26  \n",
       "8  2024-08-15    33  \n",
       "9  2024-04-25    17  \n",
       "10 2024-09-10    37  \n",
       "11 2024-06-30    26  \n",
       "12 2024-12-15    50  \n",
       "13 2024-05-17    20  \n",
       "14 2024-05-13    20  \n",
       "15 2024-05-15    20  \n",
       "16 2024-10-01    40  \n",
       "17 2024-10-04    40  \n",
       "18 2024-10-03    40  \n",
       "19 2024-10-02    40  "
      ]
     },
     "execution_count": 118,
     "metadata": {},
     "output_type": "execute_result"
    }
   ],
   "source": [
    "df_togo['week'] = df_togo.date_time.dt.isocalendar().week\n",
    "df_togo"
   ]
  },
  {
   "cell_type": "code",
   "execution_count": 120,
   "metadata": {},
   "outputs": [
    {
     "data": {
      "text/html": [
       "<div>\n",
       "<style scoped>\n",
       "    .dataframe tbody tr th:only-of-type {\n",
       "        vertical-align: middle;\n",
       "    }\n",
       "\n",
       "    .dataframe tbody tr th {\n",
       "        vertical-align: top;\n",
       "    }\n",
       "\n",
       "    .dataframe thead th {\n",
       "        text-align: right;\n",
       "    }\n",
       "</style>\n",
       "<table border=\"1\" class=\"dataframe\">\n",
       "  <thead>\n",
       "    <tr style=\"text-align: right;\">\n",
       "      <th></th>\n",
       "      <th>Hospital_Name</th>\n",
       "      <th>Birth_rate</th>\n",
       "      <th>Access_to_Electricity</th>\n",
       "      <th>date_time</th>\n",
       "      <th>week</th>\n",
       "    </tr>\n",
       "  </thead>\n",
       "  <tbody>\n",
       "    <tr>\n",
       "      <th>0</th>\n",
       "      <td>Lomé Central Hospital</td>\n",
       "      <td>0.152</td>\n",
       "      <td>Yes</td>\n",
       "      <td>2024-06-12</td>\n",
       "      <td>24</td>\n",
       "    </tr>\n",
       "    <tr>\n",
       "      <th>1</th>\n",
       "      <td>Kara Regional Hospital</td>\n",
       "      <td>0.124</td>\n",
       "      <td>No</td>\n",
       "      <td>2024-08-02</td>\n",
       "      <td>31</td>\n",
       "    </tr>\n",
       "    <tr>\n",
       "      <th>3</th>\n",
       "      <td>Dapaong Clinic</td>\n",
       "      <td>0.108</td>\n",
       "      <td>No</td>\n",
       "      <td>2024-09-23</td>\n",
       "      <td>39</td>\n",
       "    </tr>\n",
       "    <tr>\n",
       "      <th>4</th>\n",
       "      <td>Atakpamé Health Center</td>\n",
       "      <td>0.135</td>\n",
       "      <td>Yes</td>\n",
       "      <td>2024-05-30</td>\n",
       "      <td>22</td>\n",
       "    </tr>\n",
       "    <tr>\n",
       "      <th>5</th>\n",
       "      <td>Bassar Hospital</td>\n",
       "      <td>0.119</td>\n",
       "      <td>No</td>\n",
       "      <td>2024-09-14</td>\n",
       "      <td>37</td>\n",
       "    </tr>\n",
       "    <tr>\n",
       "      <th>6</th>\n",
       "      <td>Tsevie Hospital</td>\n",
       "      <td>0.141</td>\n",
       "      <td>Yes</td>\n",
       "      <td>2024-07-04</td>\n",
       "      <td>27</td>\n",
       "    </tr>\n",
       "    <tr>\n",
       "      <th>7</th>\n",
       "      <td>Aného Medical Clinic</td>\n",
       "      <td>0.130</td>\n",
       "      <td>Yes</td>\n",
       "      <td>2024-06-26</td>\n",
       "      <td>26</td>\n",
       "    </tr>\n",
       "    <tr>\n",
       "      <th>8</th>\n",
       "      <td>Kpalimé Health Center</td>\n",
       "      <td>0.125</td>\n",
       "      <td>Yes</td>\n",
       "      <td>2024-08-15</td>\n",
       "      <td>33</td>\n",
       "    </tr>\n",
       "    <tr>\n",
       "      <th>10</th>\n",
       "      <td>Lomé-Berlin Partnership Clinic</td>\n",
       "      <td>0.151</td>\n",
       "      <td>Yes</td>\n",
       "      <td>2024-09-10</td>\n",
       "      <td>37</td>\n",
       "    </tr>\n",
       "    <tr>\n",
       "      <th>11</th>\n",
       "      <td>Deutsche Togo Hospital</td>\n",
       "      <td>0.133</td>\n",
       "      <td>Yes</td>\n",
       "      <td>2024-06-30</td>\n",
       "      <td>26</td>\n",
       "    </tr>\n",
       "    <tr>\n",
       "      <th>13</th>\n",
       "      <td>Notse Hospital</td>\n",
       "      <td>0.128</td>\n",
       "      <td>Yes</td>\n",
       "      <td>2024-05-17</td>\n",
       "      <td>20</td>\n",
       "    </tr>\n",
       "    <tr>\n",
       "      <th>14</th>\n",
       "      <td>Sotouboua Medical Facility</td>\n",
       "      <td>0.122</td>\n",
       "      <td>Yes</td>\n",
       "      <td>2024-05-13</td>\n",
       "      <td>20</td>\n",
       "    </tr>\n",
       "    <tr>\n",
       "      <th>15</th>\n",
       "      <td>German-Togolese Medical Institute</td>\n",
       "      <td>0.144</td>\n",
       "      <td>No</td>\n",
       "      <td>2024-05-15</td>\n",
       "      <td>20</td>\n",
       "    </tr>\n",
       "    <tr>\n",
       "      <th>16</th>\n",
       "      <td>Vogan Health Clinic</td>\n",
       "      <td>0.136</td>\n",
       "      <td>Yes</td>\n",
       "      <td>2024-10-01</td>\n",
       "      <td>40</td>\n",
       "    </tr>\n",
       "    <tr>\n",
       "      <th>17</th>\n",
       "      <td>Tabligbo Hospital</td>\n",
       "      <td>0.139</td>\n",
       "      <td>Yes</td>\n",
       "      <td>2024-10-04</td>\n",
       "      <td>40</td>\n",
       "    </tr>\n",
       "    <tr>\n",
       "      <th>18</th>\n",
       "      <td>Kande Medical Center</td>\n",
       "      <td>0.115</td>\n",
       "      <td>No</td>\n",
       "      <td>2024-10-03</td>\n",
       "      <td>40</td>\n",
       "    </tr>\n",
       "    <tr>\n",
       "      <th>19</th>\n",
       "      <td>German Heart Clinic of Lomé</td>\n",
       "      <td>0.155</td>\n",
       "      <td>Yes</td>\n",
       "      <td>2024-10-02</td>\n",
       "      <td>40</td>\n",
       "    </tr>\n",
       "  </tbody>\n",
       "</table>\n",
       "</div>"
      ],
      "text/plain": [
       "                        Hospital_Name  Birth_rate Access_to_Electricity  \\\n",
       "0               Lomé Central Hospital       0.152                   Yes   \n",
       "1              Kara Regional Hospital       0.124                    No   \n",
       "3                      Dapaong Clinic       0.108                    No   \n",
       "4              Atakpamé Health Center       0.135                   Yes   \n",
       "5                     Bassar Hospital       0.119                    No   \n",
       "6                     Tsevie Hospital       0.141                   Yes   \n",
       "7                Aného Medical Clinic       0.130                   Yes   \n",
       "8               Kpalimé Health Center       0.125                   Yes   \n",
       "10     Lomé-Berlin Partnership Clinic       0.151                   Yes   \n",
       "11             Deutsche Togo Hospital       0.133                   Yes   \n",
       "13                     Notse Hospital       0.128                   Yes   \n",
       "14         Sotouboua Medical Facility       0.122                   Yes   \n",
       "15  German-Togolese Medical Institute       0.144                    No   \n",
       "16                Vogan Health Clinic       0.136                   Yes   \n",
       "17                  Tabligbo Hospital       0.139                   Yes   \n",
       "18               Kande Medical Center       0.115                    No   \n",
       "19        German Heart Clinic of Lomé       0.155                   Yes   \n",
       "\n",
       "    date_time  week  \n",
       "0  2024-06-12    24  \n",
       "1  2024-08-02    31  \n",
       "3  2024-09-23    39  \n",
       "4  2024-05-30    22  \n",
       "5  2024-09-14    37  \n",
       "6  2024-07-04    27  \n",
       "7  2024-06-26    26  \n",
       "8  2024-08-15    33  \n",
       "10 2024-09-10    37  \n",
       "11 2024-06-30    26  \n",
       "13 2024-05-17    20  \n",
       "14 2024-05-13    20  \n",
       "15 2024-05-15    20  \n",
       "16 2024-10-01    40  \n",
       "17 2024-10-04    40  \n",
       "18 2024-10-03    40  \n",
       "19 2024-10-02    40  "
      ]
     },
     "execution_count": 120,
     "metadata": {},
     "output_type": "execute_result"
    }
   ],
   "source": [
    "\n",
    "df_filtre = df_togo[(df_togo['week'] >= 20) & (df_togo['week'] <= 40 )]\n",
    "df_filtre"
   ]
  },
  {
   "cell_type": "code",
   "execution_count": 124,
   "metadata": {},
   "outputs": [
    {
     "data": {
      "text/html": [
       "<div>\n",
       "<style scoped>\n",
       "    .dataframe tbody tr th:only-of-type {\n",
       "        vertical-align: middle;\n",
       "    }\n",
       "\n",
       "    .dataframe tbody tr th {\n",
       "        vertical-align: top;\n",
       "    }\n",
       "\n",
       "    .dataframe thead th {\n",
       "        text-align: right;\n",
       "    }\n",
       "</style>\n",
       "<table border=\"1\" class=\"dataframe\">\n",
       "  <thead>\n",
       "    <tr style=\"text-align: right;\">\n",
       "      <th></th>\n",
       "      <th>Hospital_Name</th>\n",
       "      <th>Birth_rate</th>\n",
       "      <th>Access_to_Electricity</th>\n",
       "      <th>date_time</th>\n",
       "      <th>week</th>\n",
       "    </tr>\n",
       "  </thead>\n",
       "  <tbody>\n",
       "    <tr>\n",
       "      <th>0</th>\n",
       "      <td>Lomé Central Hospital</td>\n",
       "      <td>0.152</td>\n",
       "      <td>Yes</td>\n",
       "      <td>2024-06-12</td>\n",
       "      <td>24</td>\n",
       "    </tr>\n",
       "    <tr>\n",
       "      <th>1</th>\n",
       "      <td>Kara Regional Hospital</td>\n",
       "      <td>0.124</td>\n",
       "      <td>No</td>\n",
       "      <td>2024-08-02</td>\n",
       "      <td>31</td>\n",
       "    </tr>\n",
       "    <tr>\n",
       "      <th>3</th>\n",
       "      <td>Dapaong Clinic</td>\n",
       "      <td>0.108</td>\n",
       "      <td>No</td>\n",
       "      <td>2024-09-23</td>\n",
       "      <td>39</td>\n",
       "    </tr>\n",
       "    <tr>\n",
       "      <th>4</th>\n",
       "      <td>Atakpamé Health Center</td>\n",
       "      <td>0.135</td>\n",
       "      <td>Yes</td>\n",
       "      <td>2024-05-30</td>\n",
       "      <td>22</td>\n",
       "    </tr>\n",
       "    <tr>\n",
       "      <th>5</th>\n",
       "      <td>Bassar Hospital</td>\n",
       "      <td>0.119</td>\n",
       "      <td>No</td>\n",
       "      <td>2024-09-14</td>\n",
       "      <td>37</td>\n",
       "    </tr>\n",
       "    <tr>\n",
       "      <th>6</th>\n",
       "      <td>Tsevie Hospital</td>\n",
       "      <td>0.141</td>\n",
       "      <td>Yes</td>\n",
       "      <td>2024-07-04</td>\n",
       "      <td>27</td>\n",
       "    </tr>\n",
       "    <tr>\n",
       "      <th>7</th>\n",
       "      <td>Aného Medical Clinic</td>\n",
       "      <td>0.130</td>\n",
       "      <td>Yes</td>\n",
       "      <td>2024-06-26</td>\n",
       "      <td>26</td>\n",
       "    </tr>\n",
       "    <tr>\n",
       "      <th>8</th>\n",
       "      <td>Kpalimé Health Center</td>\n",
       "      <td>0.125</td>\n",
       "      <td>Yes</td>\n",
       "      <td>2024-08-15</td>\n",
       "      <td>33</td>\n",
       "    </tr>\n",
       "    <tr>\n",
       "      <th>10</th>\n",
       "      <td>Lomé-Berlin Partnership Clinic</td>\n",
       "      <td>0.151</td>\n",
       "      <td>Yes</td>\n",
       "      <td>2024-09-10</td>\n",
       "      <td>37</td>\n",
       "    </tr>\n",
       "    <tr>\n",
       "      <th>11</th>\n",
       "      <td>Deutsche Togo Hospital</td>\n",
       "      <td>0.133</td>\n",
       "      <td>Yes</td>\n",
       "      <td>2024-06-30</td>\n",
       "      <td>26</td>\n",
       "    </tr>\n",
       "    <tr>\n",
       "      <th>13</th>\n",
       "      <td>Notse Hospital</td>\n",
       "      <td>0.128</td>\n",
       "      <td>Yes</td>\n",
       "      <td>2024-05-17</td>\n",
       "      <td>20</td>\n",
       "    </tr>\n",
       "    <tr>\n",
       "      <th>14</th>\n",
       "      <td>Sotouboua Medical Facility</td>\n",
       "      <td>0.122</td>\n",
       "      <td>Yes</td>\n",
       "      <td>2024-05-13</td>\n",
       "      <td>20</td>\n",
       "    </tr>\n",
       "    <tr>\n",
       "      <th>15</th>\n",
       "      <td>German-Togolese Medical Institute</td>\n",
       "      <td>0.144</td>\n",
       "      <td>No</td>\n",
       "      <td>2024-05-15</td>\n",
       "      <td>20</td>\n",
       "    </tr>\n",
       "    <tr>\n",
       "      <th>16</th>\n",
       "      <td>Vogan Health Clinic</td>\n",
       "      <td>0.136</td>\n",
       "      <td>Yes</td>\n",
       "      <td>2024-10-01</td>\n",
       "      <td>40</td>\n",
       "    </tr>\n",
       "    <tr>\n",
       "      <th>17</th>\n",
       "      <td>Tabligbo Hospital</td>\n",
       "      <td>0.139</td>\n",
       "      <td>Yes</td>\n",
       "      <td>2024-10-04</td>\n",
       "      <td>40</td>\n",
       "    </tr>\n",
       "    <tr>\n",
       "      <th>18</th>\n",
       "      <td>Kande Medical Center</td>\n",
       "      <td>0.115</td>\n",
       "      <td>No</td>\n",
       "      <td>2024-10-03</td>\n",
       "      <td>40</td>\n",
       "    </tr>\n",
       "    <tr>\n",
       "      <th>19</th>\n",
       "      <td>German Heart Clinic of Lomé</td>\n",
       "      <td>0.155</td>\n",
       "      <td>Yes</td>\n",
       "      <td>2024-10-02</td>\n",
       "      <td>40</td>\n",
       "    </tr>\n",
       "  </tbody>\n",
       "</table>\n",
       "</div>"
      ],
      "text/plain": [
       "                        Hospital_Name  Birth_rate Access_to_Electricity  \\\n",
       "0               Lomé Central Hospital       0.152                   Yes   \n",
       "1              Kara Regional Hospital       0.124                    No   \n",
       "3                      Dapaong Clinic       0.108                    No   \n",
       "4              Atakpamé Health Center       0.135                   Yes   \n",
       "5                     Bassar Hospital       0.119                    No   \n",
       "6                     Tsevie Hospital       0.141                   Yes   \n",
       "7                Aného Medical Clinic       0.130                   Yes   \n",
       "8               Kpalimé Health Center       0.125                   Yes   \n",
       "10     Lomé-Berlin Partnership Clinic       0.151                   Yes   \n",
       "11             Deutsche Togo Hospital       0.133                   Yes   \n",
       "13                     Notse Hospital       0.128                   Yes   \n",
       "14         Sotouboua Medical Facility       0.122                   Yes   \n",
       "15  German-Togolese Medical Institute       0.144                    No   \n",
       "16                Vogan Health Clinic       0.136                   Yes   \n",
       "17                  Tabligbo Hospital       0.139                   Yes   \n",
       "18               Kande Medical Center       0.115                    No   \n",
       "19        German Heart Clinic of Lomé       0.155                   Yes   \n",
       "\n",
       "    date_time  week  \n",
       "0  2024-06-12    24  \n",
       "1  2024-08-02    31  \n",
       "3  2024-09-23    39  \n",
       "4  2024-05-30    22  \n",
       "5  2024-09-14    37  \n",
       "6  2024-07-04    27  \n",
       "7  2024-06-26    26  \n",
       "8  2024-08-15    33  \n",
       "10 2024-09-10    37  \n",
       "11 2024-06-30    26  \n",
       "13 2024-05-17    20  \n",
       "14 2024-05-13    20  \n",
       "15 2024-05-15    20  \n",
       "16 2024-10-01    40  \n",
       "17 2024-10-04    40  \n",
       "18 2024-10-03    40  \n",
       "19 2024-10-02    40  "
      ]
     },
     "execution_count": 124,
     "metadata": {},
     "output_type": "execute_result"
    }
   ],
   "source": [
    "df_filtre2 = df_togo.query(\"week >= 20 and week <= 40\")\n",
    "df_filtre2"
   ]
  },
  {
   "cell_type": "code",
   "execution_count": null,
   "metadata": {},
   "outputs": [],
   "source": []
  }
 ],
 "metadata": {
  "kernelspec": {
   "display_name": ".env",
   "language": "python",
   "name": "python3"
  },
  "language_info": {
   "codemirror_mode": {
    "name": "ipython",
    "version": 3
   },
   "file_extension": ".py",
   "mimetype": "text/x-python",
   "name": "python",
   "nbconvert_exporter": "python",
   "pygments_lexer": "ipython3",
   "version": "3.10.12"
  }
 },
 "nbformat": 4,
 "nbformat_minor": 2
}
