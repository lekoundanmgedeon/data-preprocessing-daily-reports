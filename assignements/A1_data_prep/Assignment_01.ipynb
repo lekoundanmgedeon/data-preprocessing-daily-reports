{
 "cells": [
  {
   "cell_type": "markdown",
   "id": "d999e9fe",
   "metadata": {},
   "source": [
    "<h1 style=\"text-align: center;\"><a title=\"Data Prep-AIMS-Cmr-2024-25\">Assignment 1, Data Prep  @AIMSSen 25</h1>\n",
    "\n",
    "**Instructor:** \n",
    "\n",
    "* Rockefeller"
   ]
  },
  {
   "cell_type": "markdown",
   "id": "9a635399",
   "metadata": {},
   "source": [
    "# Exercice 1:  Trends in Business in Nigeria"
   ]
  },
  {
   "cell_type": "markdown",
   "id": "dedbd45d",
   "metadata": {},
   "source": [
    "**NaijaBiz Analytics** is a leading business intelligence firm that specializes in analyzing small and medium enterprises (SMEs) across Nigeria. The company has been contracted by the Nigerian Ministry of Industry, Trade and Investment to conduct a comprehensive analysis of business performance across different states and sectors. \n",
    "\n",
    "As a newly hired Data Analyst at NaijaBiz Analytics, you have been provided with a dataset containing information about businesses across various Nigerian states. Your task is to analyze the business data using basic filtering operations to provide actionable insights.\n",
    "\n",
    "**Dataset:** `naija_businesses.csv`\n",
    "\n",
    "For each question below, provide the Python pandas code and extract meaningful business insights from your analysis.\n"
   ]
  },
  {
   "cell_type": "code",
   "execution_count": null,
   "id": "fd2a2be3",
   "metadata": {},
   "outputs": [],
   "source": []
  },
  {
   "cell_type": "markdown",
   "id": "a6af92ff",
   "metadata": {},
   "source": [
    "### Q1: High Revenue Businesses\n",
    "Filter and display all businesses that have monthly revenue greater than 600,000 Naira. How many such businesses exist?\n",
    "\n",
    "**Business Context:** Identifying high-revenue businesses can help understand successful business models.\n"
   ]
  },
  {
   "cell_type": "code",
   "execution_count": null,
   "id": "36bb5ba3",
   "metadata": {},
   "outputs": [],
   "source": []
  },
  {
   "cell_type": "code",
   "execution_count": null,
   "id": "b8e00e25",
   "metadata": {},
   "outputs": [],
   "source": []
  },
  {
   "cell_type": "markdown",
   "id": "6990726f",
   "metadata": {},
   "source": [
    "### Q2: Technology Businesses with Websites\n",
    "Filter businesses that are in the \"Technology\" sector AND have a website. Display their business names and monthly revenue.\n",
    "\n",
    "**Business Context:** Understanding digital adoption in the tech sector can inform technology support programs.\n"
   ]
  },
  {
   "cell_type": "code",
   "execution_count": null,
   "id": "f95ab214",
   "metadata": {},
   "outputs": [],
   "source": []
  },
  {
   "cell_type": "markdown",
   "id": "109deff8",
   "metadata": {},
   "source": [
    "### Q3: Manufacturing Businesses in Specific States\n",
    "Filter all Manufacturing businesses located in either \"Lagos\" OR \"Kano\" states. How many manufacturing businesses are in these two states?\n",
    "\n",
    "**Business Context:** These states are major industrial hubs, and this analysis helps understand manufacturing concentration.\n"
   ]
  },
  {
   "cell_type": "code",
   "execution_count": null,
   "id": "5fe77c2f",
   "metadata": {},
   "outputs": [],
   "source": []
  },
  {
   "cell_type": "code",
   "execution_count": null,
   "id": "a5f286b3",
   "metadata": {},
   "outputs": [],
   "source": []
  },
  {
   "cell_type": "markdown",
   "id": "7a889b07",
   "metadata": {},
   "source": [
    "### Q4: Small Businesses Analysis\n",
    "Filter businesses that have fewer than 5 employees AND monthly costs less than 200,000 Naira. What business types do these small businesses represent?\n",
    "\n",
    "**Business Context:** Small businesses often need different support strategies than larger enterprises.\n"
   ]
  },
  {
   "cell_type": "code",
   "execution_count": null,
   "id": "1bfb48e6",
   "metadata": {},
   "outputs": [],
   "source": []
  },
  {
   "cell_type": "code",
   "execution_count": null,
   "id": "8edc360b",
   "metadata": {},
   "outputs": [],
   "source": []
  },
  {
   "cell_type": "markdown",
   "id": "dfc60b19",
   "metadata": {},
   "source": [
    "### Q5: Profitable Retail Businesses\n",
    "Filter Retail businesses where monthly revenue is greater than monthly costs. Display their state and employee count.\n",
    "\n",
    "**Business Context:** Understanding profitable retail operations can help identify successful business practices.\n"
   ]
  },
  {
   "cell_type": "code",
   "execution_count": null,
   "id": "9f51ec93",
   "metadata": {},
   "outputs": [],
   "source": []
  },
  {
   "cell_type": "code",
   "execution_count": null,
   "id": "cbc2bc71",
   "metadata": {},
   "outputs": [],
   "source": []
  },
  {
   "cell_type": "markdown",
   "id": "c5248fd9",
   "metadata": {},
   "source": [
    "### Q6: Businesses Accepting Mobile Money\n",
    "Filter all businesses that accept mobile money AND have more than 8 employees. Which states are these businesses located in?\n",
    "\n",
    "**Business Context:** Larger businesses adopting mobile payments indicate financial technology integration.\n"
   ]
  },
  {
   "cell_type": "code",
   "execution_count": null,
   "id": "9c066fa7",
   "metadata": {},
   "outputs": [],
   "source": []
  },
  {
   "cell_type": "code",
   "execution_count": null,
   "id": "ee10a1be",
   "metadata": {},
   "outputs": [],
   "source": []
  },
  {
   "cell_type": "markdown",
   "id": "000c2988",
   "metadata": {},
   "source": [
    "### Q7: Low-Cost Operations\n",
    "Filter businesses where monthly costs are less than 150,000 Naira. What is the most common business type among these low-cost operations?\n",
    "\n",
    "**Business Context:** Low-cost business models can be important for economic inclusion and job creation.\n"
   ]
  },
  {
   "cell_type": "code",
   "execution_count": null,
   "id": "dfb700d0",
   "metadata": {},
   "outputs": [],
   "source": []
  },
  {
   "cell_type": "code",
   "execution_count": null,
   "id": "f86c232a",
   "metadata": {},
   "outputs": [],
   "source": []
  },
  {
   "cell_type": "code",
   "execution_count": null,
   "id": "0b22fc6f",
   "metadata": {},
   "outputs": [],
   "source": []
  },
  {
   "cell_type": "markdown",
   "id": "c6930dfe",
   "metadata": {},
   "source": [
    "### Q8: Recent Business Registrations\n",
    "Filter businesses that started in 2023. Which business type is most common among these new businesses?\n",
    "\n",
    "**Business Context:** Recent registration trends can indicate emerging business opportunities and economic growth sectors.\n"
   ]
  },
  {
   "cell_type": "code",
   "execution_count": null,
   "id": "98998e1c",
   "metadata": {},
   "outputs": [],
   "source": []
  },
  {
   "cell_type": "code",
   "execution_count": null,
   "id": "9fb0705d",
   "metadata": {},
   "outputs": [],
   "source": []
  },
  {
   "cell_type": "code",
   "execution_count": null,
   "id": "4fa86ca7",
   "metadata": {},
   "outputs": [],
   "source": []
  },
  {
   "cell_type": "markdown",
   "id": "549852b5",
   "metadata": {},
   "source": [
    "### Q9: Large Employers\n",
    "Filter businesses that have 10 or more employees. Calculate the average monthly revenue of these larger employers.\n",
    "\n",
    "**Business Context:** Large employers are important for job creation and economic stability.\n"
   ]
  },
  {
   "cell_type": "code",
   "execution_count": null,
   "id": "0216e280",
   "metadata": {},
   "outputs": [],
   "source": []
  },
  {
   "cell_type": "code",
   "execution_count": null,
   "id": "98daf329",
   "metadata": {},
   "outputs": [],
   "source": []
  },
  {
   "cell_type": "code",
   "execution_count": null,
   "id": "19d949a3",
   "metadata": {},
   "outputs": [],
   "source": []
  },
  {
   "cell_type": "markdown",
   "id": "eb77bb0c",
   "metadata": {},
   "source": [
    "### Q10: Digital-Ready Businesses\n",
    "Filter businesses that have a website AND accept mobile money. What percentage of the total businesses are digitally ready?\n",
    "\n",
    "**Business Context:** Digital readiness indicates how prepared businesses are for the modern economy.\n"
   ]
  },
  {
   "cell_type": "code",
   "execution_count": null,
   "id": "5d71fcaa",
   "metadata": {},
   "outputs": [],
   "source": []
  },
  {
   "cell_type": "code",
   "execution_count": null,
   "id": "b5381495",
   "metadata": {},
   "outputs": [],
   "source": []
  },
  {
   "cell_type": "code",
   "execution_count": null,
   "id": "4f2566a4",
   "metadata": {},
   "outputs": [],
   "source": []
  },
  {
   "cell_type": "code",
   "execution_count": null,
   "id": "0678df8f",
   "metadata": {},
   "outputs": [],
   "source": []
  },
  {
   "cell_type": "code",
   "execution_count": null,
   "id": "cf37a0ed",
   "metadata": {},
   "outputs": [],
   "source": []
  },
  {
   "cell_type": "markdown",
   "id": "3eaa85e5",
   "metadata": {},
   "source": [
    "# Exercise 2: African Agriculture Analysis\n",
    "\n",
    "**AgriTech Africa** is a research organization analyzing agricultural technology adoption across five African countries. You have been provided with a dataset containing information about farming communities and their technology usage patterns.\n",
    "\n",
    "For each question below, provide the Python pandas code and provide a key insight you can get from your answer.\n"
   ]
  },
  {
   "cell_type": "code",
   "execution_count": null,
   "id": "c4b21f2c",
   "metadata": {},
   "outputs": [],
   "source": []
  },
  {
   "cell_type": "markdown",
   "id": "60f6717e",
   "metadata": {},
   "source": []
  },
  {
   "cell_type": "markdown",
   "id": "5630a0e6",
   "metadata": {},
   "source": [
    "## Q1: Identifying Technology Leaders\n",
    "**Business Question:** Which farming communities are leading in technology adoption, and how many of our partner communities have achieved a Technology Adoption Index above 80?\n",
    "\n",
    "**Context:** Understanding technology leaders helps identify best practices for scaling across other communities."
   ]
  },
  {
   "cell_type": "code",
   "execution_count": null,
   "id": "405e994e",
   "metadata": {},
   "outputs": [],
   "source": []
  },
  {
   "cell_type": "code",
   "execution_count": null,
   "id": "dce3d8c1",
   "metadata": {},
   "outputs": [],
   "source": []
  },
  {
   "cell_type": "code",
   "execution_count": null,
   "id": "e00ad56e",
   "metadata": {},
   "outputs": [],
   "source": []
  },
  {
   "cell_type": "markdown",
   "id": "033b9f7e",
   "metadata": {},
   "source": [
    "## Q2: Premium Drone Adoption Analysis\n",
    "**Business Question:** Among large-scale farming operations (over 70 acres), which communities have invested in drone technology, and where are they located?\n",
    "\n",
    "**Context:** Large farms with drone adoption represent high-value clients for advanced agricultural technology partnerships."
   ]
  },
  {
   "cell_type": "code",
   "execution_count": null,
   "id": "3780b479",
   "metadata": {},
   "outputs": [],
   "source": []
  },
  {
   "cell_type": "code",
   "execution_count": null,
   "id": "834e0b9c",
   "metadata": {},
   "outputs": [],
   "source": []
  },
  {
   "cell_type": "code",
   "execution_count": null,
   "id": "ce3e00cb",
   "metadata": {},
   "outputs": [],
   "source": []
  },
  {
   "cell_type": "markdown",
   "id": "a70f1cdc",
   "metadata": {},
   "source": [
    "## Q3: Market Expansion Opportunities\n",
    "**Business Question:** How many farming communities are operating in our priority markets of South Africa and Kenya?\n",
    "\n",
    "**Context:** These countries represent key expansion opportunities for agricultural technology solutions."
   ]
  },
  {
   "cell_type": "code",
   "execution_count": null,
   "id": "78b40f4e",
   "metadata": {},
   "outputs": [],
   "source": []
  },
  {
   "cell_type": "code",
   "execution_count": null,
   "id": "7d5e407d",
   "metadata": {},
   "outputs": [],
   "source": []
  },
  {
   "cell_type": "code",
   "execution_count": null,
   "id": "ce716b94",
   "metadata": {},
   "outputs": [],
   "source": []
  },
  {
   "cell_type": "markdown",
   "id": "db3ddb29",
   "metadata": {},
   "source": [
    "## Q4: Underserved Market Identification\n",
    "**Business Question:** Which countries have small-scale, low-technology farming operations (under 20 acres with Technology Adoption Index below 30) that could benefit from basic technology interventions?\n",
    "\n",
    "**Context:** Small, low-tech farms represent an underserved market segment requiring tailored entry-level solutions.\n"
   ]
  },
  {
   "cell_type": "code",
   "execution_count": null,
   "id": "cb97c37c",
   "metadata": {},
   "outputs": [],
   "source": []
  },
  {
   "cell_type": "code",
   "execution_count": null,
   "id": "0070b9d0",
   "metadata": {},
   "outputs": [],
   "source": []
  },
  {
   "cell_type": "code",
   "execution_count": null,
   "id": "024c0db9",
   "metadata": {},
   "outputs": [],
   "source": []
  },
  {
   "cell_type": "markdown",
   "id": "7e80b23a",
   "metadata": {},
   "source": [
    "## Q5: Sustainable Agriculture Success Stories\n",
    "**Business Question:** Which organic farming communities are achieving high productivity (over 600 annual yield), and what irrigation technologies are they using?\n",
    "\n",
    "**Context:** Successful organic farms demonstrate sustainable practices that can be promoted to environmentally conscious markets."
   ]
  },
  {
   "cell_type": "code",
   "execution_count": null,
   "id": "26a1a5be",
   "metadata": {},
   "outputs": [],
   "source": []
  },
  {
   "cell_type": "code",
   "execution_count": null,
   "id": "033e8b7b",
   "metadata": {},
   "outputs": [],
   "source": []
  },
  {
   "cell_type": "code",
   "execution_count": null,
   "id": "8e571f9e",
   "metadata": {},
   "outputs": [],
   "source": []
  },
  {
   "cell_type": "code",
   "execution_count": null,
   "id": "cb8947df",
   "metadata": {},
   "outputs": [],
   "source": []
  },
  {
   "cell_type": "markdown",
   "id": "aa0ead3e",
   "metadata": {},
   "source": [
    "## Q6: Climate-Smart Agriculture Adoption\n",
    "**Business Question:** In high-rainfall regions (over 1000mm annually), which countries have farming communities that have invested in weather monitoring technology?\n",
    "\n",
    "**Context:** Weather station adoption in high-rainfall areas indicates sophisticated climate risk management practices.\n"
   ]
  },
  {
   "cell_type": "code",
   "execution_count": null,
   "id": "b5fa05e8",
   "metadata": {},
   "outputs": [],
   "source": []
  },
  {
   "cell_type": "code",
   "execution_count": null,
   "id": "eebef9a5",
   "metadata": {},
   "outputs": [],
   "source": []
  },
  {
   "cell_type": "code",
   "execution_count": null,
   "id": "c6b1597d",
   "metadata": {},
   "outputs": [],
   "source": []
  },
  {
   "cell_type": "code",
   "execution_count": null,
   "id": "55d24985",
   "metadata": {},
   "outputs": [],
   "source": []
  },
  {
   "cell_type": "markdown",
   "id": "7edf1caf",
   "metadata": {},
   "source": [
    "## Q7: Entry-Level Market Assessment\n",
    "**Business Question:** Among low-performing farming operations (annual yield under 200), which crop types are most prevalent and may need immediate intervention?\n",
    "\n",
    "**Context:** Low-yield operations represent potential clients for productivity improvement solutions."
   ]
  },
  {
   "cell_type": "code",
   "execution_count": null,
   "id": "7f3e0bc9",
   "metadata": {},
   "outputs": [],
   "source": []
  },
  {
   "cell_type": "code",
   "execution_count": null,
   "id": "a0ceeaff",
   "metadata": {},
   "outputs": [],
   "source": []
  },
  {
   "cell_type": "code",
   "execution_count": null,
   "id": "a83dc1d8",
   "metadata": {},
   "outputs": [],
   "source": []
  },
  {
   "cell_type": "code",
   "execution_count": null,
   "id": "529b0bf1",
   "metadata": {},
   "outputs": [],
   "source": []
  },
  {
   "cell_type": "markdown",
   "id": "a49ecc03",
   "metadata": {},
   "source": [
    "## Q8: Digital Agriculture Penetration\n",
    "**Business Question:** What irrigation methods are most commonly used by digitally-enabled farming communities (those using Mobile Apps or SMS technology)?\n",
    "\n",
    "**Context:** Understanding technology adoption patterns helps design integrated digital agriculture solutions."
   ]
  },
  {
   "cell_type": "code",
   "execution_count": null,
   "id": "5b46dd36",
   "metadata": {},
   "outputs": [],
   "source": []
  },
  {
   "cell_type": "code",
   "execution_count": null,
   "id": "bfc7e1fc",
   "metadata": {},
   "outputs": [],
   "source": []
  },
  {
   "cell_type": "code",
   "execution_count": null,
   "id": "74b9ed9a",
   "metadata": {},
   "outputs": [],
   "source": []
  },
  {
   "cell_type": "markdown",
   "id": "46cf9166",
   "metadata": {},
   "source": [
    "## Q9: Large-Scale Technology Investment Patterns\n",
    "**Business Question:** What is the average technology adoption level among large-scale farming operations (90+ acres), and how does it compare to smaller operations?\n",
    "\n",
    "**Context:** Large farms typically have higher investment capacity and can be early adopters of expensive technologies."
   ]
  },
  {
   "cell_type": "code",
   "execution_count": null,
   "id": "c281767f",
   "metadata": {},
   "outputs": [],
   "source": []
  },
  {
   "cell_type": "code",
   "execution_count": null,
   "id": "3b2e6a6a",
   "metadata": {},
   "outputs": [],
   "source": []
  },
  {
   "cell_type": "code",
   "execution_count": null,
   "id": "1566c17f",
   "metadata": {},
   "outputs": [],
   "source": []
  },
  {
   "cell_type": "code",
   "execution_count": null,
   "id": "bfb4b692",
   "metadata": {},
   "outputs": [],
   "source": []
  },
  {
   "cell_type": "markdown",
   "id": "4fb34736",
   "metadata": {},
   "source": [
    "\n",
    "## Q10: Natural Farming Excellence\n",
    "**Business Question:** What percentage of farming communities achieve high productivity (over 500 annual yield) without using fertilizers, demonstrating natural farming excellence?\n",
    "\n",
    "**Context:** High-performing farms without fertilizer inputs represent efficient operations that could mentor others in sustainable practices.\n"
   ]
  },
  {
   "cell_type": "code",
   "execution_count": null,
   "id": "76287ad6",
   "metadata": {},
   "outputs": [],
   "source": []
  },
  {
   "cell_type": "code",
   "execution_count": null,
   "id": "4c60ad2d",
   "metadata": {},
   "outputs": [],
   "source": []
  },
  {
   "cell_type": "code",
   "execution_count": null,
   "id": "b1a31f3b",
   "metadata": {},
   "outputs": [],
   "source": []
  }
 ],
 "metadata": {
  "language_info": {
   "name": "python"
  }
 },
 "nbformat": 4,
 "nbformat_minor": 5
}
